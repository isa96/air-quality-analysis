{
  "cells": [
    {
      "cell_type": "markdown",
      "metadata": {
        "id": "6WZ6vI6M4YZk"
      },
      "source": [
        "# **Most Polluted Cities and Countries (IQAir Index)**\n",
        "\n",
        "```\n",
        "🚨 Dataset gives the IQAir index for most polluted cities from (2017-2021) 🚨\n",
        "\n",
        "📌 https://www.iqair.com/ 📌 \n",
        "```"
      ]
    },
    {
      "cell_type": "markdown",
      "metadata": {
        "id": "WRiewvWQ2Juq"
      },
      "source": [
        "# **About Dataset**\n",
        "\n",
        "Air pollution is `the contamination of air due to the presence of substances in the atmosphere that are harmful to the health of humans and other living beings, or cause damage to the climate or to materials. `\n",
        "\n",
        "There are many different types of air pollutants, such as \n",
        "\n",
        "* `gases` (including ammonia, carbon monoxide, sulfur dioxide, nitrous oxides, methane, carbon dioxide and chlorofluorocarbons), \n",
        "* `particulates` (both organic and inorganic), and \n",
        "* `biological molecules`. \n",
        "\n",
        "> Air pollution can cause diseases, allergies, and even death to humans; \n",
        "\n",
        "> It can also cause harm to other living organisms such as animals and food crops, and may damage the natural environment (for example, climate change, ozone depletion or habitat degradation) or built environment (for example, acid rain). \n",
        "\n",
        "Both human activity and natural processes can generate air pollution.\n",
        "\n",
        "\n",
        "dataset is scrapped from the [IQAir website](https://www.iqair.com/).\n",
        "\n",
        "almost 6k most polluted cities are covered in it.\n",
        "\n",
        "All values are average.\n",
        "\n"
      ]
    },
    {
      "cell_type": "markdown",
      "metadata": {
        "id": "jWOUkE5U4tdf"
      },
      "source": [
        "# **Import Library**"
      ]
    },
    {
      "cell_type": "code",
      "execution_count": 2,
      "metadata": {
        "colab": {
          "base_uri": "https://localhost:8080/"
        },
        "id": "4FLbN8Fy2BqZ",
        "outputId": "5f5a4ebe-3eb5-43cb-aec6-a96e31233066"
      },
      "outputs": [
        {
          "name": "stdout",
          "output_type": "stream",
          "text": [
            "Looking in indexes: https://pypi.org/simple, https://us-python.pkg.dev/colab-wheels/public/simple/\n",
            "Collecting squarify\n",
            "  Downloading squarify-0.4.3-py3-none-any.whl (4.3 kB)\n",
            "Installing collected packages: squarify\n",
            "Successfully installed squarify-0.4.3\n"
          ]
        }
      ],
      "source": [
        "import pandas as pd\n",
        "import numpy as np\n",
        "import matplotlib.pyplot as plt\n",
        "import seaborn as sns\n",
        "import missingno\n",
        "!pip install squarify\n",
        "import squarify as sq\n",
        "\n",
        "import plotly.express as px\n",
        "import plotly.graph_objs as go\n",
        "import plotly.offline as pyoff\n",
        "import warnings # Ignores any warning\n",
        "warnings.filterwarnings(\"ignore\")"
      ]
    },
    {
      "cell_type": "code",
      "execution_count": 3,
      "metadata": {
        "id": "WnV7PvpERDc7"
      },
      "outputs": [],
      "source": [
        "plt.style.use('seaborn')\n",
        "sns.set(rc={'figure.figsize':(15, 8)})"
      ]
    },
    {
      "cell_type": "code",
      "execution_count": 4,
      "metadata": {
        "id": "ZindLOJSdEgV"
      },
      "outputs": [],
      "source": [
        "pd.set_option('display.max_columns', None)"
      ]
    },
    {
      "cell_type": "code",
      "execution_count": 5,
      "metadata": {
        "colab": {
          "base_uri": "https://localhost:8080/"
        },
        "id": "cstQYntneB6Q",
        "outputId": "035eae10-c888-4ff1-99a3-aef1825f0ac9"
      },
      "outputs": [
        {
          "name": "stdout",
          "output_type": "stream",
          "text": [
            "Mounted at /content/drive\n"
          ]
        }
      ],
      "source": [
        "from google.colab import drive\n",
        "drive.mount('/content/drive')"
      ]
    },
    {
      "cell_type": "markdown",
      "metadata": {
        "id": "wmvX8yaM4xot"
      },
      "source": [
        "# **Load Dataset**"
      ]
    },
    {
      "cell_type": "code",
      "execution_count": 6,
      "metadata": {
        "colab": {
          "base_uri": "https://localhost:8080/",
          "height": 237
        },
        "id": "yttqbCQFCYfy",
        "outputId": "7c00330f-83ff-4dcc-9105-2e107c5c69e3"
      },
      "outputs": [
        {
          "data": {
            "text/html": [
              "\n",
              "  <div id=\"df-a08bfc98-b8d2-4239-8a27-9eb2842e02b9\">\n",
              "    <div class=\"colab-df-container\">\n",
              "      <div>\n",
              "<style scoped>\n",
              "    .dataframe tbody tr th:only-of-type {\n",
              "        vertical-align: middle;\n",
              "    }\n",
              "\n",
              "    .dataframe tbody tr th {\n",
              "        vertical-align: top;\n",
              "    }\n",
              "\n",
              "    .dataframe thead th {\n",
              "        text-align: right;\n",
              "    }\n",
              "</style>\n",
              "<table border=\"1\" class=\"dataframe\">\n",
              "  <thead>\n",
              "    <tr style=\"text-align: right;\">\n",
              "      <th></th>\n",
              "      <th>index</th>\n",
              "      <th>category</th>\n",
              "    </tr>\n",
              "  </thead>\n",
              "  <tbody>\n",
              "    <tr>\n",
              "      <th>0</th>\n",
              "      <td>0-50</td>\n",
              "      <td>Good</td>\n",
              "    </tr>\n",
              "    <tr>\n",
              "      <th>1</th>\n",
              "      <td>51-100</td>\n",
              "      <td>Moderate</td>\n",
              "    </tr>\n",
              "    <tr>\n",
              "      <th>2</th>\n",
              "      <td>101-150</td>\n",
              "      <td>Unhealthy for Sensitive Groups</td>\n",
              "    </tr>\n",
              "    <tr>\n",
              "      <th>3</th>\n",
              "      <td>151-200</td>\n",
              "      <td>Unhealthy</td>\n",
              "    </tr>\n",
              "    <tr>\n",
              "      <th>4</th>\n",
              "      <td>201-300</td>\n",
              "      <td>Very Unhealthy</td>\n",
              "    </tr>\n",
              "    <tr>\n",
              "      <th>5</th>\n",
              "      <td>301-500</td>\n",
              "      <td>Hazardous</td>\n",
              "    </tr>\n",
              "  </tbody>\n",
              "</table>\n",
              "</div>\n",
              "      <button class=\"colab-df-convert\" onclick=\"convertToInteractive('df-a08bfc98-b8d2-4239-8a27-9eb2842e02b9')\"\n",
              "              title=\"Convert this dataframe to an interactive table.\"\n",
              "              style=\"display:none;\">\n",
              "        \n",
              "  <svg xmlns=\"http://www.w3.org/2000/svg\" height=\"24px\"viewBox=\"0 0 24 24\"\n",
              "       width=\"24px\">\n",
              "    <path d=\"M0 0h24v24H0V0z\" fill=\"none\"/>\n",
              "    <path d=\"M18.56 5.44l.94 2.06.94-2.06 2.06-.94-2.06-.94-.94-2.06-.94 2.06-2.06.94zm-11 1L8.5 8.5l.94-2.06 2.06-.94-2.06-.94L8.5 2.5l-.94 2.06-2.06.94zm10 10l.94 2.06.94-2.06 2.06-.94-2.06-.94-.94-2.06-.94 2.06-2.06.94z\"/><path d=\"M17.41 7.96l-1.37-1.37c-.4-.4-.92-.59-1.43-.59-.52 0-1.04.2-1.43.59L10.3 9.45l-7.72 7.72c-.78.78-.78 2.05 0 2.83L4 21.41c.39.39.9.59 1.41.59.51 0 1.02-.2 1.41-.59l7.78-7.78 2.81-2.81c.8-.78.8-2.07 0-2.86zM5.41 20L4 18.59l7.72-7.72 1.47 1.35L5.41 20z\"/>\n",
              "  </svg>\n",
              "      </button>\n",
              "      \n",
              "  <style>\n",
              "    .colab-df-container {\n",
              "      display:flex;\n",
              "      flex-wrap:wrap;\n",
              "      gap: 12px;\n",
              "    }\n",
              "\n",
              "    .colab-df-convert {\n",
              "      background-color: #E8F0FE;\n",
              "      border: none;\n",
              "      border-radius: 50%;\n",
              "      cursor: pointer;\n",
              "      display: none;\n",
              "      fill: #1967D2;\n",
              "      height: 32px;\n",
              "      padding: 0 0 0 0;\n",
              "      width: 32px;\n",
              "    }\n",
              "\n",
              "    .colab-df-convert:hover {\n",
              "      background-color: #E2EBFA;\n",
              "      box-shadow: 0px 1px 2px rgba(60, 64, 67, 0.3), 0px 1px 3px 1px rgba(60, 64, 67, 0.15);\n",
              "      fill: #174EA6;\n",
              "    }\n",
              "\n",
              "    [theme=dark] .colab-df-convert {\n",
              "      background-color: #3B4455;\n",
              "      fill: #D2E3FC;\n",
              "    }\n",
              "\n",
              "    [theme=dark] .colab-df-convert:hover {\n",
              "      background-color: #434B5C;\n",
              "      box-shadow: 0px 1px 3px 1px rgba(0, 0, 0, 0.15);\n",
              "      filter: drop-shadow(0px 1px 2px rgba(0, 0, 0, 0.3));\n",
              "      fill: #FFFFFF;\n",
              "    }\n",
              "  </style>\n",
              "\n",
              "      <script>\n",
              "        const buttonEl =\n",
              "          document.querySelector('#df-a08bfc98-b8d2-4239-8a27-9eb2842e02b9 button.colab-df-convert');\n",
              "        buttonEl.style.display =\n",
              "          google.colab.kernel.accessAllowed ? 'block' : 'none';\n",
              "\n",
              "        async function convertToInteractive(key) {\n",
              "          const element = document.querySelector('#df-a08bfc98-b8d2-4239-8a27-9eb2842e02b9');\n",
              "          const dataTable =\n",
              "            await google.colab.kernel.invokeFunction('convertToInteractive',\n",
              "                                                     [key], {});\n",
              "          if (!dataTable) return;\n",
              "\n",
              "          const docLinkHtml = 'Like what you see? Visit the ' +\n",
              "            '<a target=\"_blank\" href=https://colab.research.google.com/notebooks/data_table.ipynb>data table notebook</a>'\n",
              "            + ' to learn more about interactive tables.';\n",
              "          element.innerHTML = '';\n",
              "          dataTable['output_type'] = 'display_data';\n",
              "          await google.colab.output.renderOutput(dataTable, element);\n",
              "          const docLink = document.createElement('div');\n",
              "          docLink.innerHTML = docLinkHtml;\n",
              "          element.appendChild(docLink);\n",
              "        }\n",
              "      </script>\n",
              "    </div>\n",
              "  </div>\n",
              "  "
            ],
            "text/plain": [
              "     index                        category\n",
              "0     0-50                            Good\n",
              "1   51-100                        Moderate\n",
              "2  101-150  Unhealthy for Sensitive Groups\n",
              "3  151-200                       Unhealthy\n",
              "4  201-300                  Very Unhealthy\n",
              "5  301-500                       Hazardous"
            ]
          },
          "execution_count": 6,
          "metadata": {},
          "output_type": "execute_result"
        }
      ],
      "source": [
        "aqi = {\n",
        "    \"index\":[\"0-50\", \"51-100\", \"101-150\", \"151-200\", \"201-300\", \"301-500\"],\n",
        "    \"category\":[\"Good\",\"Moderate\",\"Unhealthy for Sensitive Groups\",\"Unhealthy\",\"Very Unhealthy\",\"Hazardous\"]\n",
        "}\n",
        "pd.DataFrame(aqi)"
      ]
    },
    {
      "cell_type": "markdown",
      "metadata": {
        "id": "sfTEOt-BCEBd"
      },
      "source": [
        "## **AIR QUALITY INDEX (by cities)**"
      ]
    },
    {
      "cell_type": "code",
      "execution_count": 7,
      "metadata": {
        "colab": {
          "base_uri": "https://localhost:8080/",
          "height": 340
        },
        "id": "vu8AO1Tg41mC",
        "outputId": "d24da462-4cbc-4773-bcf6-4be908b64e4d"
      },
      "outputs": [
        {
          "data": {
            "text/html": [
              "\n",
              "  <div id=\"df-8ecd0bab-9538-44ce-93e2-f50eea557001\">\n",
              "    <div class=\"colab-df-container\">\n",
              "      <div>\n",
              "<style scoped>\n",
              "    .dataframe tbody tr th:only-of-type {\n",
              "        vertical-align: middle;\n",
              "    }\n",
              "\n",
              "    .dataframe tbody tr th {\n",
              "        vertical-align: top;\n",
              "    }\n",
              "\n",
              "    .dataframe thead th {\n",
              "        text-align: right;\n",
              "    }\n",
              "</style>\n",
              "<table border=\"1\" class=\"dataframe\">\n",
              "  <thead>\n",
              "    <tr style=\"text-align: right;\">\n",
              "      <th></th>\n",
              "      <th>Rank</th>\n",
              "      <th>City</th>\n",
              "      <th>2021</th>\n",
              "      <th>JAN(2021)</th>\n",
              "      <th>FEB(2021)</th>\n",
              "      <th>MAR(2021)</th>\n",
              "      <th>APR(2021)</th>\n",
              "      <th>MAY(2021)</th>\n",
              "      <th>JUN(2021)</th>\n",
              "      <th>JUL(2021)</th>\n",
              "      <th>AUG(2021)</th>\n",
              "      <th>SEP(2021)</th>\n",
              "      <th>OCT(2021)</th>\n",
              "      <th>NOV(2021)</th>\n",
              "      <th>DEC(2021)</th>\n",
              "      <th>2020</th>\n",
              "      <th>2019</th>\n",
              "      <th>2018</th>\n",
              "      <th>2017</th>\n",
              "    </tr>\n",
              "  </thead>\n",
              "  <tbody>\n",
              "    <tr>\n",
              "      <th>0</th>\n",
              "      <td>1</td>\n",
              "      <td>Bhiwadi, India</td>\n",
              "      <td>106.2</td>\n",
              "      <td>145.8</td>\n",
              "      <td>129.8</td>\n",
              "      <td>120.2</td>\n",
              "      <td>125.7</td>\n",
              "      <td>86.5</td>\n",
              "      <td>95.9</td>\n",
              "      <td>55.6</td>\n",
              "      <td>55.4</td>\n",
              "      <td>37.1</td>\n",
              "      <td>91.1</td>\n",
              "      <td>188.6</td>\n",
              "      <td>136.6</td>\n",
              "      <td>95.5</td>\n",
              "      <td>83.4</td>\n",
              "      <td>125.4</td>\n",
              "      <td>-</td>\n",
              "    </tr>\n",
              "    <tr>\n",
              "      <th>1</th>\n",
              "      <td>2</td>\n",
              "      <td>Ghaziabad, India</td>\n",
              "      <td>102.0</td>\n",
              "      <td>199.9</td>\n",
              "      <td>172.2</td>\n",
              "      <td>97.8</td>\n",
              "      <td>86.3</td>\n",
              "      <td>52.9</td>\n",
              "      <td>47.2</td>\n",
              "      <td>35.3</td>\n",
              "      <td>37.6</td>\n",
              "      <td>30.8</td>\n",
              "      <td>89.7</td>\n",
              "      <td>218.3</td>\n",
              "      <td>163</td>\n",
              "      <td>106.6</td>\n",
              "      <td>110.2</td>\n",
              "      <td>135.2</td>\n",
              "      <td>144.6</td>\n",
              "    </tr>\n",
              "    <tr>\n",
              "      <th>2</th>\n",
              "      <td>3</td>\n",
              "      <td>Hotan, China</td>\n",
              "      <td>101.5</td>\n",
              "      <td>-</td>\n",
              "      <td>-</td>\n",
              "      <td>158</td>\n",
              "      <td>91.1</td>\n",
              "      <td>167.4</td>\n",
              "      <td>57.4</td>\n",
              "      <td>70.9</td>\n",
              "      <td>93.2</td>\n",
              "      <td>79.3</td>\n",
              "      <td>126.1</td>\n",
              "      <td>111.5</td>\n",
              "      <td>62.6</td>\n",
              "      <td>110.2</td>\n",
              "      <td>110.1</td>\n",
              "      <td>116</td>\n",
              "      <td>91.9</td>\n",
              "    </tr>\n",
              "    <tr>\n",
              "      <th>3</th>\n",
              "      <td>4</td>\n",
              "      <td>Delhi, India</td>\n",
              "      <td>96.4</td>\n",
              "      <td>183.7</td>\n",
              "      <td>142.2</td>\n",
              "      <td>80.5</td>\n",
              "      <td>72.9</td>\n",
              "      <td>47.4</td>\n",
              "      <td>47.1</td>\n",
              "      <td>35.6</td>\n",
              "      <td>36.9</td>\n",
              "      <td>30.2</td>\n",
              "      <td>73.7</td>\n",
              "      <td>224.1</td>\n",
              "      <td>186.4</td>\n",
              "      <td>84.1</td>\n",
              "      <td>98.6</td>\n",
              "      <td>113.5</td>\n",
              "      <td>108.2</td>\n",
              "    </tr>\n",
              "    <tr>\n",
              "      <th>4</th>\n",
              "      <td>5</td>\n",
              "      <td>Jaunpur, India</td>\n",
              "      <td>95.3</td>\n",
              "      <td>182.2</td>\n",
              "      <td>143.5</td>\n",
              "      <td>91</td>\n",
              "      <td>70</td>\n",
              "      <td>51.1</td>\n",
              "      <td>40.7</td>\n",
              "      <td>33.5</td>\n",
              "      <td>34.2</td>\n",
              "      <td>36.8</td>\n",
              "      <td>75.7</td>\n",
              "      <td>196</td>\n",
              "      <td>195.7</td>\n",
              "      <td>-</td>\n",
              "      <td>-</td>\n",
              "      <td>-</td>\n",
              "      <td>-</td>\n",
              "    </tr>\n",
              "  </tbody>\n",
              "</table>\n",
              "</div>\n",
              "      <button class=\"colab-df-convert\" onclick=\"convertToInteractive('df-8ecd0bab-9538-44ce-93e2-f50eea557001')\"\n",
              "              title=\"Convert this dataframe to an interactive table.\"\n",
              "              style=\"display:none;\">\n",
              "        \n",
              "  <svg xmlns=\"http://www.w3.org/2000/svg\" height=\"24px\"viewBox=\"0 0 24 24\"\n",
              "       width=\"24px\">\n",
              "    <path d=\"M0 0h24v24H0V0z\" fill=\"none\"/>\n",
              "    <path d=\"M18.56 5.44l.94 2.06.94-2.06 2.06-.94-2.06-.94-.94-2.06-.94 2.06-2.06.94zm-11 1L8.5 8.5l.94-2.06 2.06-.94-2.06-.94L8.5 2.5l-.94 2.06-2.06.94zm10 10l.94 2.06.94-2.06 2.06-.94-2.06-.94-.94-2.06-.94 2.06-2.06.94z\"/><path d=\"M17.41 7.96l-1.37-1.37c-.4-.4-.92-.59-1.43-.59-.52 0-1.04.2-1.43.59L10.3 9.45l-7.72 7.72c-.78.78-.78 2.05 0 2.83L4 21.41c.39.39.9.59 1.41.59.51 0 1.02-.2 1.41-.59l7.78-7.78 2.81-2.81c.8-.78.8-2.07 0-2.86zM5.41 20L4 18.59l7.72-7.72 1.47 1.35L5.41 20z\"/>\n",
              "  </svg>\n",
              "      </button>\n",
              "      \n",
              "  <style>\n",
              "    .colab-df-container {\n",
              "      display:flex;\n",
              "      flex-wrap:wrap;\n",
              "      gap: 12px;\n",
              "    }\n",
              "\n",
              "    .colab-df-convert {\n",
              "      background-color: #E8F0FE;\n",
              "      border: none;\n",
              "      border-radius: 50%;\n",
              "      cursor: pointer;\n",
              "      display: none;\n",
              "      fill: #1967D2;\n",
              "      height: 32px;\n",
              "      padding: 0 0 0 0;\n",
              "      width: 32px;\n",
              "    }\n",
              "\n",
              "    .colab-df-convert:hover {\n",
              "      background-color: #E2EBFA;\n",
              "      box-shadow: 0px 1px 2px rgba(60, 64, 67, 0.3), 0px 1px 3px 1px rgba(60, 64, 67, 0.15);\n",
              "      fill: #174EA6;\n",
              "    }\n",
              "\n",
              "    [theme=dark] .colab-df-convert {\n",
              "      background-color: #3B4455;\n",
              "      fill: #D2E3FC;\n",
              "    }\n",
              "\n",
              "    [theme=dark] .colab-df-convert:hover {\n",
              "      background-color: #434B5C;\n",
              "      box-shadow: 0px 1px 3px 1px rgba(0, 0, 0, 0.15);\n",
              "      filter: drop-shadow(0px 1px 2px rgba(0, 0, 0, 0.3));\n",
              "      fill: #FFFFFF;\n",
              "    }\n",
              "  </style>\n",
              "\n",
              "      <script>\n",
              "        const buttonEl =\n",
              "          document.querySelector('#df-8ecd0bab-9538-44ce-93e2-f50eea557001 button.colab-df-convert');\n",
              "        buttonEl.style.display =\n",
              "          google.colab.kernel.accessAllowed ? 'block' : 'none';\n",
              "\n",
              "        async function convertToInteractive(key) {\n",
              "          const element = document.querySelector('#df-8ecd0bab-9538-44ce-93e2-f50eea557001');\n",
              "          const dataTable =\n",
              "            await google.colab.kernel.invokeFunction('convertToInteractive',\n",
              "                                                     [key], {});\n",
              "          if (!dataTable) return;\n",
              "\n",
              "          const docLinkHtml = 'Like what you see? Visit the ' +\n",
              "            '<a target=\"_blank\" href=https://colab.research.google.com/notebooks/data_table.ipynb>data table notebook</a>'\n",
              "            + ' to learn more about interactive tables.';\n",
              "          element.innerHTML = '';\n",
              "          dataTable['output_type'] = 'display_data';\n",
              "          await google.colab.output.renderOutput(dataTable, element);\n",
              "          const docLink = document.createElement('div');\n",
              "          docLink.innerHTML = docLinkHtml;\n",
              "          element.appendChild(docLink);\n",
              "        }\n",
              "      </script>\n",
              "    </div>\n",
              "  </div>\n",
              "  "
            ],
            "text/plain": [
              "   Rank              City   2021 JAN(2021) FEB(2021) MAR(2021) APR(2021)  \\\n",
              "0     1    Bhiwadi, India  106.2     145.8     129.8     120.2     125.7   \n",
              "1     2  Ghaziabad, India  102.0     199.9     172.2      97.8      86.3   \n",
              "2     3      Hotan, China  101.5         -         -       158      91.1   \n",
              "3     4      Delhi, India   96.4     183.7     142.2      80.5      72.9   \n",
              "4     5    Jaunpur, India   95.3     182.2     143.5        91        70   \n",
              "\n",
              "  MAY(2021) JUN(2021) JUL(2021) AUG(2021) SEP(2021) OCT(2021) NOV(2021)  \\\n",
              "0      86.5      95.9      55.6      55.4      37.1      91.1     188.6   \n",
              "1      52.9      47.2      35.3      37.6      30.8      89.7     218.3   \n",
              "2     167.4      57.4      70.9      93.2      79.3     126.1     111.5   \n",
              "3      47.4      47.1      35.6      36.9      30.2      73.7     224.1   \n",
              "4      51.1      40.7      33.5      34.2      36.8      75.7       196   \n",
              "\n",
              "  DEC(2021)   2020   2019   2018   2017  \n",
              "0     136.6   95.5   83.4  125.4      -  \n",
              "1       163  106.6  110.2  135.2  144.6  \n",
              "2      62.6  110.2  110.1    116   91.9  \n",
              "3     186.4   84.1   98.6  113.5  108.2  \n",
              "4     195.7      -      -      -      -  "
            ]
          },
          "execution_count": 7,
          "metadata": {},
          "output_type": "execute_result"
        }
      ],
      "source": [
        "# df_aqicty = pd.read_csv(\"/content/AIR QUALITY INDEX (by cities) - IQAir.csv\")\n",
        "df_aqicty = pd.read_csv(\"https://drive.google.com/uc?id=16Dc9poJ_u5eLvTifek4EOvhVm7dnE39Y\")\n",
        "df_aqicty.head()"
      ]
    },
    {
      "cell_type": "markdown",
      "metadata": {
        "id": "cX5gl9TV6YWH"
      },
      "source": [
        "### **Explore Datasets**"
      ]
    },
    {
      "cell_type": "code",
      "execution_count": 8,
      "metadata": {
        "colab": {
          "base_uri": "https://localhost:8080/"
        },
        "id": "u_4_QBj0zAye",
        "outputId": "9d05aca2-2361-41d6-e239-01f91d82f473"
      },
      "outputs": [
        {
          "name": "stdout",
          "output_type": "stream",
          "text": [
            "AIR QUALITY INDEX (by cities)\n",
            "Total rows: 6475\n",
            "Total features\\columns: 19\n"
          ]
        }
      ],
      "source": [
        "print(\"AIR QUALITY INDEX (by cities)\")\n",
        "print('Total rows:', df_aqicty.shape[0])\n",
        "print('Total features\\columns:', df_aqicty.shape[1])"
      ]
    },
    {
      "cell_type": "code",
      "execution_count": 9,
      "metadata": {
        "colab": {
          "base_uri": "https://localhost:8080/"
        },
        "id": "WYPXeYmJzldH",
        "outputId": "146cc77f-f126-415f-80d5-53e73559db5b"
      },
      "outputs": [
        {
          "name": "stdout",
          "output_type": "stream",
          "text": [
            "AIR QUALITY INDEX (by cities)\n",
            "Index(['Rank', 'City', '2021', 'JAN(2021)', 'FEB(2021)', 'MAR(2021)',\n",
            "       'APR(2021)', 'MAY(2021)', 'JUN(2021)', 'JUL(2021)', 'AUG(2021)',\n",
            "       'SEP(2021)', 'OCT(2021)', 'NOV(2021)', 'DEC(2021)', '2020', '2019',\n",
            "       '2018', '2017'],\n",
            "      dtype='object')\n"
          ]
        }
      ],
      "source": [
        "print(\"AIR QUALITY INDEX (by cities)\")\n",
        "print(df_aqicty.columns)"
      ]
    },
    {
      "cell_type": "code",
      "execution_count": 10,
      "metadata": {
        "colab": {
          "base_uri": "https://localhost:8080/"
        },
        "id": "2ffYj5Fs4wxN",
        "outputId": "ffd4c91d-753b-4625-fdfc-330d447a7e45"
      },
      "outputs": [
        {
          "name": "stdout",
          "output_type": "stream",
          "text": [
            "<class 'pandas.core.frame.DataFrame'>\n",
            "RangeIndex: 6475 entries, 0 to 6474\n",
            "Data columns (total 19 columns):\n",
            " #   Column     Non-Null Count  Dtype  \n",
            "---  ------     --------------  -----  \n",
            " 0   Rank       6475 non-null   int64  \n",
            " 1   City       6475 non-null   object \n",
            " 2   2021       6475 non-null   float64\n",
            " 3   JAN(2021)  6475 non-null   object \n",
            " 4   FEB(2021)  6475 non-null   object \n",
            " 5   MAR(2021)  6475 non-null   object \n",
            " 6   APR(2021)  6475 non-null   object \n",
            " 7   MAY(2021)  6475 non-null   object \n",
            " 8   JUN(2021)  6475 non-null   object \n",
            " 9   JUL(2021)  6475 non-null   object \n",
            " 10  AUG(2021)  6475 non-null   object \n",
            " 11  SEP(2021)  6475 non-null   object \n",
            " 12  OCT(2021)  6475 non-null   object \n",
            " 13  NOV(2021)  6475 non-null   object \n",
            " 14  DEC(2021)  6475 non-null   object \n",
            " 15  2020       6475 non-null   object \n",
            " 16  2019       6475 non-null   object \n",
            " 17  2018       6475 non-null   object \n",
            " 18  2017       6475 non-null   object \n",
            "dtypes: float64(1), int64(1), object(17)\n",
            "memory usage: 961.3+ KB\n"
          ]
        }
      ],
      "source": [
        "# get the info of each columns\n",
        "df_aqicty.info()"
      ]
    },
    {
      "cell_type": "code",
      "execution_count": 11,
      "metadata": {
        "colab": {
          "base_uri": "https://localhost:8080/"
        },
        "id": "qYMeEg7qwggb",
        "outputId": "a30b9a7e-5b0c-433c-9594-5fbac6633efa"
      },
      "outputs": [
        {
          "name": "stdout",
          "output_type": "stream",
          "text": [
            "\n",
            "\u001b[1mConclusion:\u001b[0m The dataset consists of 19 numerical & 0 categorical columns.\n"
          ]
        }
      ],
      "source": [
        "#Checking number of unique rows in each feature\n",
        "\n",
        "nu = df_aqicty.nunique().sort_values()\n",
        "nf = []; cf = []; nnf = 0; ncf = 0;  #numerical & categorical features\n",
        "\n",
        "for i in range(df_aqicty.shape[1]):\n",
        "    if nu.values[i]<=16:\n",
        "      cf.append(nu.index[i])\n",
        "      ncf+=1\n",
        "    else: \n",
        "      nf.append(nu.index[i])\n",
        "      nnf+=1\n",
        "\n",
        "print('\\n\\033[1mConclusion:\\033[0m The dataset consists of {} numerical & {} categorical columns.'.format(nnf,ncf))"
      ]
    },
    {
      "cell_type": "markdown",
      "metadata": {
        "id": "ISUf7UbpK9z7"
      },
      "source": [
        "### **Missing Value**"
      ]
    },
    {
      "cell_type": "code",
      "execution_count": 12,
      "metadata": {
        "id": "6-LAhjAHQRXT"
      },
      "outputs": [],
      "source": [
        "# replace - with NaN\n",
        "df_aqicty = df_aqicty.replace(\"-\", np.nan)"
      ]
    },
    {
      "cell_type": "code",
      "execution_count": 13,
      "metadata": {
        "colab": {
          "base_uri": "https://localhost:8080/"
        },
        "id": "FrTIBtLYCyTQ",
        "outputId": "99a15093-81e2-49dd-9f54-e87647170158"
      },
      "outputs": [
        {
          "data": {
            "text/plain": [
              "Rank         False\n",
              "City         False\n",
              "2021         False\n",
              "JAN(2021)     True\n",
              "FEB(2021)     True\n",
              "MAR(2021)     True\n",
              "APR(2021)     True\n",
              "MAY(2021)     True\n",
              "JUN(2021)     True\n",
              "JUL(2021)     True\n",
              "AUG(2021)     True\n",
              "SEP(2021)     True\n",
              "OCT(2021)     True\n",
              "NOV(2021)     True\n",
              "DEC(2021)     True\n",
              "2020          True\n",
              "2019          True\n",
              "2018          True\n",
              "2017          True\n",
              "dtype: bool"
            ]
          },
          "execution_count": 13,
          "metadata": {},
          "output_type": "execute_result"
        }
      ],
      "source": [
        "df_aqicty.isnull().any()"
      ]
    },
    {
      "cell_type": "code",
      "execution_count": 14,
      "metadata": {
        "colab": {
          "base_uri": "https://localhost:8080/"
        },
        "id": "cZHixPHfDuCw",
        "outputId": "a6e7ad55-da7b-4597-ccd4-59871bdcc91a"
      },
      "outputs": [
        {
          "data": {
            "text/plain": [
              "Rank            0\n",
              "City            0\n",
              "2021            0\n",
              "JAN(2021)     671\n",
              "FEB(2021)     574\n",
              "MAR(2021)     193\n",
              "APR(2021)     256\n",
              "MAY(2021)      16\n",
              "JUN(2021)      16\n",
              "JUL(2021)      22\n",
              "AUG(2021)       9\n",
              "SEP(2021)      17\n",
              "OCT(2021)      26\n",
              "NOV(2021)      43\n",
              "DEC(2021)      87\n",
              "2020         2207\n",
              "2019         2422\n",
              "2018         3999\n",
              "2017         4194\n",
              "dtype: int64"
            ]
          },
          "execution_count": 14,
          "metadata": {},
          "output_type": "execute_result"
        }
      ],
      "source": [
        "df_aqicty.isna().sum()"
      ]
    },
    {
      "cell_type": "code",
      "execution_count": 15,
      "metadata": {
        "colab": {
          "base_uri": "https://localhost:8080/"
        },
        "id": "MadHipgKw4r4",
        "outputId": "9429e194-720e-405e-e110-ca092cf58d90"
      },
      "outputs": [
        {
          "name": "stdout",
          "output_type": "stream",
          "text": [
            "           Total Null Values  Percentage\n",
            "Rank                       0    0.000000\n",
            "City                       0    0.000000\n",
            "2021                       0    0.000000\n",
            "AUG(2021)                  9    0.138996\n",
            "JUN(2021)                 16    0.247104\n",
            "MAY(2021)                 16    0.247104\n",
            "SEP(2021)                 17    0.262548\n",
            "JUL(2021)                 22    0.339768\n",
            "OCT(2021)                 26    0.401544\n",
            "NOV(2021)                 43    0.664093\n",
            "DEC(2021)                 87    1.343629\n",
            "MAR(2021)                193    2.980695\n",
            "APR(2021)                256    3.953668\n",
            "FEB(2021)                574    8.864865\n",
            "JAN(2021)                671   10.362934\n",
            "2020                    2207   34.084942\n",
            "2019                    2422   37.405405\n",
            "2018                    3999   61.760618\n",
            "2017                    4194   64.772201\n"
          ]
        }
      ],
      "source": [
        "#Check for empty elements\n",
        "nvc = pd.DataFrame(df_aqicty.isnull().sum().sort_values(), columns=['Total Null Values'])\n",
        "nvc['Percentage'] = (nvc['Total Null Values']/df_aqicty.shape[0])*100\n",
        "print(nvc)"
      ]
    },
    {
      "cell_type": "code",
      "execution_count": 16,
      "metadata": {
        "colab": {
          "base_uri": "https://localhost:8080/",
          "height": 361
        },
        "id": "qDoaQQMVi0Xm",
        "outputId": "24bde6c3-8170-4eee-e240-8ce7a9f6ed37"
      },
      "outputs": [
        {
          "data": {
            "image/png": "[encoded data removed]",
            "text/plain": [
              "<Figure size 720x288 with 3 Axes>"
            ]
          },
          "metadata": {},
          "output_type": "display_data"
        }
      ],
      "source": [
        "# Creating Visualizations for Missing Value\n",
        "mv = pd.DataFrame({\n",
        "    \"Missing Value\" : df_aqicty.isna().sum(),\n",
        "    \"color\" : pd.cut(df_aqicty.isna().sum(), bins=4, labels=[\"#292929\",\"#B12025\",\"#E61E25\",\"indianred\"])\n",
        "})\n",
        "missingno.bar(df_aqicty, fontsize =12, color = mv[\"color\"], figsize = (10,4))\n",
        "plt.show()"
      ]
    },
    {
      "cell_type": "code",
      "execution_count": 17,
      "metadata": {
        "id": "MCnhWqIWyT0N"
      },
      "outputs": [],
      "source": [
        "from sklearn.impute import KNNImputer\n",
        "imputer = KNNImputer(n_neighbors=2)\n",
        "df_aqicty.iloc[:, 2:19] = imputer.fit_transform(df_aqicty.iloc[:, 2:19])"
      ]
    },
    {
      "cell_type": "markdown",
      "metadata": {
        "id": "rc1Iaz15Nt0T"
      },
      "source": [
        "### **Duplicate Value**\n",
        "\n",
        "Tidak ada data duplicate"
      ]
    },
    {
      "cell_type": "code",
      "execution_count": 18,
      "metadata": {
        "colab": {
          "base_uri": "https://localhost:8080/"
        },
        "id": "g5a0RGafN0_f",
        "outputId": "25aba71a-0fff-479f-a614-5674ebd8d08e"
      },
      "outputs": [
        {
          "data": {
            "text/plain": [
              "0"
            ]
          },
          "execution_count": 18,
          "metadata": {},
          "output_type": "execute_result"
        }
      ],
      "source": [
        "df_aqicty.duplicated().sum()"
      ]
    },
    {
      "cell_type": "code",
      "execution_count": 19,
      "metadata": {
        "colab": {
          "base_uri": "https://localhost:8080/",
          "height": 364
        },
        "id": "oQmGwxakQLH5",
        "outputId": "c6ffbc48-5724-4a5d-e655-796584005dcf"
      },
      "outputs": [
        {
          "data": {
            "text/html": [
              "\n",
              "  <div id=\"df-9777e514-055a-41dd-9bd4-1f9525934e03\">\n",
              "    <div class=\"colab-df-container\">\n",
              "      <div>\n",
              "<style scoped>\n",
              "    .dataframe tbody tr th:only-of-type {\n",
              "        vertical-align: middle;\n",
              "    }\n",
              "\n",
              "    .dataframe tbody tr th {\n",
              "        vertical-align: top;\n",
              "    }\n",
              "\n",
              "    .dataframe thead th {\n",
              "        text-align: right;\n",
              "    }\n",
              "</style>\n",
              "<table border=\"1\" class=\"dataframe\">\n",
              "  <thead>\n",
              "    <tr style=\"text-align: right;\">\n",
              "      <th></th>\n",
              "      <th>Rank</th>\n",
              "      <th>2021</th>\n",
              "      <th>JAN(2021)</th>\n",
              "      <th>FEB(2021)</th>\n",
              "      <th>MAR(2021)</th>\n",
              "      <th>APR(2021)</th>\n",
              "      <th>MAY(2021)</th>\n",
              "      <th>JUN(2021)</th>\n",
              "      <th>JUL(2021)</th>\n",
              "      <th>AUG(2021)</th>\n",
              "      <th>SEP(2021)</th>\n",
              "      <th>OCT(2021)</th>\n",
              "      <th>NOV(2021)</th>\n",
              "      <th>DEC(2021)</th>\n",
              "      <th>2020</th>\n",
              "      <th>2019</th>\n",
              "      <th>2018</th>\n",
              "      <th>2017</th>\n",
              "    </tr>\n",
              "  </thead>\n",
              "  <tbody>\n",
              "    <tr>\n",
              "      <th>count</th>\n",
              "      <td>6475.000000</td>\n",
              "      <td>6475.000000</td>\n",
              "      <td>6475.000000</td>\n",
              "      <td>6475.000000</td>\n",
              "      <td>6475.000000</td>\n",
              "      <td>6475.000000</td>\n",
              "      <td>6475.000000</td>\n",
              "      <td>6475.000000</td>\n",
              "      <td>6475.000000</td>\n",
              "      <td>6475.000000</td>\n",
              "      <td>6475.000000</td>\n",
              "      <td>6475.000000</td>\n",
              "      <td>6475.000000</td>\n",
              "      <td>6475.000000</td>\n",
              "      <td>6475.000000</td>\n",
              "      <td>6475.000000</td>\n",
              "      <td>6475.000000</td>\n",
              "      <td>6475.000000</td>\n",
              "    </tr>\n",
              "    <tr>\n",
              "      <th>mean</th>\n",
              "      <td>3238.000000</td>\n",
              "      <td>14.102409</td>\n",
              "      <td>18.331266</td>\n",
              "      <td>17.217475</td>\n",
              "      <td>15.602471</td>\n",
              "      <td>12.755521</td>\n",
              "      <td>10.582680</td>\n",
              "      <td>11.218919</td>\n",
              "      <td>12.661529</td>\n",
              "      <td>14.795707</td>\n",
              "      <td>12.001066</td>\n",
              "      <td>12.005498</td>\n",
              "      <td>15.740402</td>\n",
              "      <td>16.636309</td>\n",
              "      <td>14.140857</td>\n",
              "      <td>14.427583</td>\n",
              "      <td>15.872556</td>\n",
              "      <td>16.473969</td>\n",
              "    </tr>\n",
              "    <tr>\n",
              "      <th>std</th>\n",
              "      <td>1869.315828</td>\n",
              "      <td>10.679395</td>\n",
              "      <td>20.772865</td>\n",
              "      <td>17.428698</td>\n",
              "      <td>16.071893</td>\n",
              "      <td>10.896384</td>\n",
              "      <td>9.767198</td>\n",
              "      <td>8.035775</td>\n",
              "      <td>8.669215</td>\n",
              "      <td>13.798719</td>\n",
              "      <td>8.012287</td>\n",
              "      <td>10.663255</td>\n",
              "      <td>18.984946</td>\n",
              "      <td>18.771464</td>\n",
              "      <td>10.758745</td>\n",
              "      <td>11.893586</td>\n",
              "      <td>13.778880</td>\n",
              "      <td>15.475838</td>\n",
              "    </tr>\n",
              "    <tr>\n",
              "      <th>min</th>\n",
              "      <td>1.000000</td>\n",
              "      <td>1.500000</td>\n",
              "      <td>0.600000</td>\n",
              "      <td>1.400000</td>\n",
              "      <td>1.000000</td>\n",
              "      <td>1.000000</td>\n",
              "      <td>1.000000</td>\n",
              "      <td>1.000000</td>\n",
              "      <td>1.500000</td>\n",
              "      <td>1.600000</td>\n",
              "      <td>1.500000</td>\n",
              "      <td>1.500000</td>\n",
              "      <td>1.100000</td>\n",
              "      <td>1.200000</td>\n",
              "      <td>2.200000</td>\n",
              "      <td>1.900000</td>\n",
              "      <td>2.200000</td>\n",
              "      <td>1.300000</td>\n",
              "    </tr>\n",
              "    <tr>\n",
              "      <th>25%</th>\n",
              "      <td>1619.500000</td>\n",
              "      <td>8.200000</td>\n",
              "      <td>8.000000</td>\n",
              "      <td>7.400000</td>\n",
              "      <td>6.900000</td>\n",
              "      <td>6.500000</td>\n",
              "      <td>5.200000</td>\n",
              "      <td>6.700000</td>\n",
              "      <td>7.500000</td>\n",
              "      <td>7.500000</td>\n",
              "      <td>7.300000</td>\n",
              "      <td>6.300000</td>\n",
              "      <td>7.100000</td>\n",
              "      <td>7.200000</td>\n",
              "      <td>8.250000</td>\n",
              "      <td>7.700000</td>\n",
              "      <td>8.400000</td>\n",
              "      <td>8.400000</td>\n",
              "    </tr>\n",
              "    <tr>\n",
              "      <th>50%</th>\n",
              "      <td>3238.000000</td>\n",
              "      <td>10.700000</td>\n",
              "      <td>11.400000</td>\n",
              "      <td>11.600000</td>\n",
              "      <td>10.500000</td>\n",
              "      <td>9.500000</td>\n",
              "      <td>8.100000</td>\n",
              "      <td>9.400000</td>\n",
              "      <td>10.500000</td>\n",
              "      <td>11.100000</td>\n",
              "      <td>10.100000</td>\n",
              "      <td>8.700000</td>\n",
              "      <td>10.400000</td>\n",
              "      <td>10.700000</td>\n",
              "      <td>10.400000</td>\n",
              "      <td>10.600000</td>\n",
              "      <td>11.350000</td>\n",
              "      <td>11.200000</td>\n",
              "    </tr>\n",
              "    <tr>\n",
              "      <th>75%</th>\n",
              "      <td>4856.500000</td>\n",
              "      <td>15.900000</td>\n",
              "      <td>18.600000</td>\n",
              "      <td>19.700000</td>\n",
              "      <td>16.900000</td>\n",
              "      <td>14.200000</td>\n",
              "      <td>11.800000</td>\n",
              "      <td>12.800000</td>\n",
              "      <td>15.400000</td>\n",
              "      <td>16.600000</td>\n",
              "      <td>14.100000</td>\n",
              "      <td>13.300000</td>\n",
              "      <td>17.700000</td>\n",
              "      <td>17.800000</td>\n",
              "      <td>16.100000</td>\n",
              "      <td>15.625000</td>\n",
              "      <td>17.500000</td>\n",
              "      <td>17.200000</td>\n",
              "    </tr>\n",
              "    <tr>\n",
              "      <th>max</th>\n",
              "      <td>6475.000000</td>\n",
              "      <td>106.200000</td>\n",
              "      <td>225.000000</td>\n",
              "      <td>227.100000</td>\n",
              "      <td>189.100000</td>\n",
              "      <td>125.700000</td>\n",
              "      <td>296.600000</td>\n",
              "      <td>127.300000</td>\n",
              "      <td>197.300000</td>\n",
              "      <td>246.600000</td>\n",
              "      <td>110.800000</td>\n",
              "      <td>126.100000</td>\n",
              "      <td>275.000000</td>\n",
              "      <td>241.700000</td>\n",
              "      <td>110.200000</td>\n",
              "      <td>110.200000</td>\n",
              "      <td>135.800000</td>\n",
              "      <td>145.600000</td>\n",
              "    </tr>\n",
              "  </tbody>\n",
              "</table>\n",
              "</div>\n",
              "      <button class=\"colab-df-convert\" onclick=\"convertToInteractive('df-9777e514-055a-41dd-9bd4-1f9525934e03')\"\n",
              "              title=\"Convert this dataframe to an interactive table.\"\n",
              "              style=\"display:none;\">\n",
              "        \n",
              "  <svg xmlns=\"http://www.w3.org/2000/svg\" height=\"24px\"viewBox=\"0 0 24 24\"\n",
              "       width=\"24px\">\n",
              "    <path d=\"M0 0h24v24H0V0z\" fill=\"none\"/>\n",
              "    <path d=\"M18.56 5.44l.94 2.06.94-2.06 2.06-.94-2.06-.94-.94-2.06-.94 2.06-2.06.94zm-11 1L8.5 8.5l.94-2.06 2.06-.94-2.06-.94L8.5 2.5l-.94 2.06-2.06.94zm10 10l.94 2.06.94-2.06 2.06-.94-2.06-.94-.94-2.06-.94 2.06-2.06.94z\"/><path d=\"M17.41 7.96l-1.37-1.37c-.4-.4-.92-.59-1.43-.59-.52 0-1.04.2-1.43.59L10.3 9.45l-7.72 7.72c-.78.78-.78 2.05 0 2.83L4 21.41c.39.39.9.59 1.41.59.51 0 1.02-.2 1.41-.59l7.78-7.78 2.81-2.81c.8-.78.8-2.07 0-2.86zM5.41 20L4 18.59l7.72-7.72 1.47 1.35L5.41 20z\"/>\n",
              "  </svg>\n",
              "      </button>\n",
              "      \n",
              "  <style>\n",
              "    .colab-df-container {\n",
              "      display:flex;\n",
              "      flex-wrap:wrap;\n",
              "      gap: 12px;\n",
              "    }\n",
              "\n",
              "    .colab-df-convert {\n",
              "      background-color: #E8F0FE;\n",
              "      border: none;\n",
              "      border-radius: 50%;\n",
              "      cursor: pointer;\n",
              "      display: none;\n",
              "      fill: #1967D2;\n",
              "      height: 32px;\n",
              "      padding: 0 0 0 0;\n",
              "      width: 32px;\n",
              "    }\n",
              "\n",
              "    .colab-df-convert:hover {\n",
              "      background-color: #E2EBFA;\n",
              "      box-shadow: 0px 1px 2px rgba(60, 64, 67, 0.3), 0px 1px 3px 1px rgba(60, 64, 67, 0.15);\n",
              "      fill: #174EA6;\n",
              "    }\n",
              "\n",
              "    [theme=dark] .colab-df-convert {\n",
              "      background-color: #3B4455;\n",
              "      fill: #D2E3FC;\n",
              "    }\n",
              "\n",
              "    [theme=dark] .colab-df-convert:hover {\n",
              "      background-color: #434B5C;\n",
              "      box-shadow: 0px 1px 3px 1px rgba(0, 0, 0, 0.15);\n",
              "      filter: drop-shadow(0px 1px 2px rgba(0, 0, 0, 0.3));\n",
              "      fill: #FFFFFF;\n",
              "    }\n",
              "  </style>\n",
              "\n",
              "      <script>\n",
              "        const buttonEl =\n",
              "          document.querySelector('#df-9777e514-055a-41dd-9bd4-1f9525934e03 button.colab-df-convert');\n",
              "        buttonEl.style.display =\n",
              "          google.colab.kernel.accessAllowed ? 'block' : 'none';\n",
              "\n",
              "        async function convertToInteractive(key) {\n",
              "          const element = document.querySelector('#df-9777e514-055a-41dd-9bd4-1f9525934e03');\n",
              "          const dataTable =\n",
              "            await google.colab.kernel.invokeFunction('convertToInteractive',\n",
              "                                                     [key], {});\n",
              "          if (!dataTable) return;\n",
              "\n",
              "          const docLinkHtml = 'Like what you see? Visit the ' +\n",
              "            '<a target=\"_blank\" href=https://colab.research.google.com/notebooks/data_table.ipynb>data table notebook</a>'\n",
              "            + ' to learn more about interactive tables.';\n",
              "          element.innerHTML = '';\n",
              "          dataTable['output_type'] = 'display_data';\n",
              "          await google.colab.output.renderOutput(dataTable, element);\n",
              "          const docLink = document.createElement('div');\n",
              "          docLink.innerHTML = docLinkHtml;\n",
              "          element.appendChild(docLink);\n",
              "        }\n",
              "      </script>\n",
              "    </div>\n",
              "  </div>\n",
              "  "
            ],
            "text/plain": [
              "              Rank         2021    JAN(2021)    FEB(2021)    MAR(2021)  \\\n",
              "count  6475.000000  6475.000000  6475.000000  6475.000000  6475.000000   \n",
              "mean   3238.000000    14.102409    18.331266    17.217475    15.602471   \n",
              "std    1869.315828    10.679395    20.772865    17.428698    16.071893   \n",
              "min       1.000000     1.500000     0.600000     1.400000     1.000000   \n",
              "25%    1619.500000     8.200000     8.000000     7.400000     6.900000   \n",
              "50%    3238.000000    10.700000    11.400000    11.600000    10.500000   \n",
              "75%    4856.500000    15.900000    18.600000    19.700000    16.900000   \n",
              "max    6475.000000   106.200000   225.000000   227.100000   189.100000   \n",
              "\n",
              "         APR(2021)    MAY(2021)    JUN(2021)    JUL(2021)    AUG(2021)  \\\n",
              "count  6475.000000  6475.000000  6475.000000  6475.000000  6475.000000   \n",
              "mean     12.755521    10.582680    11.218919    12.661529    14.795707   \n",
              "std      10.896384     9.767198     8.035775     8.669215    13.798719   \n",
              "min       1.000000     1.000000     1.000000     1.500000     1.600000   \n",
              "25%       6.500000     5.200000     6.700000     7.500000     7.500000   \n",
              "50%       9.500000     8.100000     9.400000    10.500000    11.100000   \n",
              "75%      14.200000    11.800000    12.800000    15.400000    16.600000   \n",
              "max     125.700000   296.600000   127.300000   197.300000   246.600000   \n",
              "\n",
              "         SEP(2021)    OCT(2021)    NOV(2021)    DEC(2021)         2020  \\\n",
              "count  6475.000000  6475.000000  6475.000000  6475.000000  6475.000000   \n",
              "mean     12.001066    12.005498    15.740402    16.636309    14.140857   \n",
              "std       8.012287    10.663255    18.984946    18.771464    10.758745   \n",
              "min       1.500000     1.500000     1.100000     1.200000     2.200000   \n",
              "25%       7.300000     6.300000     7.100000     7.200000     8.250000   \n",
              "50%      10.100000     8.700000    10.400000    10.700000    10.400000   \n",
              "75%      14.100000    13.300000    17.700000    17.800000    16.100000   \n",
              "max     110.800000   126.100000   275.000000   241.700000   110.200000   \n",
              "\n",
              "              2019         2018         2017  \n",
              "count  6475.000000  6475.000000  6475.000000  \n",
              "mean     14.427583    15.872556    16.473969  \n",
              "std      11.893586    13.778880    15.475838  \n",
              "min       1.900000     2.200000     1.300000  \n",
              "25%       7.700000     8.400000     8.400000  \n",
              "50%      10.600000    11.350000    11.200000  \n",
              "75%      15.625000    17.500000    17.200000  \n",
              "max     110.200000   135.800000   145.600000  "
            ]
          },
          "execution_count": 19,
          "metadata": {},
          "output_type": "execute_result"
        }
      ],
      "source": [
        "df_aqicty.describe()"
      ]
    },
    {
      "cell_type": "markdown",
      "metadata": {
        "id": "1Pyg5z-7RMKi"
      },
      "source": [
        "### **Data Preparation**"
      ]
    },
    {
      "cell_type": "code",
      "execution_count": 20,
      "metadata": {
        "id": "_TK25X3w3hYQ"
      },
      "outputs": [],
      "source": [
        "# round decimals\n",
        "num_cols = [i for i in df_aqicty.columns if i not in ['Rank', 'City', 'country', 'city_only']]\n",
        "\n",
        "for i in num_cols:\n",
        "  df_aqicty[i] = df_aqicty[i].round(decimals = 2)"
      ]
    },
    {
      "cell_type": "code",
      "execution_count": 21,
      "metadata": {
        "colab": {
          "base_uri": "https://localhost:8080/",
          "height": 340
        },
        "id": "-RCBMWiyROUY",
        "outputId": "fb5adb56-bcea-4f83-ad76-1ddfdee1b91e"
      },
      "outputs": [
        {
          "data": {
            "text/html": [
              "\n",
              "  <div id=\"df-8e9815df-2fa4-48f5-9a8d-71a4e26a8616\">\n",
              "    <div class=\"colab-df-container\">\n",
              "      <div>\n",
              "<style scoped>\n",
              "    .dataframe tbody tr th:only-of-type {\n",
              "        vertical-align: middle;\n",
              "    }\n",
              "\n",
              "    .dataframe tbody tr th {\n",
              "        vertical-align: top;\n",
              "    }\n",
              "\n",
              "    .dataframe thead th {\n",
              "        text-align: right;\n",
              "    }\n",
              "</style>\n",
              "<table border=\"1\" class=\"dataframe\">\n",
              "  <thead>\n",
              "    <tr style=\"text-align: right;\">\n",
              "      <th></th>\n",
              "      <th>Rank</th>\n",
              "      <th>City</th>\n",
              "      <th>2021</th>\n",
              "      <th>JAN(2021)</th>\n",
              "      <th>FEB(2021)</th>\n",
              "      <th>MAR(2021)</th>\n",
              "      <th>APR(2021)</th>\n",
              "      <th>MAY(2021)</th>\n",
              "      <th>JUN(2021)</th>\n",
              "      <th>JUL(2021)</th>\n",
              "      <th>AUG(2021)</th>\n",
              "      <th>SEP(2021)</th>\n",
              "      <th>OCT(2021)</th>\n",
              "      <th>NOV(2021)</th>\n",
              "      <th>DEC(2021)</th>\n",
              "      <th>2020</th>\n",
              "      <th>2019</th>\n",
              "      <th>2018</th>\n",
              "      <th>2017</th>\n",
              "      <th>country</th>\n",
              "      <th>city_only</th>\n",
              "    </tr>\n",
              "  </thead>\n",
              "  <tbody>\n",
              "    <tr>\n",
              "      <th>0</th>\n",
              "      <td>1</td>\n",
              "      <td>Bhiwadi, India</td>\n",
              "      <td>106.2</td>\n",
              "      <td>145.80</td>\n",
              "      <td>129.8</td>\n",
              "      <td>120.2</td>\n",
              "      <td>125.7</td>\n",
              "      <td>86.5</td>\n",
              "      <td>95.9</td>\n",
              "      <td>55.6</td>\n",
              "      <td>55.4</td>\n",
              "      <td>37.1</td>\n",
              "      <td>91.1</td>\n",
              "      <td>188.6</td>\n",
              "      <td>136.6</td>\n",
              "      <td>95.5</td>\n",
              "      <td>83.40</td>\n",
              "      <td>125.40</td>\n",
              "      <td>134.3</td>\n",
              "      <td>India</td>\n",
              "      <td>Bhiwadi</td>\n",
              "    </tr>\n",
              "    <tr>\n",
              "      <th>1</th>\n",
              "      <td>2</td>\n",
              "      <td>Ghaziabad, India</td>\n",
              "      <td>102.0</td>\n",
              "      <td>199.90</td>\n",
              "      <td>172.2</td>\n",
              "      <td>97.8</td>\n",
              "      <td>86.3</td>\n",
              "      <td>52.9</td>\n",
              "      <td>47.2</td>\n",
              "      <td>35.3</td>\n",
              "      <td>37.6</td>\n",
              "      <td>30.8</td>\n",
              "      <td>89.7</td>\n",
              "      <td>218.3</td>\n",
              "      <td>163.0</td>\n",
              "      <td>106.6</td>\n",
              "      <td>110.20</td>\n",
              "      <td>135.20</td>\n",
              "      <td>144.6</td>\n",
              "      <td>India</td>\n",
              "      <td>Ghaziabad</td>\n",
              "    </tr>\n",
              "    <tr>\n",
              "      <th>2</th>\n",
              "      <td>3</td>\n",
              "      <td>Hotan, China</td>\n",
              "      <td>101.5</td>\n",
              "      <td>89.35</td>\n",
              "      <td>92.5</td>\n",
              "      <td>158.0</td>\n",
              "      <td>91.1</td>\n",
              "      <td>167.4</td>\n",
              "      <td>57.4</td>\n",
              "      <td>70.9</td>\n",
              "      <td>93.2</td>\n",
              "      <td>79.3</td>\n",
              "      <td>126.1</td>\n",
              "      <td>111.5</td>\n",
              "      <td>62.6</td>\n",
              "      <td>110.2</td>\n",
              "      <td>110.10</td>\n",
              "      <td>116.00</td>\n",
              "      <td>91.9</td>\n",
              "      <td>China</td>\n",
              "      <td>Hotan</td>\n",
              "    </tr>\n",
              "    <tr>\n",
              "      <th>3</th>\n",
              "      <td>4</td>\n",
              "      <td>Delhi, India</td>\n",
              "      <td>96.4</td>\n",
              "      <td>183.70</td>\n",
              "      <td>142.2</td>\n",
              "      <td>80.5</td>\n",
              "      <td>72.9</td>\n",
              "      <td>47.4</td>\n",
              "      <td>47.1</td>\n",
              "      <td>35.6</td>\n",
              "      <td>36.9</td>\n",
              "      <td>30.2</td>\n",
              "      <td>73.7</td>\n",
              "      <td>224.1</td>\n",
              "      <td>186.4</td>\n",
              "      <td>84.1</td>\n",
              "      <td>98.60</td>\n",
              "      <td>113.50</td>\n",
              "      <td>108.2</td>\n",
              "      <td>India</td>\n",
              "      <td>Delhi</td>\n",
              "    </tr>\n",
              "    <tr>\n",
              "      <th>4</th>\n",
              "      <td>5</td>\n",
              "      <td>Jaunpur, India</td>\n",
              "      <td>95.3</td>\n",
              "      <td>182.20</td>\n",
              "      <td>143.5</td>\n",
              "      <td>91.0</td>\n",
              "      <td>70.0</td>\n",
              "      <td>51.1</td>\n",
              "      <td>40.7</td>\n",
              "      <td>33.5</td>\n",
              "      <td>34.2</td>\n",
              "      <td>36.8</td>\n",
              "      <td>75.7</td>\n",
              "      <td>196.0</td>\n",
              "      <td>195.7</td>\n",
              "      <td>81.4</td>\n",
              "      <td>98.15</td>\n",
              "      <td>118.55</td>\n",
              "      <td>121.1</td>\n",
              "      <td>India</td>\n",
              "      <td>Jaunpur</td>\n",
              "    </tr>\n",
              "  </tbody>\n",
              "</table>\n",
              "</div>\n",
              "      <button class=\"colab-df-convert\" onclick=\"convertToInteractive('df-8e9815df-2fa4-48f5-9a8d-71a4e26a8616')\"\n",
              "              title=\"Convert this dataframe to an interactive table.\"\n",
              "              style=\"display:none;\">\n",
              "        \n",
              "  <svg xmlns=\"http://www.w3.org/2000/svg\" height=\"24px\"viewBox=\"0 0 24 24\"\n",
              "       width=\"24px\">\n",
              "    <path d=\"M0 0h24v24H0V0z\" fill=\"none\"/>\n",
              "    <path d=\"M18.56 5.44l.94 2.06.94-2.06 2.06-.94-2.06-.94-.94-2.06-.94 2.06-2.06.94zm-11 1L8.5 8.5l.94-2.06 2.06-.94-2.06-.94L8.5 2.5l-.94 2.06-2.06.94zm10 10l.94 2.06.94-2.06 2.06-.94-2.06-.94-.94-2.06-.94 2.06-2.06.94z\"/><path d=\"M17.41 7.96l-1.37-1.37c-.4-.4-.92-.59-1.43-.59-.52 0-1.04.2-1.43.59L10.3 9.45l-7.72 7.72c-.78.78-.78 2.05 0 2.83L4 21.41c.39.39.9.59 1.41.59.51 0 1.02-.2 1.41-.59l7.78-7.78 2.81-2.81c.8-.78.8-2.07 0-2.86zM5.41 20L4 18.59l7.72-7.72 1.47 1.35L5.41 20z\"/>\n",
              "  </svg>\n",
              "      </button>\n",
              "      \n",
              "  <style>\n",
              "    .colab-df-container {\n",
              "      display:flex;\n",
              "      flex-wrap:wrap;\n",
              "      gap: 12px;\n",
              "    }\n",
              "\n",
              "    .colab-df-convert {\n",
              "      background-color: #E8F0FE;\n",
              "      border: none;\n",
              "      border-radius: 50%;\n",
              "      cursor: pointer;\n",
              "      display: none;\n",
              "      fill: #1967D2;\n",
              "      height: 32px;\n",
              "      padding: 0 0 0 0;\n",
              "      width: 32px;\n",
              "    }\n",
              "\n",
              "    .colab-df-convert:hover {\n",
              "      background-color: #E2EBFA;\n",
              "      box-shadow: 0px 1px 2px rgba(60, 64, 67, 0.3), 0px 1px 3px 1px rgba(60, 64, 67, 0.15);\n",
              "      fill: #174EA6;\n",
              "    }\n",
              "\n",
              "    [theme=dark] .colab-df-convert {\n",
              "      background-color: #3B4455;\n",
              "      fill: #D2E3FC;\n",
              "    }\n",
              "\n",
              "    [theme=dark] .colab-df-convert:hover {\n",
              "      background-color: #434B5C;\n",
              "      box-shadow: 0px 1px 3px 1px rgba(0, 0, 0, 0.15);\n",
              "      filter: drop-shadow(0px 1px 2px rgba(0, 0, 0, 0.3));\n",
              "      fill: #FFFFFF;\n",
              "    }\n",
              "  </style>\n",
              "\n",
              "      <script>\n",
              "        const buttonEl =\n",
              "          document.querySelector('#df-8e9815df-2fa4-48f5-9a8d-71a4e26a8616 button.colab-df-convert');\n",
              "        buttonEl.style.display =\n",
              "          google.colab.kernel.accessAllowed ? 'block' : 'none';\n",
              "\n",
              "        async function convertToInteractive(key) {\n",
              "          const element = document.querySelector('#df-8e9815df-2fa4-48f5-9a8d-71a4e26a8616');\n",
              "          const dataTable =\n",
              "            await google.colab.kernel.invokeFunction('convertToInteractive',\n",
              "                                                     [key], {});\n",
              "          if (!dataTable) return;\n",
              "\n",
              "          const docLinkHtml = 'Like what you see? Visit the ' +\n",
              "            '<a target=\"_blank\" href=https://colab.research.google.com/notebooks/data_table.ipynb>data table notebook</a>'\n",
              "            + ' to learn more about interactive tables.';\n",
              "          element.innerHTML = '';\n",
              "          dataTable['output_type'] = 'display_data';\n",
              "          await google.colab.output.renderOutput(dataTable, element);\n",
              "          const docLink = document.createElement('div');\n",
              "          docLink.innerHTML = docLinkHtml;\n",
              "          element.appendChild(docLink);\n",
              "        }\n",
              "      </script>\n",
              "    </div>\n",
              "  </div>\n",
              "  "
            ],
            "text/plain": [
              "   Rank              City   2021  JAN(2021)  FEB(2021)  MAR(2021)  APR(2021)  \\\n",
              "0     1    Bhiwadi, India  106.2     145.80      129.8      120.2      125.7   \n",
              "1     2  Ghaziabad, India  102.0     199.90      172.2       97.8       86.3   \n",
              "2     3      Hotan, China  101.5      89.35       92.5      158.0       91.1   \n",
              "3     4      Delhi, India   96.4     183.70      142.2       80.5       72.9   \n",
              "4     5    Jaunpur, India   95.3     182.20      143.5       91.0       70.0   \n",
              "\n",
              "   MAY(2021)  JUN(2021)  JUL(2021)  AUG(2021)  SEP(2021)  OCT(2021)  \\\n",
              "0       86.5       95.9       55.6       55.4       37.1       91.1   \n",
              "1       52.9       47.2       35.3       37.6       30.8       89.7   \n",
              "2      167.4       57.4       70.9       93.2       79.3      126.1   \n",
              "3       47.4       47.1       35.6       36.9       30.2       73.7   \n",
              "4       51.1       40.7       33.5       34.2       36.8       75.7   \n",
              "\n",
              "   NOV(2021)  DEC(2021)   2020    2019    2018   2017 country  city_only  \n",
              "0      188.6      136.6   95.5   83.40  125.40  134.3   India    Bhiwadi  \n",
              "1      218.3      163.0  106.6  110.20  135.20  144.6   India  Ghaziabad  \n",
              "2      111.5       62.6  110.2  110.10  116.00   91.9   China      Hotan  \n",
              "3      224.1      186.4   84.1   98.60  113.50  108.2   India      Delhi  \n",
              "4      196.0      195.7   81.4   98.15  118.55  121.1   India    Jaunpur  "
            ]
          },
          "execution_count": 21,
          "metadata": {},
          "output_type": "execute_result"
        }
      ],
      "source": [
        "# split country and city\n",
        "df_aqicty['temp'] = df_aqicty['City'].str.split(\",\")\n",
        "df_aqicty['country'] = df_aqicty['temp'].apply(lambda x : x[1].strip())\n",
        "df_aqicty['city_only'] = df_aqicty['temp'].apply(lambda x : x[0].strip())\n",
        "df_aqicty.drop('temp', axis=1, inplace=True)\n",
        "df_aqicty.head()"
      ]
    },
    {
      "cell_type": "code",
      "execution_count": 22,
      "metadata": {
        "colab": {
          "base_uri": "https://localhost:8080/"
        },
        "id": "YFZAojIaSgDe",
        "outputId": "b2920836-7c41-4c7a-f3f9-3c3004dbe720"
      },
      "outputs": [
        {
          "data": {
            "text/plain": [
              "Index(['Rank', 'City', '2021', 'JAN(2021)', 'FEB(2021)', 'MAR(2021)',\n",
              "       'APR(2021)', 'MAY(2021)', 'JUN(2021)', 'JUL(2021)', 'AUG(2021)',\n",
              "       'SEP(2021)', 'OCT(2021)', 'NOV(2021)', 'DEC(2021)', '2020', '2019',\n",
              "       '2018', '2017', 'country', 'city_only'],\n",
              "      dtype='object')"
            ]
          },
          "execution_count": 22,
          "metadata": {},
          "output_type": "execute_result"
        }
      ],
      "source": [
        "df_aqicty.columns"
      ]
    },
    {
      "cell_type": "code",
      "execution_count": 23,
      "metadata": {
        "id": "bWEJidE6SpuZ"
      },
      "outputs": [],
      "source": [
        "# change multiple data types of ct to numeric/ float64\n",
        "df_aqicty.iloc[:, 3:19] = df_aqicty.iloc[:, 3:19].astype(\"float64\")"
      ]
    },
    {
      "cell_type": "code",
      "execution_count": 24,
      "metadata": {
        "colab": {
          "base_uri": "https://localhost:8080/"
        },
        "id": "yZF2suJKSjq1",
        "outputId": "fc6ab184-25a4-4a21-da8b-2a549f2c4b81"
      },
      "outputs": [
        {
          "name": "stdout",
          "output_type": "stream",
          "text": [
            "<class 'pandas.core.frame.DataFrame'>\n",
            "RangeIndex: 6475 entries, 0 to 6474\n",
            "Data columns (total 21 columns):\n",
            " #   Column     Non-Null Count  Dtype  \n",
            "---  ------     --------------  -----  \n",
            " 0   Rank       6475 non-null   int64  \n",
            " 1   City       6475 non-null   object \n",
            " 2   2021       6475 non-null   float64\n",
            " 3   JAN(2021)  6475 non-null   float64\n",
            " 4   FEB(2021)  6475 non-null   float64\n",
            " 5   MAR(2021)  6475 non-null   float64\n",
            " 6   APR(2021)  6475 non-null   float64\n",
            " 7   MAY(2021)  6475 non-null   float64\n",
            " 8   JUN(2021)  6475 non-null   float64\n",
            " 9   JUL(2021)  6475 non-null   float64\n",
            " 10  AUG(2021)  6475 non-null   float64\n",
            " 11  SEP(2021)  6475 non-null   float64\n",
            " 12  OCT(2021)  6475 non-null   float64\n",
            " 13  NOV(2021)  6475 non-null   float64\n",
            " 14  DEC(2021)  6475 non-null   float64\n",
            " 15  2020       6475 non-null   float64\n",
            " 16  2019       6475 non-null   float64\n",
            " 17  2018       6475 non-null   float64\n",
            " 18  2017       6475 non-null   float64\n",
            " 19  country    6475 non-null   object \n",
            " 20  city_only  6475 non-null   object \n",
            "dtypes: float64(17), int64(1), object(3)\n",
            "memory usage: 1.0+ MB\n"
          ]
        }
      ],
      "source": [
        "df_aqicty.info()"
      ]
    },
    {
      "cell_type": "markdown",
      "metadata": {
        "id": "vcFINH5sCRPR"
      },
      "source": [
        "## **AIR QUALITY INDEX (top countries)**"
      ]
    },
    {
      "cell_type": "code",
      "execution_count": 25,
      "metadata": {
        "colab": {
          "base_uri": "https://localhost:8080/",
          "height": 206
        },
        "id": "yNzXahLjCRkT",
        "outputId": "3e9a60c1-6f5e-434c-bd44-d1c62a8d7754"
      },
      "outputs": [
        {
          "data": {
            "text/html": [
              "\n",
              "  <div id=\"df-69b8b5e8-60e5-43f6-9cef-2ec8cffda7f6\">\n",
              "    <div class=\"colab-df-container\">\n",
              "      <div>\n",
              "<style scoped>\n",
              "    .dataframe tbody tr th:only-of-type {\n",
              "        vertical-align: middle;\n",
              "    }\n",
              "\n",
              "    .dataframe tbody tr th {\n",
              "        vertical-align: top;\n",
              "    }\n",
              "\n",
              "    .dataframe thead th {\n",
              "        text-align: right;\n",
              "    }\n",
              "</style>\n",
              "<table border=\"1\" class=\"dataframe\">\n",
              "  <thead>\n",
              "    <tr style=\"text-align: right;\">\n",
              "      <th></th>\n",
              "      <th>Rank</th>\n",
              "      <th>Country/Region</th>\n",
              "      <th>2021</th>\n",
              "      <th>2020</th>\n",
              "      <th>2019</th>\n",
              "      <th>2018</th>\n",
              "      <th>Population</th>\n",
              "    </tr>\n",
              "  </thead>\n",
              "  <tbody>\n",
              "    <tr>\n",
              "      <th>0</th>\n",
              "      <td>1</td>\n",
              "      <td>Bangladesh</td>\n",
              "      <td>76.9</td>\n",
              "      <td>77.1</td>\n",
              "      <td>83.3</td>\n",
              "      <td>97.1</td>\n",
              "      <td>164,689,383</td>\n",
              "    </tr>\n",
              "    <tr>\n",
              "      <th>1</th>\n",
              "      <td>2</td>\n",
              "      <td>Chad</td>\n",
              "      <td>75.9</td>\n",
              "      <td>-</td>\n",
              "      <td>-</td>\n",
              "      <td>-</td>\n",
              "      <td>16,425,859</td>\n",
              "    </tr>\n",
              "    <tr>\n",
              "      <th>2</th>\n",
              "      <td>3</td>\n",
              "      <td>Pakistan</td>\n",
              "      <td>66.8</td>\n",
              "      <td>59</td>\n",
              "      <td>65.8</td>\n",
              "      <td>74.3</td>\n",
              "      <td>220,892,331</td>\n",
              "    </tr>\n",
              "    <tr>\n",
              "      <th>3</th>\n",
              "      <td>4</td>\n",
              "      <td>Tajikistan</td>\n",
              "      <td>59.4</td>\n",
              "      <td>30.9</td>\n",
              "      <td>-</td>\n",
              "      <td>-</td>\n",
              "      <td>9,537,642</td>\n",
              "    </tr>\n",
              "    <tr>\n",
              "      <th>4</th>\n",
              "      <td>5</td>\n",
              "      <td>India</td>\n",
              "      <td>58.1</td>\n",
              "      <td>51.9</td>\n",
              "      <td>58.1</td>\n",
              "      <td>72.5</td>\n",
              "      <td>1,380,004,385</td>\n",
              "    </tr>\n",
              "  </tbody>\n",
              "</table>\n",
              "</div>\n",
              "      <button class=\"colab-df-convert\" onclick=\"convertToInteractive('df-69b8b5e8-60e5-43f6-9cef-2ec8cffda7f6')\"\n",
              "              title=\"Convert this dataframe to an interactive table.\"\n",
              "              style=\"display:none;\">\n",
              "        \n",
              "  <svg xmlns=\"http://www.w3.org/2000/svg\" height=\"24px\"viewBox=\"0 0 24 24\"\n",
              "       width=\"24px\">\n",
              "    <path d=\"M0 0h24v24H0V0z\" fill=\"none\"/>\n",
              "    <path d=\"M18.56 5.44l.94 2.06.94-2.06 2.06-.94-2.06-.94-.94-2.06-.94 2.06-2.06.94zm-11 1L8.5 8.5l.94-2.06 2.06-.94-2.06-.94L8.5 2.5l-.94 2.06-2.06.94zm10 10l.94 2.06.94-2.06 2.06-.94-2.06-.94-.94-2.06-.94 2.06-2.06.94z\"/><path d=\"M17.41 7.96l-1.37-1.37c-.4-.4-.92-.59-1.43-.59-.52 0-1.04.2-1.43.59L10.3 9.45l-7.72 7.72c-.78.78-.78 2.05 0 2.83L4 21.41c.39.39.9.59 1.41.59.51 0 1.02-.2 1.41-.59l7.78-7.78 2.81-2.81c.8-.78.8-2.07 0-2.86zM5.41 20L4 18.59l7.72-7.72 1.47 1.35L5.41 20z\"/>\n",
              "  </svg>\n",
              "      </button>\n",
              "      \n",
              "  <style>\n",
              "    .colab-df-container {\n",
              "      display:flex;\n",
              "      flex-wrap:wrap;\n",
              "      gap: 12px;\n",
              "    }\n",
              "\n",
              "    .colab-df-convert {\n",
              "      background-color: #E8F0FE;\n",
              "      border: none;\n",
              "      border-radius: 50%;\n",
              "      cursor: pointer;\n",
              "      display: none;\n",
              "      fill: #1967D2;\n",
              "      height: 32px;\n",
              "      padding: 0 0 0 0;\n",
              "      width: 32px;\n",
              "    }\n",
              "\n",
              "    .colab-df-convert:hover {\n",
              "      background-color: #E2EBFA;\n",
              "      box-shadow: 0px 1px 2px rgba(60, 64, 67, 0.3), 0px 1px 3px 1px rgba(60, 64, 67, 0.15);\n",
              "      fill: #174EA6;\n",
              "    }\n",
              "\n",
              "    [theme=dark] .colab-df-convert {\n",
              "      background-color: #3B4455;\n",
              "      fill: #D2E3FC;\n",
              "    }\n",
              "\n",
              "    [theme=dark] .colab-df-convert:hover {\n",
              "      background-color: #434B5C;\n",
              "      box-shadow: 0px 1px 3px 1px rgba(0, 0, 0, 0.15);\n",
              "      filter: drop-shadow(0px 1px 2px rgba(0, 0, 0, 0.3));\n",
              "      fill: #FFFFFF;\n",
              "    }\n",
              "  </style>\n",
              "\n",
              "      <script>\n",
              "        const buttonEl =\n",
              "          document.querySelector('#df-69b8b5e8-60e5-43f6-9cef-2ec8cffda7f6 button.colab-df-convert');\n",
              "        buttonEl.style.display =\n",
              "          google.colab.kernel.accessAllowed ? 'block' : 'none';\n",
              "\n",
              "        async function convertToInteractive(key) {\n",
              "          const element = document.querySelector('#df-69b8b5e8-60e5-43f6-9cef-2ec8cffda7f6');\n",
              "          const dataTable =\n",
              "            await google.colab.kernel.invokeFunction('convertToInteractive',\n",
              "                                                     [key], {});\n",
              "          if (!dataTable) return;\n",
              "\n",
              "          const docLinkHtml = 'Like what you see? Visit the ' +\n",
              "            '<a target=\"_blank\" href=https://colab.research.google.com/notebooks/data_table.ipynb>data table notebook</a>'\n",
              "            + ' to learn more about interactive tables.';\n",
              "          element.innerHTML = '';\n",
              "          dataTable['output_type'] = 'display_data';\n",
              "          await google.colab.output.renderOutput(dataTable, element);\n",
              "          const docLink = document.createElement('div');\n",
              "          docLink.innerHTML = docLinkHtml;\n",
              "          element.appendChild(docLink);\n",
              "        }\n",
              "      </script>\n",
              "    </div>\n",
              "  </div>\n",
              "  "
            ],
            "text/plain": [
              "   Rank Country/Region  2021  2020  2019  2018     Population\n",
              "0     1     Bangladesh  76.9  77.1  83.3  97.1    164,689,383\n",
              "1     2           Chad  75.9     -     -     -     16,425,859\n",
              "2     3       Pakistan  66.8    59  65.8  74.3    220,892,331\n",
              "3     4     Tajikistan  59.4  30.9     -     -      9,537,642\n",
              "4     5          India  58.1  51.9  58.1  72.5  1,380,004,385"
            ]
          },
          "execution_count": 25,
          "metadata": {},
          "output_type": "execute_result"
        }
      ],
      "source": [
        "# df_aqitpcr = pd.read_csv(\"/content/AIR QUALITY INDEX- top countries.csv\")\n",
        "df_aqitpcr = pd.read_csv(\"https://drive.google.com/uc?id=151YbNiP47fH0eJS6lTDmilTFoqmsYrmu\")\n",
        "df_aqitpcr.head()"
      ]
    },
    {
      "cell_type": "markdown",
      "metadata": {
        "id": "6xUCowobRndk"
      },
      "source": [
        "### **Explore Datasets**"
      ]
    },
    {
      "cell_type": "code",
      "execution_count": 26,
      "metadata": {
        "colab": {
          "base_uri": "https://localhost:8080/"
        },
        "id": "nzRWmdxdRnd_",
        "outputId": "eccade6c-c093-4011-bc8e-34caef19b558"
      },
      "outputs": [
        {
          "name": "stdout",
          "output_type": "stream",
          "text": [
            "AIR QUALITY INDEX (top countries)\n",
            "Total rows: 118\n",
            "Total features\\columns: 7\n"
          ]
        }
      ],
      "source": [
        "print(\"AIR QUALITY INDEX (top countries)\")\n",
        "print('Total rows:', df_aqitpcr.shape[0])\n",
        "print('Total features\\columns:', df_aqitpcr.shape[1])"
      ]
    },
    {
      "cell_type": "code",
      "execution_count": 27,
      "metadata": {
        "colab": {
          "base_uri": "https://localhost:8080/"
        },
        "id": "VGH01p83RneA",
        "outputId": "ef1ca230-e0a3-4517-b181-e57e3b41a407"
      },
      "outputs": [
        {
          "name": "stdout",
          "output_type": "stream",
          "text": [
            "AIR QUALITY INDEX (top countries)\n",
            "Index(['Rank', 'Country/Region', '2021', '2020', '2019', '2018', 'Population'], dtype='object')\n"
          ]
        }
      ],
      "source": [
        "print(\"AIR QUALITY INDEX (top countries)\")\n",
        "print(df_aqitpcr.columns)"
      ]
    },
    {
      "cell_type": "code",
      "execution_count": 28,
      "metadata": {
        "colab": {
          "base_uri": "https://localhost:8080/"
        },
        "id": "YKrvYGvkRneB",
        "outputId": "35669c82-e297-417c-dec5-94557e2da0ae"
      },
      "outputs": [
        {
          "name": "stdout",
          "output_type": "stream",
          "text": [
            "<class 'pandas.core.frame.DataFrame'>\n",
            "RangeIndex: 118 entries, 0 to 117\n",
            "Data columns (total 7 columns):\n",
            " #   Column          Non-Null Count  Dtype  \n",
            "---  ------          --------------  -----  \n",
            " 0   Rank            118 non-null    int64  \n",
            " 1   Country/Region  118 non-null    object \n",
            " 2   2021            118 non-null    float64\n",
            " 3   2020            118 non-null    object \n",
            " 4   2019            118 non-null    object \n",
            " 5   2018            118 non-null    object \n",
            " 6   Population      118 non-null    object \n",
            "dtypes: float64(1), int64(1), object(5)\n",
            "memory usage: 6.6+ KB\n"
          ]
        }
      ],
      "source": [
        "# get the info of each columns\n",
        "df_aqitpcr.info()"
      ]
    },
    {
      "cell_type": "code",
      "execution_count": 29,
      "metadata": {
        "colab": {
          "base_uri": "https://localhost:8080/"
        },
        "id": "5gFarijeRneB",
        "outputId": "beb1a2b0-e938-4315-bc67-2ef4ccc9b821"
      },
      "outputs": [
        {
          "name": "stdout",
          "output_type": "stream",
          "text": [
            "\n",
            "\u001b[1mConclusion:\u001b[0m The dataset consists of 7 numerical & 0 categorical columns.\n"
          ]
        }
      ],
      "source": [
        "#Checking number of unique rows in each feature\n",
        "\n",
        "nu = df_aqitpcr.nunique().sort_values()\n",
        "nf = []; cf = []; nnf = 0; ncf = 0;  #numerical & categorical features\n",
        "\n",
        "for i in range(df_aqitpcr.shape[1]):\n",
        "    if nu.values[i]<=16:\n",
        "      cf.append(nu.index[i])\n",
        "      ncf+=1\n",
        "    else: \n",
        "      nf.append(nu.index[i])\n",
        "      nnf+=1\n",
        "\n",
        "print('\\n\\033[1mConclusion:\\033[0m The dataset consists of {} numerical & {} categorical columns.'.format(nnf,ncf))"
      ]
    },
    {
      "cell_type": "markdown",
      "metadata": {
        "id": "1iXmNA_0RneC"
      },
      "source": [
        "### **Missing Value**"
      ]
    },
    {
      "cell_type": "code",
      "execution_count": 30,
      "metadata": {
        "id": "Gj3TpMGhRneC"
      },
      "outputs": [],
      "source": [
        "# replace - with NaN\n",
        "df_aqitpcr = df_aqitpcr.replace(\"-\", np.nan)"
      ]
    },
    {
      "cell_type": "code",
      "execution_count": 31,
      "metadata": {
        "colab": {
          "base_uri": "https://localhost:8080/"
        },
        "id": "3qY1F6hTRneD",
        "outputId": "df0d2514-0b9c-433a-df09-afb8e2c337f3"
      },
      "outputs": [
        {
          "data": {
            "text/plain": [
              "Rank              False\n",
              "Country/Region    False\n",
              "2021              False\n",
              "2020               True\n",
              "2019               True\n",
              "2018               True\n",
              "Population        False\n",
              "dtype: bool"
            ]
          },
          "execution_count": 31,
          "metadata": {},
          "output_type": "execute_result"
        }
      ],
      "source": [
        "df_aqitpcr.isnull().any()"
      ]
    },
    {
      "cell_type": "code",
      "execution_count": 32,
      "metadata": {
        "colab": {
          "base_uri": "https://localhost:8080/"
        },
        "id": "OXt6WCdlRneD",
        "outputId": "cb842a8f-afc3-4bc8-d16a-7cd357c5fca5"
      },
      "outputs": [
        {
          "data": {
            "text/plain": [
              "Rank               0\n",
              "Country/Region     0\n",
              "2021               0\n",
              "2020              17\n",
              "2019              27\n",
              "2018              46\n",
              "Population         0\n",
              "dtype: int64"
            ]
          },
          "execution_count": 32,
          "metadata": {},
          "output_type": "execute_result"
        }
      ],
      "source": [
        "df_aqitpcr.isna().sum()"
      ]
    },
    {
      "cell_type": "code",
      "execution_count": 33,
      "metadata": {
        "colab": {
          "base_uri": "https://localhost:8080/"
        },
        "id": "M39rz_JLRneE",
        "outputId": "7f23dbfe-e1d2-45ea-bdf7-235dc39c34e7"
      },
      "outputs": [
        {
          "name": "stdout",
          "output_type": "stream",
          "text": [
            "                Total Null Values  Percentage\n",
            "Rank                            0    0.000000\n",
            "Country/Region                  0    0.000000\n",
            "2021                            0    0.000000\n",
            "Population                      0    0.000000\n",
            "2020                           17   14.406780\n",
            "2019                           27   22.881356\n",
            "2018                           46   38.983051\n"
          ]
        }
      ],
      "source": [
        "#Check for empty elements\n",
        "nvc = pd.DataFrame(df_aqitpcr.isnull().sum().sort_values(), columns=['Total Null Values'])\n",
        "nvc['Percentage'] = (nvc['Total Null Values']/df_aqitpcr.shape[0])*100\n",
        "print(nvc)"
      ]
    },
    {
      "cell_type": "code",
      "execution_count": 34,
      "metadata": {
        "colab": {
          "base_uri": "https://localhost:8080/",
          "height": 375
        },
        "id": "DPw-j-8oRneF",
        "outputId": "d76836a9-a1f2-465d-a57a-c0d9ceb73911"
      },
      "outputs": [
        {
          "data": {
            "image/png": "[encoded data removed]",
            "text/plain": [
              "<Figure size 720x288 with 3 Axes>"
            ]
          },
          "metadata": {},
          "output_type": "display_data"
        }
      ],
      "source": [
        "# Creating Visualizations for Missing Value\n",
        "mv = pd.DataFrame({\n",
        "    \"Missing Value\" : df_aqitpcr.isna().sum(),\n",
        "    \"color\" : pd.cut(df_aqitpcr.isna().sum(), bins=4, labels=[\"#292929\",\"#B12025\",\"#E61E25\",\"indianred\"])\n",
        "})\n",
        "missingno.bar(df_aqitpcr, fontsize =12, color = mv[\"color\"], figsize = (10,4))\n",
        "plt.show()"
      ]
    },
    {
      "cell_type": "markdown",
      "metadata": {
        "id": "0D1XhP1WRneF"
      },
      "source": [
        "### **Duplicate Value**\n",
        "\n",
        "Tidak ada data duplicate"
      ]
    },
    {
      "cell_type": "code",
      "execution_count": 35,
      "metadata": {
        "colab": {
          "base_uri": "https://localhost:8080/"
        },
        "id": "ymFY3tB9RneF",
        "outputId": "6cd194b5-e395-4df1-ec2d-c36fd74c0a6a"
      },
      "outputs": [
        {
          "data": {
            "text/plain": [
              "0"
            ]
          },
          "execution_count": 35,
          "metadata": {},
          "output_type": "execute_result"
        }
      ],
      "source": [
        "df_aqitpcr.duplicated().sum()"
      ]
    },
    {
      "cell_type": "code",
      "execution_count": 36,
      "metadata": {
        "colab": {
          "base_uri": "https://localhost:8080/",
          "height": 300
        },
        "id": "_gwErfnrRneG",
        "outputId": "993489b3-6b2f-4017-86ed-66f0b0b6029f"
      },
      "outputs": [
        {
          "data": {
            "text/html": [
              "\n",
              "  <div id=\"df-ab7d9926-541c-4833-add7-2b23c8eab46a\">\n",
              "    <div class=\"colab-df-container\">\n",
              "      <div>\n",
              "<style scoped>\n",
              "    .dataframe tbody tr th:only-of-type {\n",
              "        vertical-align: middle;\n",
              "    }\n",
              "\n",
              "    .dataframe tbody tr th {\n",
              "        vertical-align: top;\n",
              "    }\n",
              "\n",
              "    .dataframe thead th {\n",
              "        text-align: right;\n",
              "    }\n",
              "</style>\n",
              "<table border=\"1\" class=\"dataframe\">\n",
              "  <thead>\n",
              "    <tr style=\"text-align: right;\">\n",
              "      <th></th>\n",
              "      <th>Rank</th>\n",
              "      <th>2021</th>\n",
              "    </tr>\n",
              "  </thead>\n",
              "  <tbody>\n",
              "    <tr>\n",
              "      <th>count</th>\n",
              "      <td>118.000000</td>\n",
              "      <td>118.000000</td>\n",
              "    </tr>\n",
              "    <tr>\n",
              "      <th>mean</th>\n",
              "      <td>59.500000</td>\n",
              "      <td>21.027119</td>\n",
              "    </tr>\n",
              "    <tr>\n",
              "      <th>std</th>\n",
              "      <td>34.207699</td>\n",
              "      <td>15.023336</td>\n",
              "    </tr>\n",
              "    <tr>\n",
              "      <th>min</th>\n",
              "      <td>1.000000</td>\n",
              "      <td>3.800000</td>\n",
              "    </tr>\n",
              "    <tr>\n",
              "      <th>25%</th>\n",
              "      <td>30.250000</td>\n",
              "      <td>10.725000</td>\n",
              "    </tr>\n",
              "    <tr>\n",
              "      <th>50%</th>\n",
              "      <td>59.500000</td>\n",
              "      <td>16.750000</td>\n",
              "    </tr>\n",
              "    <tr>\n",
              "      <th>75%</th>\n",
              "      <td>88.750000</td>\n",
              "      <td>25.900000</td>\n",
              "    </tr>\n",
              "    <tr>\n",
              "      <th>max</th>\n",
              "      <td>118.000000</td>\n",
              "      <td>76.900000</td>\n",
              "    </tr>\n",
              "  </tbody>\n",
              "</table>\n",
              "</div>\n",
              "      <button class=\"colab-df-convert\" onclick=\"convertToInteractive('df-ab7d9926-541c-4833-add7-2b23c8eab46a')\"\n",
              "              title=\"Convert this dataframe to an interactive table.\"\n",
              "              style=\"display:none;\">\n",
              "        \n",
              "  <svg xmlns=\"http://www.w3.org/2000/svg\" height=\"24px\"viewBox=\"0 0 24 24\"\n",
              "       width=\"24px\">\n",
              "    <path d=\"M0 0h24v24H0V0z\" fill=\"none\"/>\n",
              "    <path d=\"M18.56 5.44l.94 2.06.94-2.06 2.06-.94-2.06-.94-.94-2.06-.94 2.06-2.06.94zm-11 1L8.5 8.5l.94-2.06 2.06-.94-2.06-.94L8.5 2.5l-.94 2.06-2.06.94zm10 10l.94 2.06.94-2.06 2.06-.94-2.06-.94-.94-2.06-.94 2.06-2.06.94z\"/><path d=\"M17.41 7.96l-1.37-1.37c-.4-.4-.92-.59-1.43-.59-.52 0-1.04.2-1.43.59L10.3 9.45l-7.72 7.72c-.78.78-.78 2.05 0 2.83L4 21.41c.39.39.9.59 1.41.59.51 0 1.02-.2 1.41-.59l7.78-7.78 2.81-2.81c.8-.78.8-2.07 0-2.86zM5.41 20L4 18.59l7.72-7.72 1.47 1.35L5.41 20z\"/>\n",
              "  </svg>\n",
              "      </button>\n",
              "      \n",
              "  <style>\n",
              "    .colab-df-container {\n",
              "      display:flex;\n",
              "      flex-wrap:wrap;\n",
              "      gap: 12px;\n",
              "    }\n",
              "\n",
              "    .colab-df-convert {\n",
              "      background-color: #E8F0FE;\n",
              "      border: none;\n",
              "      border-radius: 50%;\n",
              "      cursor: pointer;\n",
              "      display: none;\n",
              "      fill: #1967D2;\n",
              "      height: 32px;\n",
              "      padding: 0 0 0 0;\n",
              "      width: 32px;\n",
              "    }\n",
              "\n",
              "    .colab-df-convert:hover {\n",
              "      background-color: #E2EBFA;\n",
              "      box-shadow: 0px 1px 2px rgba(60, 64, 67, 0.3), 0px 1px 3px 1px rgba(60, 64, 67, 0.15);\n",
              "      fill: #174EA6;\n",
              "    }\n",
              "\n",
              "    [theme=dark] .colab-df-convert {\n",
              "      background-color: #3B4455;\n",
              "      fill: #D2E3FC;\n",
              "    }\n",
              "\n",
              "    [theme=dark] .colab-df-convert:hover {\n",
              "      background-color: #434B5C;\n",
              "      box-shadow: 0px 1px 3px 1px rgba(0, 0, 0, 0.15);\n",
              "      filter: drop-shadow(0px 1px 2px rgba(0, 0, 0, 0.3));\n",
              "      fill: #FFFFFF;\n",
              "    }\n",
              "  </style>\n",
              "\n",
              "      <script>\n",
              "        const buttonEl =\n",
              "          document.querySelector('#df-ab7d9926-541c-4833-add7-2b23c8eab46a button.colab-df-convert');\n",
              "        buttonEl.style.display =\n",
              "          google.colab.kernel.accessAllowed ? 'block' : 'none';\n",
              "\n",
              "        async function convertToInteractive(key) {\n",
              "          const element = document.querySelector('#df-ab7d9926-541c-4833-add7-2b23c8eab46a');\n",
              "          const dataTable =\n",
              "            await google.colab.kernel.invokeFunction('convertToInteractive',\n",
              "                                                     [key], {});\n",
              "          if (!dataTable) return;\n",
              "\n",
              "          const docLinkHtml = 'Like what you see? Visit the ' +\n",
              "            '<a target=\"_blank\" href=https://colab.research.google.com/notebooks/data_table.ipynb>data table notebook</a>'\n",
              "            + ' to learn more about interactive tables.';\n",
              "          element.innerHTML = '';\n",
              "          dataTable['output_type'] = 'display_data';\n",
              "          await google.colab.output.renderOutput(dataTable, element);\n",
              "          const docLink = document.createElement('div');\n",
              "          docLink.innerHTML = docLinkHtml;\n",
              "          element.appendChild(docLink);\n",
              "        }\n",
              "      </script>\n",
              "    </div>\n",
              "  </div>\n",
              "  "
            ],
            "text/plain": [
              "             Rank        2021\n",
              "count  118.000000  118.000000\n",
              "mean    59.500000   21.027119\n",
              "std     34.207699   15.023336\n",
              "min      1.000000    3.800000\n",
              "25%     30.250000   10.725000\n",
              "50%     59.500000   16.750000\n",
              "75%     88.750000   25.900000\n",
              "max    118.000000   76.900000"
            ]
          },
          "execution_count": 36,
          "metadata": {},
          "output_type": "execute_result"
        }
      ],
      "source": [
        "df_aqitpcr.describe()"
      ]
    },
    {
      "cell_type": "markdown",
      "metadata": {
        "id": "K4WnsJG9RneG"
      },
      "source": [
        "### **Data Preparation**"
      ]
    },
    {
      "cell_type": "code",
      "execution_count": 37,
      "metadata": {
        "colab": {
          "base_uri": "https://localhost:8080/"
        },
        "id": "U3dkpoHzT76z",
        "outputId": "d1aa0d4c-b81d-45ad-9a79-692c086ae591"
      },
      "outputs": [
        {
          "data": {
            "text/plain": [
              "Index(['Rank', 'Country/Region', '2021', '2020', '2019', '2018', 'Population'], dtype='object')"
            ]
          },
          "execution_count": 37,
          "metadata": {},
          "output_type": "execute_result"
        }
      ],
      "source": [
        "df_aqitpcr.columns"
      ]
    },
    {
      "cell_type": "code",
      "execution_count": 38,
      "metadata": {
        "id": "NYaZRoBbT40j"
      },
      "outputs": [],
      "source": [
        "# change multiple data types of ct to numeric/ float64\n",
        "df_aqitpcr.iloc[:, 3:6] = df_aqitpcr.iloc[:, 3:6].astype(\"float64\")\n",
        "df_aqitpcr.loc[:, \"Population\"] = df_aqitpcr[\"Population\"].apply(lambda x: x.replace(\",\", \"\"))\n",
        "df_aqitpcr.iloc[:, 6] = df_aqitpcr.iloc[:, 6].astype(\"int64\")"
      ]
    },
    {
      "cell_type": "code",
      "execution_count": 39,
      "metadata": {
        "id": "Y3anVuVC0YpO"
      },
      "outputs": [],
      "source": [
        "from sklearn.impute import KNNImputer\n",
        "imputer = KNNImputer(n_neighbors=2)\n",
        "df_aqitpcr.iloc[:, 2:6] = imputer.fit_transform(df_aqitpcr.iloc[:, 2:6])"
      ]
    },
    {
      "cell_type": "code",
      "execution_count": 40,
      "metadata": {
        "id": "Huv_sIQz4HoR"
      },
      "outputs": [],
      "source": [
        "# round decimals\n",
        "num_cols = [i for i in df_aqitpcr.columns if i not in ['Rank', 'Country/Region', 'Population']]\n",
        "\n",
        "for i in num_cols:\n",
        "  df_aqitpcr[i] = df_aqitpcr[i].round(decimals = 2)"
      ]
    },
    {
      "cell_type": "code",
      "execution_count": 41,
      "metadata": {
        "colab": {
          "base_uri": "https://localhost:8080/",
          "height": 206
        },
        "id": "BRm7IXNjVGxT",
        "outputId": "d1052758-15ed-49a4-a5f2-6f4abec32ab0"
      },
      "outputs": [
        {
          "data": {
            "text/html": [
              "\n",
              "  <div id=\"df-2b51acb6-63d7-44e6-a6f2-f6e74d05f139\">\n",
              "    <div class=\"colab-df-container\">\n",
              "      <div>\n",
              "<style scoped>\n",
              "    .dataframe tbody tr th:only-of-type {\n",
              "        vertical-align: middle;\n",
              "    }\n",
              "\n",
              "    .dataframe tbody tr th {\n",
              "        vertical-align: top;\n",
              "    }\n",
              "\n",
              "    .dataframe thead th {\n",
              "        text-align: right;\n",
              "    }\n",
              "</style>\n",
              "<table border=\"1\" class=\"dataframe\">\n",
              "  <thead>\n",
              "    <tr style=\"text-align: right;\">\n",
              "      <th></th>\n",
              "      <th>Rank</th>\n",
              "      <th>Country/Region</th>\n",
              "      <th>2021</th>\n",
              "      <th>2020</th>\n",
              "      <th>2019</th>\n",
              "      <th>2018</th>\n",
              "      <th>Population</th>\n",
              "    </tr>\n",
              "  </thead>\n",
              "  <tbody>\n",
              "    <tr>\n",
              "      <th>0</th>\n",
              "      <td>1</td>\n",
              "      <td>Bangladesh</td>\n",
              "      <td>76.9</td>\n",
              "      <td>77.10</td>\n",
              "      <td>83.30</td>\n",
              "      <td>97.10</td>\n",
              "      <td>164689383</td>\n",
              "    </tr>\n",
              "    <tr>\n",
              "      <th>1</th>\n",
              "      <td>2</td>\n",
              "      <td>Chad</td>\n",
              "      <td>75.9</td>\n",
              "      <td>68.05</td>\n",
              "      <td>74.55</td>\n",
              "      <td>85.70</td>\n",
              "      <td>16425859</td>\n",
              "    </tr>\n",
              "    <tr>\n",
              "      <th>2</th>\n",
              "      <td>3</td>\n",
              "      <td>Pakistan</td>\n",
              "      <td>66.8</td>\n",
              "      <td>59.00</td>\n",
              "      <td>65.80</td>\n",
              "      <td>74.30</td>\n",
              "      <td>220892331</td>\n",
              "    </tr>\n",
              "    <tr>\n",
              "      <th>3</th>\n",
              "      <td>4</td>\n",
              "      <td>Tajikistan</td>\n",
              "      <td>59.4</td>\n",
              "      <td>30.90</td>\n",
              "      <td>40.00</td>\n",
              "      <td>56.95</td>\n",
              "      <td>9537642</td>\n",
              "    </tr>\n",
              "    <tr>\n",
              "      <th>4</th>\n",
              "      <td>5</td>\n",
              "      <td>India</td>\n",
              "      <td>58.1</td>\n",
              "      <td>51.90</td>\n",
              "      <td>58.10</td>\n",
              "      <td>72.50</td>\n",
              "      <td>1380004385</td>\n",
              "    </tr>\n",
              "  </tbody>\n",
              "</table>\n",
              "</div>\n",
              "      <button class=\"colab-df-convert\" onclick=\"convertToInteractive('df-2b51acb6-63d7-44e6-a6f2-f6e74d05f139')\"\n",
              "              title=\"Convert this dataframe to an interactive table.\"\n",
              "              style=\"display:none;\">\n",
              "        \n",
              "  <svg xmlns=\"http://www.w3.org/2000/svg\" height=\"24px\"viewBox=\"0 0 24 24\"\n",
              "       width=\"24px\">\n",
              "    <path d=\"M0 0h24v24H0V0z\" fill=\"none\"/>\n",
              "    <path d=\"M18.56 5.44l.94 2.06.94-2.06 2.06-.94-2.06-.94-.94-2.06-.94 2.06-2.06.94zm-11 1L8.5 8.5l.94-2.06 2.06-.94-2.06-.94L8.5 2.5l-.94 2.06-2.06.94zm10 10l.94 2.06.94-2.06 2.06-.94-2.06-.94-.94-2.06-.94 2.06-2.06.94z\"/><path d=\"M17.41 7.96l-1.37-1.37c-.4-.4-.92-.59-1.43-.59-.52 0-1.04.2-1.43.59L10.3 9.45l-7.72 7.72c-.78.78-.78 2.05 0 2.83L4 21.41c.39.39.9.59 1.41.59.51 0 1.02-.2 1.41-.59l7.78-7.78 2.81-2.81c.8-.78.8-2.07 0-2.86zM5.41 20L4 18.59l7.72-7.72 1.47 1.35L5.41 20z\"/>\n",
              "  </svg>\n",
              "      </button>\n",
              "      \n",
              "  <style>\n",
              "    .colab-df-container {\n",
              "      display:flex;\n",
              "      flex-wrap:wrap;\n",
              "      gap: 12px;\n",
              "    }\n",
              "\n",
              "    .colab-df-convert {\n",
              "      background-color: #E8F0FE;\n",
              "      border: none;\n",
              "      border-radius: 50%;\n",
              "      cursor: pointer;\n",
              "      display: none;\n",
              "      fill: #1967D2;\n",
              "      height: 32px;\n",
              "      padding: 0 0 0 0;\n",
              "      width: 32px;\n",
              "    }\n",
              "\n",
              "    .colab-df-convert:hover {\n",
              "      background-color: #E2EBFA;\n",
              "      box-shadow: 0px 1px 2px rgba(60, 64, 67, 0.3), 0px 1px 3px 1px rgba(60, 64, 67, 0.15);\n",
              "      fill: #174EA6;\n",
              "    }\n",
              "\n",
              "    [theme=dark] .colab-df-convert {\n",
              "      background-color: #3B4455;\n",
              "      fill: #D2E3FC;\n",
              "    }\n",
              "\n",
              "    [theme=dark] .colab-df-convert:hover {\n",
              "      background-color: #434B5C;\n",
              "      box-shadow: 0px 1px 3px 1px rgba(0, 0, 0, 0.15);\n",
              "      filter: drop-shadow(0px 1px 2px rgba(0, 0, 0, 0.3));\n",
              "      fill: #FFFFFF;\n",
              "    }\n",
              "  </style>\n",
              "\n",
              "      <script>\n",
              "        const buttonEl =\n",
              "          document.querySelector('#df-2b51acb6-63d7-44e6-a6f2-f6e74d05f139 button.colab-df-convert');\n",
              "        buttonEl.style.display =\n",
              "          google.colab.kernel.accessAllowed ? 'block' : 'none';\n",
              "\n",
              "        async function convertToInteractive(key) {\n",
              "          const element = document.querySelector('#df-2b51acb6-63d7-44e6-a6f2-f6e74d05f139');\n",
              "          const dataTable =\n",
              "            await google.colab.kernel.invokeFunction('convertToInteractive',\n",
              "                                                     [key], {});\n",
              "          if (!dataTable) return;\n",
              "\n",
              "          const docLinkHtml = 'Like what you see? Visit the ' +\n",
              "            '<a target=\"_blank\" href=https://colab.research.google.com/notebooks/data_table.ipynb>data table notebook</a>'\n",
              "            + ' to learn more about interactive tables.';\n",
              "          element.innerHTML = '';\n",
              "          dataTable['output_type'] = 'display_data';\n",
              "          await google.colab.output.renderOutput(dataTable, element);\n",
              "          const docLink = document.createElement('div');\n",
              "          docLink.innerHTML = docLinkHtml;\n",
              "          element.appendChild(docLink);\n",
              "        }\n",
              "      </script>\n",
              "    </div>\n",
              "  </div>\n",
              "  "
            ],
            "text/plain": [
              "   Rank Country/Region  2021   2020   2019   2018  Population\n",
              "0     1     Bangladesh  76.9  77.10  83.30  97.10   164689383\n",
              "1     2           Chad  75.9  68.05  74.55  85.70    16425859\n",
              "2     3       Pakistan  66.8  59.00  65.80  74.30   220892331\n",
              "3     4     Tajikistan  59.4  30.90  40.00  56.95     9537642\n",
              "4     5          India  58.1  51.90  58.10  72.50  1380004385"
            ]
          },
          "execution_count": 41,
          "metadata": {},
          "output_type": "execute_result"
        }
      ],
      "source": [
        "df_aqitpcr.head()"
      ]
    },
    {
      "cell_type": "code",
      "execution_count": 42,
      "metadata": {
        "colab": {
          "base_uri": "https://localhost:8080/"
        },
        "id": "zsXipUJcT406",
        "outputId": "02672078-c41f-438d-cd85-32a87c4100b9"
      },
      "outputs": [
        {
          "name": "stdout",
          "output_type": "stream",
          "text": [
            "<class 'pandas.core.frame.DataFrame'>\n",
            "RangeIndex: 118 entries, 0 to 117\n",
            "Data columns (total 7 columns):\n",
            " #   Column          Non-Null Count  Dtype  \n",
            "---  ------          --------------  -----  \n",
            " 0   Rank            118 non-null    int64  \n",
            " 1   Country/Region  118 non-null    object \n",
            " 2   2021            118 non-null    float64\n",
            " 3   2020            118 non-null    float64\n",
            " 4   2019            118 non-null    float64\n",
            " 5   2018            118 non-null    float64\n",
            " 6   Population      118 non-null    int64  \n",
            "dtypes: float64(4), int64(2), object(1)\n",
            "memory usage: 6.6+ KB\n"
          ]
        }
      ],
      "source": [
        "df_aqitpcr.info()"
      ]
    },
    {
      "cell_type": "markdown",
      "metadata": {
        "id": "2uoAsX8i7_ii"
      },
      "source": [
        "## **Save Data Clean**"
      ]
    },
    {
      "cell_type": "code",
      "execution_count": 43,
      "metadata": {
        "id": "xwJO2kY7JQDw"
      },
      "outputs": [],
      "source": [
        "df_aqicty.reset_index(inplace = True, drop = True)\n",
        "df_aqitpcr.reset_index(inplace = True, drop = True)"
      ]
    },
    {
      "cell_type": "code",
      "execution_count": 44,
      "metadata": {
        "id": "1BW765elJUeL"
      },
      "outputs": [],
      "source": [
        "df_aqicty.to_csv('Clean - AIR QUALITY INDEX (by cities).csv', index=False)\n",
        "df_aqicty.to_csv('/content/drive/MyDrive/Colab Notebooks/Data Science   Data Analyst/DQLab Tetris Program 2.0/Capstone Project/Data/Most Polluted Cities and Countries (IQAir Index)/Clean - AIR QUALITY INDEX (by cities).csv', index=False)"
      ]
    },
    {
      "cell_type": "code",
      "execution_count": 45,
      "metadata": {
        "id": "OehCyVSFQqzz"
      },
      "outputs": [],
      "source": [
        "df_aqitpcr.to_csv('Clean - AIR QUALITY INDEX- top countries.csv', index=False)\n",
        "df_aqitpcr.to_csv('/content/drive/MyDrive/Colab Notebooks/Data Science   Data Analyst/DQLab Tetris Program 2.0/Capstone Project/Data/Most Polluted Cities and Countries (IQAir Index)/Clean - AIR QUALITY INDEX- top countries.csv', index=False)"
      ]
    },
    {
      "cell_type": "markdown",
      "metadata": {
        "id": "NodA2VSiZ76D"
      },
      "source": [
        "# **Exploratory Data Analysis**"
      ]
    },
    {
      "cell_type": "code",
      "execution_count": 63,
      "metadata": {
        "colab": {
          "base_uri": "https://localhost:8080/",
          "height": 717
        },
        "id": "4DY-Z_vvZ9eF",
        "outputId": "3dc14b21-c44d-4315-81f4-4bcbc81f0331"
      },
      "outputs": [
        {
          "data": {
            "text/html": [
              "<html>\n",
              "<head><meta charset=\"utf-8\" /></head>\n",
              "<body>\n",
              "    <div>            <script src=\"https://cdnjs.cloudflare.com/ajax/libs/mathjax/2.7.5/MathJax.js?config=TeX-AMS-MML_SVG\"></script><script type=\"text/javascript\">if (window.MathJax) {MathJax.Hub.Config({SVG: {font: \"STIX-Web\"}});}</script>                <script type=\"text/javascript\">window.PlotlyConfig = {MathJaxConfig: 'local'};</script>\n",
              "        <script src=\"https://cdn.plot.ly/plotly-2.8.3.min.js\"></script>                <div id=\"1f24343d-5e43-4c9a-91c1-38679f77814e\" class=\"plotly-graph-div\" style=\"height:700px; width:100%;\"></div>            <script type=\"text/javascript\">                                    window.PLOTLYENV=window.PLOTLYENV || {};                                    if (document.getElementById(\"1f24343d-5e43-4c9a-91c1-38679f77814e\")) {                    Plotly.newPlot(                        \"1f24343d-5e43-4c9a-91c1-38679f77814e\",                        [{\"alignmentgroup\":\"True\",\"customdata\":[[1,164689383],[2,16425859],[3,220892331],[4,9537642],[5,1380004385],[6,5106622],[7,6524191],[8,1701583],[9,40222503],[10,29136808],[11,43849269],[12,33469199],[13,2881060],[14,38928341],[15,9890400],[16,628062],[17,273523621],[18,206139587],[19,2963234],[20,3278292]],\"hovertemplate\":\"Country/Region=%{y}<br>2021=%{marker.color}<br>Rank=%{customdata[0]}<br>Population=%{customdata[1]}<extra></extra>\",\"legendgroup\":\"\",\"marker\":{\"color\":[76.9,75.9,66.8,59.4,58.1,53.9,50.8,49.8,49.7,46.0,44.1,42.8,38.2,37.5,36.0,35.2,34.3,34.0,33.9,33.1],\"coloraxis\":\"coloraxis\",\"pattern\":{\"shape\":\"\"}},\"name\":\"\",\"offsetgroup\":\"\",\"orientation\":\"h\",\"showlegend\":false,\"text\":[76.9,75.9,66.8,59.4,58.1,53.9,50.8,49.8,49.7,46.0,44.1,42.8,38.2,37.5,36.0,35.2,34.3,34.0,33.9,33.1],\"textposition\":\"auto\",\"x\":[20,19,18,17,16,15,14,13,12,11,10,9,8,7,6,5,4,3,2,1],\"xaxis\":\"x\",\"y\":[\"Bangladesh\",\"Chad\",\"Pakistan\",\"Tajikistan\",\"India\",\"Oman\",\"Kyrgyzstan\",\"Bahrain\",\"Iraq\",\"Nepal\",\"Sudan\",\"Uzbekistan\",\"Qatar\",\"Afghanistan\",\"United Arab Emirates\",\"Montenegro\",\"Indonesia\",\"Nigeria\",\"Armenia\",\"Mongolia\"],\"yaxis\":\"y\",\"type\":\"bar\"}],                        {\"template\":{\"data\":{\"bar\":[{\"error_x\":{\"color\":\"#2a3f5f\"},\"error_y\":{\"color\":\"#2a3f5f\"},\"marker\":{\"line\":{\"color\":\"#E5ECF6\",\"width\":0.5},\"pattern\":{\"fillmode\":\"overlay\",\"size\":10,\"solidity\":0.2}},\"type\":\"bar\"}],\"barpolar\":[{\"marker\":{\"line\":{\"color\":\"#E5ECF6\",\"width\":0.5},\"pattern\":{\"fillmode\":\"overlay\",\"size\":10,\"solidity\":0.2}},\"type\":\"barpolar\"}],\"carpet\":[{\"aaxis\":{\"endlinecolor\":\"#2a3f5f\",\"gridcolor\":\"white\",\"linecolor\":\"white\",\"minorgridcolor\":\"white\",\"startlinecolor\":\"#2a3f5f\"},\"baxis\":{\"endlinecolor\":\"#2a3f5f\",\"gridcolor\":\"white\",\"linecolor\":\"white\",\"minorgridcolor\":\"white\",\"startlinecolor\":\"#2a3f5f\"},\"type\":\"carpet\"}],\"choropleth\":[{\"colorbar\":{\"outlinewidth\":0,\"ticks\":\"\"},\"type\":\"choropleth\"}],\"contour\":[{\"colorbar\":{\"outlinewidth\":0,\"ticks\":\"\"},\"colorscale\":[[0.0,\"#0d0887\"],[0.1111111111111111,\"#46039f\"],[0.2222222222222222,\"#7201a8\"],[0.3333333333333333,\"#9c179e\"],[0.4444444444444444,\"#bd3786\"],[0.5555555555555556,\"#d8576b\"],[0.6666666666666666,\"#ed7953\"],[0.7777777777777778,\"#fb9f3a\"],[0.8888888888888888,\"#fdca26\"],[1.0,\"#f0f921\"]],\"type\":\"contour\"}],\"contourcarpet\":[{\"colorbar\":{\"outlinewidth\":0,\"ticks\":\"\"},\"type\":\"contourcarpet\"}],\"heatmap\":[{\"colorbar\":{\"outlinewidth\":0,\"ticks\":\"\"},\"colorscale\":[[0.0,\"#0d0887\"],[0.1111111111111111,\"#46039f\"],[0.2222222222222222,\"#7201a8\"],[0.3333333333333333,\"#9c179e\"],[0.4444444444444444,\"#bd3786\"],[0.5555555555555556,\"#d8576b\"],[0.6666666666666666,\"#ed7953\"],[0.7777777777777778,\"#fb9f3a\"],[0.8888888888888888,\"#fdca26\"],[1.0,\"#f0f921\"]],\"type\":\"heatmap\"}],\"heatmapgl\":[{\"colorbar\":{\"outlinewidth\":0,\"ticks\":\"\"},\"colorscale\":[[0.0,\"#0d0887\"],[0.1111111111111111,\"#46039f\"],[0.2222222222222222,\"#7201a8\"],[0.3333333333333333,\"#9c179e\"],[0.4444444444444444,\"#bd3786\"],[0.5555555555555556,\"#d8576b\"],[0.6666666666666666,\"#ed7953\"],[0.7777777777777778,\"#fb9f3a\"],[0.8888888888888888,\"#fdca26\"],[1.0,\"#f0f921\"]],\"type\":\"heatmapgl\"}],\"histogram\":[{\"marker\":{\"pattern\":{\"fillmode\":\"overlay\",\"size\":10,\"solidity\":0.2}},\"type\":\"histogram\"}],\"histogram2d\":[{\"colorbar\":{\"outlinewidth\":0,\"ticks\":\"\"},\"colorscale\":[[0.0,\"#0d0887\"],[0.1111111111111111,\"#46039f\"],[0.2222222222222222,\"#7201a8\"],[0.3333333333333333,\"#9c179e\"],[0.4444444444444444,\"#bd3786\"],[0.5555555555555556,\"#d8576b\"],[0.6666666666666666,\"#ed7953\"],[0.7777777777777778,\"#fb9f3a\"],[0.8888888888888888,\"#fdca26\"],[1.0,\"#f0f921\"]],\"type\":\"histogram2d\"}],\"histogram2dcontour\":[{\"colorbar\":{\"outlinewidth\":0,\"ticks\":\"\"},\"colorscale\":[[0.0,\"#0d0887\"],[0.1111111111111111,\"#46039f\"],[0.2222222222222222,\"#7201a8\"],[0.3333333333333333,\"#9c179e\"],[0.4444444444444444,\"#bd3786\"],[0.5555555555555556,\"#d8576b\"],[0.6666666666666666,\"#ed7953\"],[0.7777777777777778,\"#fb9f3a\"],[0.8888888888888888,\"#fdca26\"],[1.0,\"#f0f921\"]],\"type\":\"histogram2dcontour\"}],\"mesh3d\":[{\"colorbar\":{\"outlinewidth\":0,\"ticks\":\"\"},\"type\":\"mesh3d\"}],\"parcoords\":[{\"line\":{\"colorbar\":{\"outlinewidth\":0,\"ticks\":\"\"}},\"type\":\"parcoords\"}],\"pie\":[{\"automargin\":true,\"type\":\"pie\"}],\"scatter\":[{\"marker\":{\"colorbar\":{\"outlinewidth\":0,\"ticks\":\"\"}},\"type\":\"scatter\"}],\"scatter3d\":[{\"line\":{\"colorbar\":{\"outlinewidth\":0,\"ticks\":\"\"}},\"marker\":{\"colorbar\":{\"outlinewidth\":0,\"ticks\":\"\"}},\"type\":\"scatter3d\"}],\"scattercarpet\":[{\"marker\":{\"colorbar\":{\"outlinewidth\":0,\"ticks\":\"\"}},\"type\":\"scattercarpet\"}],\"scattergeo\":[{\"marker\":{\"colorbar\":{\"outlinewidth\":0,\"ticks\":\"\"}},\"type\":\"scattergeo\"}],\"scattergl\":[{\"marker\":{\"colorbar\":{\"outlinewidth\":0,\"ticks\":\"\"}},\"type\":\"scattergl\"}],\"scattermapbox\":[{\"marker\":{\"colorbar\":{\"outlinewidth\":0,\"ticks\":\"\"}},\"type\":\"scattermapbox\"}],\"scatterpolar\":[{\"marker\":{\"colorbar\":{\"outlinewidth\":0,\"ticks\":\"\"}},\"type\":\"scatterpolar\"}],\"scatterpolargl\":[{\"marker\":{\"colorbar\":{\"outlinewidth\":0,\"ticks\":\"\"}},\"type\":\"scatterpolargl\"}],\"scatterternary\":[{\"marker\":{\"colorbar\":{\"outlinewidth\":0,\"ticks\":\"\"}},\"type\":\"scatterternary\"}],\"surface\":[{\"colorbar\":{\"outlinewidth\":0,\"ticks\":\"\"},\"colorscale\":[[0.0,\"#0d0887\"],[0.1111111111111111,\"#46039f\"],[0.2222222222222222,\"#7201a8\"],[0.3333333333333333,\"#9c179e\"],[0.4444444444444444,\"#bd3786\"],[0.5555555555555556,\"#d8576b\"],[0.6666666666666666,\"#ed7953\"],[0.7777777777777778,\"#fb9f3a\"],[0.8888888888888888,\"#fdca26\"],[1.0,\"#f0f921\"]],\"type\":\"surface\"}],\"table\":[{\"cells\":{\"fill\":{\"color\":\"#EBF0F8\"},\"line\":{\"color\":\"white\"}},\"header\":{\"fill\":{\"color\":\"#C8D4E3\"},\"line\":{\"color\":\"white\"}},\"type\":\"table\"}]},\"layout\":{\"annotationdefaults\":{\"arrowcolor\":\"#2a3f5f\",\"arrowhead\":0,\"arrowwidth\":1},\"autotypenumbers\":\"strict\",\"coloraxis\":{\"colorbar\":{\"outlinewidth\":0,\"ticks\":\"\"}},\"colorscale\":{\"diverging\":[[0,\"#8e0152\"],[0.1,\"#c51b7d\"],[0.2,\"#de77ae\"],[0.3,\"#f1b6da\"],[0.4,\"#fde0ef\"],[0.5,\"#f7f7f7\"],[0.6,\"#e6f5d0\"],[0.7,\"#b8e186\"],[0.8,\"#7fbc41\"],[0.9,\"#4d9221\"],[1,\"#276419\"]],\"sequential\":[[0.0,\"#0d0887\"],[0.1111111111111111,\"#46039f\"],[0.2222222222222222,\"#7201a8\"],[0.3333333333333333,\"#9c179e\"],[0.4444444444444444,\"#bd3786\"],[0.5555555555555556,\"#d8576b\"],[0.6666666666666666,\"#ed7953\"],[0.7777777777777778,\"#fb9f3a\"],[0.8888888888888888,\"#fdca26\"],[1.0,\"#f0f921\"]],\"sequentialminus\":[[0.0,\"#0d0887\"],[0.1111111111111111,\"#46039f\"],[0.2222222222222222,\"#7201a8\"],[0.3333333333333333,\"#9c179e\"],[0.4444444444444444,\"#bd3786\"],[0.5555555555555556,\"#d8576b\"],[0.6666666666666666,\"#ed7953\"],[0.7777777777777778,\"#fb9f3a\"],[0.8888888888888888,\"#fdca26\"],[1.0,\"#f0f921\"]]},\"colorway\":[\"#636efa\",\"#EF553B\",\"#00cc96\",\"#ab63fa\",\"#FFA15A\",\"#19d3f3\",\"#FF6692\",\"#B6E880\",\"#FF97FF\",\"#FECB52\"],\"font\":{\"color\":\"#2a3f5f\"},\"geo\":{\"bgcolor\":\"white\",\"lakecolor\":\"white\",\"landcolor\":\"#E5ECF6\",\"showlakes\":true,\"showland\":true,\"subunitcolor\":\"white\"},\"hoverlabel\":{\"align\":\"left\"},\"hovermode\":\"closest\",\"mapbox\":{\"style\":\"light\"},\"paper_bgcolor\":\"white\",\"plot_bgcolor\":\"#E5ECF6\",\"polar\":{\"angularaxis\":{\"gridcolor\":\"white\",\"linecolor\":\"white\",\"ticks\":\"\"},\"bgcolor\":\"#E5ECF6\",\"radialaxis\":{\"gridcolor\":\"white\",\"linecolor\":\"white\",\"ticks\":\"\"}},\"scene\":{\"xaxis\":{\"backgroundcolor\":\"#E5ECF6\",\"gridcolor\":\"white\",\"gridwidth\":2,\"linecolor\":\"white\",\"showbackground\":true,\"ticks\":\"\",\"zerolinecolor\":\"white\"},\"yaxis\":{\"backgroundcolor\":\"#E5ECF6\",\"gridcolor\":\"white\",\"gridwidth\":2,\"linecolor\":\"white\",\"showbackground\":true,\"ticks\":\"\",\"zerolinecolor\":\"white\"},\"zaxis\":{\"backgroundcolor\":\"#E5ECF6\",\"gridcolor\":\"white\",\"gridwidth\":2,\"linecolor\":\"white\",\"showbackground\":true,\"ticks\":\"\",\"zerolinecolor\":\"white\"}},\"shapedefaults\":{\"line\":{\"color\":\"#2a3f5f\"}},\"ternary\":{\"aaxis\":{\"gridcolor\":\"white\",\"linecolor\":\"white\",\"ticks\":\"\"},\"baxis\":{\"gridcolor\":\"white\",\"linecolor\":\"white\",\"ticks\":\"\"},\"bgcolor\":\"#E5ECF6\",\"caxis\":{\"gridcolor\":\"white\",\"linecolor\":\"white\",\"ticks\":\"\"}},\"title\":{\"x\":0.05},\"xaxis\":{\"automargin\":true,\"gridcolor\":\"white\",\"linecolor\":\"white\",\"ticks\":\"\",\"title\":{\"standoff\":15},\"zerolinecolor\":\"white\",\"zerolinewidth\":2},\"yaxis\":{\"automargin\":true,\"gridcolor\":\"white\",\"linecolor\":\"white\",\"ticks\":\"\",\"title\":{\"standoff\":15},\"zerolinecolor\":\"white\",\"zerolinewidth\":2}}},\"xaxis\":{\"anchor\":\"y\",\"domain\":[0.0,1.0],\"title\":{\"text\":\"Rank_new\"},\"visible\":false,\"showticklabels\":false},\"yaxis\":{\"anchor\":\"x\",\"domain\":[0.0,1.0],\"title\":{\"text\":\"Country/Region\"}},\"coloraxis\":{\"colorbar\":{\"title\":{\"text\":\"2021\"}},\"colorscale\":[[0.0,\"#0d0887\"],[0.1111111111111111,\"#46039f\"],[0.2222222222222222,\"#7201a8\"],[0.3333333333333333,\"#9c179e\"],[0.4444444444444444,\"#bd3786\"],[0.5555555555555556,\"#d8576b\"],[0.6666666666666666,\"#ed7953\"],[0.7777777777777778,\"#fb9f3a\"],[0.8888888888888888,\"#fdca26\"],[1.0,\"#f0f921\"]]},\"legend\":{\"tracegroupgap\":0},\"title\":{\"text\":\"Top 20 Polluted Country In World\"},\"barmode\":\"relative\",\"height\":700,\"plot_bgcolor\":\"white\",\"shapes\":[{\"line\":{\"color\":\"green\",\"dash\":\"dash\",\"width\":3},\"type\":\"line\",\"x0\":13.1,\"x1\":13.1,\"xref\":\"x\",\"y0\":0,\"y1\":1,\"yref\":\"y domain\"}],\"annotations\":[{\"showarrow\":false,\"text\":\"Threshold Good\",\"x\":13.1,\"xanchor\":\"left\",\"xref\":\"x\",\"y\":1,\"yanchor\":\"top\",\"yref\":\"y domain\"}]},                        {\"responsive\": true}                    ).then(function(){\n",
              "                            \n",
              "var gd = document.getElementById('1f24343d-5e43-4c9a-91c1-38679f77814e');\n",
              "var x = new MutationObserver(function (mutations, observer) {{\n",
              "        var display = window.getComputedStyle(gd).display;\n",
              "        if (!display || display === 'none') {{\n",
              "            console.log([gd, 'removed!']);\n",
              "            Plotly.purge(gd);\n",
              "            observer.disconnect();\n",
              "        }}\n",
              "}});\n",
              "\n",
              "// Listen for the removal of the full notebook cells\n",
              "var notebookContainer = gd.closest('#notebook-container');\n",
              "if (notebookContainer) {{\n",
              "    x.observe(notebookContainer, {childList: true});\n",
              "}}\n",
              "\n",
              "// Listen for the clearing of the current output cell\n",
              "var outputEl = gd.closest('.output');\n",
              "if (outputEl) {{\n",
              "    x.observe(outputEl, {childList: true});\n",
              "}}\n",
              "\n",
              "                        })                };                            </script>        </div>\n",
              "</body>\n",
              "</html>"
            ]
          },
          "metadata": {},
          "output_type": "display_data"
        }
      ],
      "source": [
        "top_10_country = df_aqitpcr.head(20).copy()\n",
        "top_10_country['Rank_new'] = 21-top_10_country['Rank']\n",
        "fig1= px.bar(top_10_country, y='Country/Region', \n",
        "             x='Rank_new', color='2021',\n",
        "             title=\"Top 20 Polluted Country In World\",\n",
        "             text='2021',\n",
        "             hover_data={'Rank_new':False, 'Rank':True, 'Population':True},\n",
        "             height=700)\n",
        "fig1.layout.plot_bgcolor = \"white\"\n",
        "fig1.add_vline(x=13.1, line_width=3, line_dash=\"dash\", line_color=\"green\", annotation_text=\"Threshold Good\")\n",
        "fig1.update_xaxes(visible=False, showticklabels=False)\n",
        "fig1.show()"
      ]
    },
    {
      "cell_type": "markdown",
      "metadata": {
        "id": "ka0-SIyS8lRx"
      },
      "source": [
        "It can be seen that Indonesia has a 17th Rating with an AQI (Air Quality Index) value of 34.3 so it is considered Good."
      ]
    },
    {
      "cell_type": "code",
      "execution_count": 79,
      "metadata": {
        "colab": {
          "base_uri": "https://localhost:8080/",
          "height": 542
        },
        "id": "YleO3M4PmrmV",
        "outputId": "e797eb48-a086-4dd7-bbab-f321028cb87b"
      },
      "outputs": [
        {
          "data": {
            "text/html": [
              "<html>\n",
              "<head><meta charset=\"utf-8\" /></head>\n",
              "<body>\n",
              "    <div>            <script src=\"https://cdnjs.cloudflare.com/ajax/libs/mathjax/2.7.5/MathJax.js?config=TeX-AMS-MML_SVG\"></script><script type=\"text/javascript\">if (window.MathJax) {MathJax.Hub.Config({SVG: {font: \"STIX-Web\"}});}</script>                <script type=\"text/javascript\">window.PlotlyConfig = {MathJaxConfig: 'local'};</script>\n",
              "        <script src=\"https://cdn.plot.ly/plotly-2.8.3.min.js\"></script>                <div id=\"dc4d5d85-eece-4c31-bf84-59b177c440cf\" class=\"plotly-graph-div\" style=\"height:525px; width:100%;\"></div>            <script type=\"text/javascript\">                                    window.PLOTLYENV=window.PLOTLYENV || {};                                    if (document.getElementById(\"dc4d5d85-eece-4c31-bf84-59b177c440cf\")) {                    Plotly.newPlot(                        \"dc4d5d85-eece-4c31-bf84-59b177c440cf\",                        [{\"hovertemplate\":\"Country/Region=Uzbekistan<br>Year=%{x}<br>AQI=%{text}<extra></extra>\",\"legendgroup\":\"Uzbekistan\",\"line\":{\"color\":\"#636efa\",\"dash\":\"solid\"},\"marker\":{\"symbol\":\"circle\"},\"mode\":\"markers+text+lines\",\"name\":\"Uzbekistan\",\"orientation\":\"v\",\"showlegend\":true,\"text\":[34.3,41.2,29.9,42.8],\"x\":[\"2018\",\"2019\",\"2020\",\"2021\"],\"xaxis\":\"x\",\"y\":[34.3,41.2,29.9,42.8],\"yaxis\":\"y\",\"type\":\"scatter\",\"textfont\":{\"color\":\"black\"},\"textposition\":\"top right\"},{\"hovertemplate\":\"Country/Region=Qatar<br>Year=%{x}<br>AQI=%{text}<extra></extra>\",\"legendgroup\":\"Qatar\",\"line\":{\"color\":\"#EF553B\",\"dash\":\"solid\"},\"marker\":{\"symbol\":\"diamond\"},\"mode\":\"markers+text+lines\",\"name\":\"Qatar\",\"orientation\":\"v\",\"showlegend\":true,\"text\":[51.9,55.25,44.3,38.2],\"x\":[\"2018\",\"2019\",\"2020\",\"2021\"],\"xaxis\":\"x\",\"y\":[51.9,55.25,44.3,38.2],\"yaxis\":\"y\",\"type\":\"scatter\",\"textfont\":{\"color\":\"black\"},\"textposition\":\"top right\"},{\"hovertemplate\":\"Country/Region=Afghanistan<br>Year=%{x}<br>AQI=%{text}<extra></extra>\",\"legendgroup\":\"Afghanistan\",\"line\":{\"color\":\"#00cc96\",\"dash\":\"solid\"},\"marker\":{\"symbol\":\"square\"},\"mode\":\"markers+text+lines\",\"name\":\"Afghanistan\",\"orientation\":\"v\",\"showlegend\":true,\"text\":[61.8,58.8,46.5,37.5],\"x\":[\"2018\",\"2019\",\"2020\",\"2021\"],\"xaxis\":\"x\",\"y\":[61.8,58.8,46.5,37.5],\"yaxis\":\"y\",\"type\":\"scatter\",\"textfont\":{\"color\":\"black\"},\"textposition\":\"top right\"},{\"hovertemplate\":\"Country/Region=United Arab Emirates<br>Year=%{x}<br>AQI=%{text}<extra></extra>\",\"legendgroup\":\"United Arab Emirates\",\"line\":{\"color\":\"#ab63fa\",\"dash\":\"solid\"},\"marker\":{\"symbol\":\"x\"},\"mode\":\"markers+text+lines\",\"name\":\"United Arab Emirates\",\"orientation\":\"v\",\"showlegend\":true,\"text\":[49.9,38.9,29.2,36.0],\"x\":[\"2018\",\"2019\",\"2020\",\"2021\"],\"xaxis\":\"x\",\"y\":[49.9,38.9,29.2,36.0],\"yaxis\":\"y\",\"type\":\"scatter\",\"textfont\":{\"color\":\"black\"},\"textposition\":\"top right\"},{\"hovertemplate\":\"Country/Region=Montenegro<br>Year=%{x}<br>AQI=%{text}<extra></extra>\",\"legendgroup\":\"Montenegro\",\"line\":{\"color\":\"#FFA15A\",\"dash\":\"solid\"},\"marker\":{\"symbol\":\"cross\"},\"mode\":\"markers+text+lines\",\"name\":\"Montenegro\",\"orientation\":\"v\",\"showlegend\":true,\"text\":[37.45,32.2,26.1,35.2],\"x\":[\"2018\",\"2019\",\"2020\",\"2021\"],\"xaxis\":\"x\",\"y\":[37.45,32.2,26.1,35.2],\"yaxis\":\"y\",\"type\":\"scatter\",\"textfont\":{\"color\":\"black\"},\"textposition\":\"top right\"},{\"hovertemplate\":\"Country/Region=Indonesia<br>Year=%{x}<br>AQI=%{text}<extra></extra>\",\"legendgroup\":\"Indonesia\",\"line\":{\"color\":\"#19d3f3\",\"dash\":\"solid\"},\"marker\":{\"symbol\":\"circle\"},\"mode\":\"markers+text+lines\",\"name\":\"Indonesia\",\"orientation\":\"v\",\"showlegend\":true,\"text\":[42.0,51.7,40.7,34.3],\"x\":[\"2018\",\"2019\",\"2020\",\"2021\"],\"xaxis\":\"x\",\"y\":[42.0,51.7,40.7,34.3],\"yaxis\":\"y\",\"type\":\"scatter\",\"textfont\":{\"color\":\"black\"},\"textposition\":\"top right\"}],                        {\"template\":{\"data\":{\"bar\":[{\"error_x\":{\"color\":\"#2a3f5f\"},\"error_y\":{\"color\":\"#2a3f5f\"},\"marker\":{\"line\":{\"color\":\"#E5ECF6\",\"width\":0.5},\"pattern\":{\"fillmode\":\"overlay\",\"size\":10,\"solidity\":0.2}},\"type\":\"bar\"}],\"barpolar\":[{\"marker\":{\"line\":{\"color\":\"#E5ECF6\",\"width\":0.5},\"pattern\":{\"fillmode\":\"overlay\",\"size\":10,\"solidity\":0.2}},\"type\":\"barpolar\"}],\"carpet\":[{\"aaxis\":{\"endlinecolor\":\"#2a3f5f\",\"gridcolor\":\"white\",\"linecolor\":\"white\",\"minorgridcolor\":\"white\",\"startlinecolor\":\"#2a3f5f\"},\"baxis\":{\"endlinecolor\":\"#2a3f5f\",\"gridcolor\":\"white\",\"linecolor\":\"white\",\"minorgridcolor\":\"white\",\"startlinecolor\":\"#2a3f5f\"},\"type\":\"carpet\"}],\"choropleth\":[{\"colorbar\":{\"outlinewidth\":0,\"ticks\":\"\"},\"type\":\"choropleth\"}],\"contour\":[{\"colorbar\":{\"outlinewidth\":0,\"ticks\":\"\"},\"colorscale\":[[0.0,\"#0d0887\"],[0.1111111111111111,\"#46039f\"],[0.2222222222222222,\"#7201a8\"],[0.3333333333333333,\"#9c179e\"],[0.4444444444444444,\"#bd3786\"],[0.5555555555555556,\"#d8576b\"],[0.6666666666666666,\"#ed7953\"],[0.7777777777777778,\"#fb9f3a\"],[0.8888888888888888,\"#fdca26\"],[1.0,\"#f0f921\"]],\"type\":\"contour\"}],\"contourcarpet\":[{\"colorbar\":{\"outlinewidth\":0,\"ticks\":\"\"},\"type\":\"contourcarpet\"}],\"heatmap\":[{\"colorbar\":{\"outlinewidth\":0,\"ticks\":\"\"},\"colorscale\":[[0.0,\"#0d0887\"],[0.1111111111111111,\"#46039f\"],[0.2222222222222222,\"#7201a8\"],[0.3333333333333333,\"#9c179e\"],[0.4444444444444444,\"#bd3786\"],[0.5555555555555556,\"#d8576b\"],[0.6666666666666666,\"#ed7953\"],[0.7777777777777778,\"#fb9f3a\"],[0.8888888888888888,\"#fdca26\"],[1.0,\"#f0f921\"]],\"type\":\"heatmap\"}],\"heatmapgl\":[{\"colorbar\":{\"outlinewidth\":0,\"ticks\":\"\"},\"colorscale\":[[0.0,\"#0d0887\"],[0.1111111111111111,\"#46039f\"],[0.2222222222222222,\"#7201a8\"],[0.3333333333333333,\"#9c179e\"],[0.4444444444444444,\"#bd3786\"],[0.5555555555555556,\"#d8576b\"],[0.6666666666666666,\"#ed7953\"],[0.7777777777777778,\"#fb9f3a\"],[0.8888888888888888,\"#fdca26\"],[1.0,\"#f0f921\"]],\"type\":\"heatmapgl\"}],\"histogram\":[{\"marker\":{\"pattern\":{\"fillmode\":\"overlay\",\"size\":10,\"solidity\":0.2}},\"type\":\"histogram\"}],\"histogram2d\":[{\"colorbar\":{\"outlinewidth\":0,\"ticks\":\"\"},\"colorscale\":[[0.0,\"#0d0887\"],[0.1111111111111111,\"#46039f\"],[0.2222222222222222,\"#7201a8\"],[0.3333333333333333,\"#9c179e\"],[0.4444444444444444,\"#bd3786\"],[0.5555555555555556,\"#d8576b\"],[0.6666666666666666,\"#ed7953\"],[0.7777777777777778,\"#fb9f3a\"],[0.8888888888888888,\"#fdca26\"],[1.0,\"#f0f921\"]],\"type\":\"histogram2d\"}],\"histogram2dcontour\":[{\"colorbar\":{\"outlinewidth\":0,\"ticks\":\"\"},\"colorscale\":[[0.0,\"#0d0887\"],[0.1111111111111111,\"#46039f\"],[0.2222222222222222,\"#7201a8\"],[0.3333333333333333,\"#9c179e\"],[0.4444444444444444,\"#bd3786\"],[0.5555555555555556,\"#d8576b\"],[0.6666666666666666,\"#ed7953\"],[0.7777777777777778,\"#fb9f3a\"],[0.8888888888888888,\"#fdca26\"],[1.0,\"#f0f921\"]],\"type\":\"histogram2dcontour\"}],\"mesh3d\":[{\"colorbar\":{\"outlinewidth\":0,\"ticks\":\"\"},\"type\":\"mesh3d\"}],\"parcoords\":[{\"line\":{\"colorbar\":{\"outlinewidth\":0,\"ticks\":\"\"}},\"type\":\"parcoords\"}],\"pie\":[{\"automargin\":true,\"type\":\"pie\"}],\"scatter\":[{\"marker\":{\"colorbar\":{\"outlinewidth\":0,\"ticks\":\"\"}},\"type\":\"scatter\"}],\"scatter3d\":[{\"line\":{\"colorbar\":{\"outlinewidth\":0,\"ticks\":\"\"}},\"marker\":{\"colorbar\":{\"outlinewidth\":0,\"ticks\":\"\"}},\"type\":\"scatter3d\"}],\"scattercarpet\":[{\"marker\":{\"colorbar\":{\"outlinewidth\":0,\"ticks\":\"\"}},\"type\":\"scattercarpet\"}],\"scattergeo\":[{\"marker\":{\"colorbar\":{\"outlinewidth\":0,\"ticks\":\"\"}},\"type\":\"scattergeo\"}],\"scattergl\":[{\"marker\":{\"colorbar\":{\"outlinewidth\":0,\"ticks\":\"\"}},\"type\":\"scattergl\"}],\"scattermapbox\":[{\"marker\":{\"colorbar\":{\"outlinewidth\":0,\"ticks\":\"\"}},\"type\":\"scattermapbox\"}],\"scatterpolar\":[{\"marker\":{\"colorbar\":{\"outlinewidth\":0,\"ticks\":\"\"}},\"type\":\"scatterpolar\"}],\"scatterpolargl\":[{\"marker\":{\"colorbar\":{\"outlinewidth\":0,\"ticks\":\"\"}},\"type\":\"scatterpolargl\"}],\"scatterternary\":[{\"marker\":{\"colorbar\":{\"outlinewidth\":0,\"ticks\":\"\"}},\"type\":\"scatterternary\"}],\"surface\":[{\"colorbar\":{\"outlinewidth\":0,\"ticks\":\"\"},\"colorscale\":[[0.0,\"#0d0887\"],[0.1111111111111111,\"#46039f\"],[0.2222222222222222,\"#7201a8\"],[0.3333333333333333,\"#9c179e\"],[0.4444444444444444,\"#bd3786\"],[0.5555555555555556,\"#d8576b\"],[0.6666666666666666,\"#ed7953\"],[0.7777777777777778,\"#fb9f3a\"],[0.8888888888888888,\"#fdca26\"],[1.0,\"#f0f921\"]],\"type\":\"surface\"}],\"table\":[{\"cells\":{\"fill\":{\"color\":\"#EBF0F8\"},\"line\":{\"color\":\"white\"}},\"header\":{\"fill\":{\"color\":\"#C8D4E3\"},\"line\":{\"color\":\"white\"}},\"type\":\"table\"}]},\"layout\":{\"annotationdefaults\":{\"arrowcolor\":\"#2a3f5f\",\"arrowhead\":0,\"arrowwidth\":1},\"autotypenumbers\":\"strict\",\"coloraxis\":{\"colorbar\":{\"outlinewidth\":0,\"ticks\":\"\"}},\"colorscale\":{\"diverging\":[[0,\"#8e0152\"],[0.1,\"#c51b7d\"],[0.2,\"#de77ae\"],[0.3,\"#f1b6da\"],[0.4,\"#fde0ef\"],[0.5,\"#f7f7f7\"],[0.6,\"#e6f5d0\"],[0.7,\"#b8e186\"],[0.8,\"#7fbc41\"],[0.9,\"#4d9221\"],[1,\"#276419\"]],\"sequential\":[[0.0,\"#0d0887\"],[0.1111111111111111,\"#46039f\"],[0.2222222222222222,\"#7201a8\"],[0.3333333333333333,\"#9c179e\"],[0.4444444444444444,\"#bd3786\"],[0.5555555555555556,\"#d8576b\"],[0.6666666666666666,\"#ed7953\"],[0.7777777777777778,\"#fb9f3a\"],[0.8888888888888888,\"#fdca26\"],[1.0,\"#f0f921\"]],\"sequentialminus\":[[0.0,\"#0d0887\"],[0.1111111111111111,\"#46039f\"],[0.2222222222222222,\"#7201a8\"],[0.3333333333333333,\"#9c179e\"],[0.4444444444444444,\"#bd3786\"],[0.5555555555555556,\"#d8576b\"],[0.6666666666666666,\"#ed7953\"],[0.7777777777777778,\"#fb9f3a\"],[0.8888888888888888,\"#fdca26\"],[1.0,\"#f0f921\"]]},\"colorway\":[\"#636efa\",\"#EF553B\",\"#00cc96\",\"#ab63fa\",\"#FFA15A\",\"#19d3f3\",\"#FF6692\",\"#B6E880\",\"#FF97FF\",\"#FECB52\"],\"font\":{\"color\":\"#2a3f5f\"},\"geo\":{\"bgcolor\":\"white\",\"lakecolor\":\"white\",\"landcolor\":\"#E5ECF6\",\"showlakes\":true,\"showland\":true,\"subunitcolor\":\"white\"},\"hoverlabel\":{\"align\":\"left\"},\"hovermode\":\"closest\",\"mapbox\":{\"style\":\"light\"},\"paper_bgcolor\":\"white\",\"plot_bgcolor\":\"#E5ECF6\",\"polar\":{\"angularaxis\":{\"gridcolor\":\"white\",\"linecolor\":\"white\",\"ticks\":\"\"},\"bgcolor\":\"#E5ECF6\",\"radialaxis\":{\"gridcolor\":\"white\",\"linecolor\":\"white\",\"ticks\":\"\"}},\"scene\":{\"xaxis\":{\"backgroundcolor\":\"#E5ECF6\",\"gridcolor\":\"white\",\"gridwidth\":2,\"linecolor\":\"white\",\"showbackground\":true,\"ticks\":\"\",\"zerolinecolor\":\"white\"},\"yaxis\":{\"backgroundcolor\":\"#E5ECF6\",\"gridcolor\":\"white\",\"gridwidth\":2,\"linecolor\":\"white\",\"showbackground\":true,\"ticks\":\"\",\"zerolinecolor\":\"white\"},\"zaxis\":{\"backgroundcolor\":\"#E5ECF6\",\"gridcolor\":\"white\",\"gridwidth\":2,\"linecolor\":\"white\",\"showbackground\":true,\"ticks\":\"\",\"zerolinecolor\":\"white\"}},\"shapedefaults\":{\"line\":{\"color\":\"#2a3f5f\"}},\"ternary\":{\"aaxis\":{\"gridcolor\":\"white\",\"linecolor\":\"white\",\"ticks\":\"\"},\"baxis\":{\"gridcolor\":\"white\",\"linecolor\":\"white\",\"ticks\":\"\"},\"bgcolor\":\"#E5ECF6\",\"caxis\":{\"gridcolor\":\"white\",\"linecolor\":\"white\",\"ticks\":\"\"}},\"title\":{\"x\":0.05},\"xaxis\":{\"automargin\":true,\"gridcolor\":\"white\",\"linecolor\":\"white\",\"ticks\":\"\",\"title\":{\"standoff\":15},\"zerolinecolor\":\"white\",\"zerolinewidth\":2},\"yaxis\":{\"automargin\":true,\"gridcolor\":\"white\",\"linecolor\":\"white\",\"ticks\":\"\",\"title\":{\"standoff\":15},\"zerolinecolor\":\"white\",\"zerolinewidth\":2}}},\"xaxis\":{\"anchor\":\"y\",\"domain\":[0.0,1.0],\"title\":{\"text\":\"Year\"}},\"yaxis\":{\"anchor\":\"x\",\"domain\":[0.0,1.0],\"title\":{\"text\":\"AQI\"},\"visible\":false,\"showticklabels\":false},\"legend\":{\"title\":{\"text\":\"Country/Region\"},\"tracegroupgap\":0},\"title\":{\"text\":\"Top 11-17 Yearly Air Quality Index\"},\"plot_bgcolor\":\"light grey\",\"shapes\":[{\"fillcolor\":\"green\",\"line\":{\"width\":0},\"opacity\":0.15,\"type\":\"rect\",\"x0\":0,\"x1\":1,\"xref\":\"x domain\",\"y0\":23,\"y1\":50,\"yref\":\"y\"}],\"annotations\":[{\"showarrow\":false,\"text\":\"Good\",\"x\":0,\"xanchor\":\"left\",\"xref\":\"x domain\",\"y\":50,\"yanchor\":\"top\",\"yref\":\"y\"}]},                        {\"responsive\": true}                    ).then(function(){\n",
              "                            \n",
              "var gd = document.getElementById('dc4d5d85-eece-4c31-bf84-59b177c440cf');\n",
              "var x = new MutationObserver(function (mutations, observer) {{\n",
              "        var display = window.getComputedStyle(gd).display;\n",
              "        if (!display || display === 'none') {{\n",
              "            console.log([gd, 'removed!']);\n",
              "            Plotly.purge(gd);\n",
              "            observer.disconnect();\n",
              "        }}\n",
              "}});\n",
              "\n",
              "// Listen for the removal of the full notebook cells\n",
              "var notebookContainer = gd.closest('#notebook-container');\n",
              "if (notebookContainer) {{\n",
              "    x.observe(notebookContainer, {childList: true});\n",
              "}}\n",
              "\n",
              "// Listen for the clearing of the current output cell\n",
              "var outputEl = gd.closest('.output');\n",
              "if (outputEl) {{\n",
              "    x.observe(outputEl, {childList: true});\n",
              "}}\n",
              "\n",
              "                        })                };                            </script>        </div>\n",
              "</body>\n",
              "</html>"
            ]
          },
          "metadata": {},
          "output_type": "display_data"
        }
      ],
      "source": [
        "top_10_country = df_aqitpcr.head(17).copy().iloc[11:18,:]\n",
        "top_10_country['Rank'] = 18-top_10_country['Rank']\n",
        "\n",
        "# Deleting unnecesary Columns\n",
        "top_10_country.drop(['Population'], axis=1, inplace=True)\n",
        "\n",
        "# Converting wide to long format\n",
        "top_10_country = top_10_country.melt(id_vars=['Rank', 'Country/Region'],\n",
        "                               var_name=\"Year\", \n",
        "                               value_name=\"AQI\")\n",
        "                               \n",
        "top_10_country.sort_values(['Rank','Year'], ascending=[False, True], inplace=True)\n",
        "top_10_country['AQI'] = top_10_country['AQI'].astype(float)\n",
        "\n",
        "\n",
        "# For Plotting purose filling missing values with the backfill process\n",
        "top_10_country.fillna(method=\"bfill\", inplace=True)\n",
        "\n",
        "fig2= px.line(top_10_country, y='AQI', \n",
        "              x='Year',\n",
        "              color='Country/Region',\n",
        "             title=\"Top 11-17 Yearly Air Quality Index\", \n",
        "              symbol='Country/Region',\n",
        "              text=\"AQI\")\n",
        "fig2.for_each_trace(lambda t: t.update(textfont_color=\"black\", textposition='top right'))\n",
        "fig2.layout.plot_bgcolor = \"light grey\"\n",
        "fig2.add_hrect(y0=23, y1=50,\n",
        "              annotation_text=\"Good\", annotation_position=\"top left\",\n",
        "              fillcolor=\"green\", opacity=0.15, line_width=0)\n",
        "fig2.update_yaxes(visible=False, showticklabels=False, )\n",
        "fig2.show()"
      ]
    },
    {
      "cell_type": "markdown",
      "metadata": {
        "id": "ZUTlXvZEIhUv"
      },
      "source": [
        "The value of AQI (Air Quality Index) in Indonesia in **2018** was 42\n",
        "Then it rose 9.7 in 2019 by 51.7\n",
        "And down in 2020 and 2021 maybe because of the number of vehicles and the process of activity during Covid-19."
      ]
    },
    {
      "cell_type": "code",
      "execution_count": 80,
      "metadata": {
        "colab": {
          "base_uri": "https://localhost:8080/",
          "height": 542
        },
        "id": "42YDx40qgrHe",
        "outputId": "1bf204e3-c4d8-451f-e062-e31f28c0f434"
      },
      "outputs": [
        {
          "data": {
            "text/html": [
              "<html>\n",
              "<head><meta charset=\"utf-8\" /></head>\n",
              "<body>\n",
              "    <div>            <script src=\"https://cdnjs.cloudflare.com/ajax/libs/mathjax/2.7.5/MathJax.js?config=TeX-AMS-MML_SVG\"></script><script type=\"text/javascript\">if (window.MathJax) {MathJax.Hub.Config({SVG: {font: \"STIX-Web\"}});}</script>                <script type=\"text/javascript\">window.PlotlyConfig = {MathJaxConfig: 'local'};</script>\n",
              "        <script src=\"https://cdn.plot.ly/plotly-2.8.3.min.js\"></script>                <div id=\"15fbbb63-3e29-4d52-9f39-1702aa795ab1\" class=\"plotly-graph-div\" style=\"height:525px; width:100%;\"></div>            <script type=\"text/javascript\">                                    window.PLOTLYENV=window.PLOTLYENV || {};                                    if (document.getElementById(\"15fbbb63-3e29-4d52-9f39-1702aa795ab1\")) {                    Plotly.newPlot(                        \"15fbbb63-3e29-4d52-9f39-1702aa795ab1\",                        [{\"hovertemplate\":\"color=lightslategray<br>Country/Region=Uzbekistan<br>Year=%{x}<br>AQI=%{text}<extra></extra>\",\"legendgroup\":\"lightslategray, Uzbekistan\",\"line\":{\"color\":\"#636efa\",\"dash\":\"solid\"},\"marker\":{\"symbol\":\"circle\"},\"mode\":\"markers+text+lines\",\"name\":\"lightslategray, Uzbekistan\",\"orientation\":\"v\",\"showlegend\":true,\"text\":[34.3,41.2,29.9,42.8],\"x\":[\"2018\",\"2019\",\"2020\",\"2021\"],\"xaxis\":\"x\",\"y\":[34.3,41.2,29.9,42.8],\"yaxis\":\"y\",\"type\":\"scatter\",\"textposition\":\"top right\"},{\"hovertemplate\":\"color=lightslategray<br>Country/Region=Qatar<br>Year=%{x}<br>AQI=%{text}<extra></extra>\",\"legendgroup\":\"lightslategray, Qatar\",\"line\":{\"color\":\"#636efa\",\"dash\":\"solid\"},\"marker\":{\"symbol\":\"diamond\"},\"mode\":\"markers+text+lines\",\"name\":\"lightslategray, Qatar\",\"orientation\":\"v\",\"showlegend\":true,\"text\":[51.9,55.25,44.3,38.2],\"x\":[\"2018\",\"2019\",\"2020\",\"2021\"],\"xaxis\":\"x\",\"y\":[51.9,55.25,44.3,38.2],\"yaxis\":\"y\",\"type\":\"scatter\",\"textposition\":\"top right\"},{\"hovertemplate\":\"color=lightslategray<br>Country/Region=Afghanistan<br>Year=%{x}<br>AQI=%{text}<extra></extra>\",\"legendgroup\":\"lightslategray, Afghanistan\",\"line\":{\"color\":\"#636efa\",\"dash\":\"solid\"},\"marker\":{\"symbol\":\"square\"},\"mode\":\"markers+text+lines\",\"name\":\"lightslategray, Afghanistan\",\"orientation\":\"v\",\"showlegend\":true,\"text\":[61.8,58.8,46.5,37.5],\"x\":[\"2018\",\"2019\",\"2020\",\"2021\"],\"xaxis\":\"x\",\"y\":[61.8,58.8,46.5,37.5],\"yaxis\":\"y\",\"type\":\"scatter\",\"textposition\":\"top right\"},{\"hovertemplate\":\"color=lightslategray<br>Country/Region=United Arab Emirates<br>Year=%{x}<br>AQI=%{text}<extra></extra>\",\"legendgroup\":\"lightslategray, United Arab Emirates\",\"line\":{\"color\":\"#636efa\",\"dash\":\"solid\"},\"marker\":{\"symbol\":\"x\"},\"mode\":\"markers+text+lines\",\"name\":\"lightslategray, United Arab Emirates\",\"orientation\":\"v\",\"showlegend\":true,\"text\":[49.9,38.9,29.2,36.0],\"x\":[\"2018\",\"2019\",\"2020\",\"2021\"],\"xaxis\":\"x\",\"y\":[49.9,38.9,29.2,36.0],\"yaxis\":\"y\",\"type\":\"scatter\",\"textposition\":\"top right\"},{\"hovertemplate\":\"color=lightslategray<br>Country/Region=Montenegro<br>Year=%{x}<br>AQI=%{text}<extra></extra>\",\"legendgroup\":\"lightslategray, Montenegro\",\"line\":{\"color\":\"#636efa\",\"dash\":\"solid\"},\"marker\":{\"symbol\":\"cross\"},\"mode\":\"markers+text+lines\",\"name\":\"lightslategray, Montenegro\",\"orientation\":\"v\",\"showlegend\":true,\"text\":[37.45,32.2,26.1,35.2],\"x\":[\"2018\",\"2019\",\"2020\",\"2021\"],\"xaxis\":\"x\",\"y\":[37.45,32.2,26.1,35.2],\"yaxis\":\"y\",\"type\":\"scatter\",\"textposition\":\"top right\"},{\"hovertemplate\":\"color=crimson<br>Country/Region=Indonesia<br>Year=%{x}<br>AQI=%{text}<extra></extra>\",\"legendgroup\":\"crimson, Indonesia\",\"line\":{\"color\":\"#EF553B\",\"dash\":\"solid\"},\"marker\":{\"symbol\":\"circle\"},\"mode\":\"markers+text+lines\",\"name\":\"crimson, Indonesia\",\"orientation\":\"v\",\"showlegend\":true,\"text\":[42.0,51.7,40.7,34.3],\"x\":[\"2018\",\"2019\",\"2020\",\"2021\"],\"xaxis\":\"x\",\"y\":[42.0,51.7,40.7,34.3],\"yaxis\":\"y\",\"type\":\"scatter\",\"textposition\":\"top right\"}],                        {\"template\":{\"data\":{\"bar\":[{\"error_x\":{\"color\":\"#2a3f5f\"},\"error_y\":{\"color\":\"#2a3f5f\"},\"marker\":{\"line\":{\"color\":\"#E5ECF6\",\"width\":0.5},\"pattern\":{\"fillmode\":\"overlay\",\"size\":10,\"solidity\":0.2}},\"type\":\"bar\"}],\"barpolar\":[{\"marker\":{\"line\":{\"color\":\"#E5ECF6\",\"width\":0.5},\"pattern\":{\"fillmode\":\"overlay\",\"size\":10,\"solidity\":0.2}},\"type\":\"barpolar\"}],\"carpet\":[{\"aaxis\":{\"endlinecolor\":\"#2a3f5f\",\"gridcolor\":\"white\",\"linecolor\":\"white\",\"minorgridcolor\":\"white\",\"startlinecolor\":\"#2a3f5f\"},\"baxis\":{\"endlinecolor\":\"#2a3f5f\",\"gridcolor\":\"white\",\"linecolor\":\"white\",\"minorgridcolor\":\"white\",\"startlinecolor\":\"#2a3f5f\"},\"type\":\"carpet\"}],\"choropleth\":[{\"colorbar\":{\"outlinewidth\":0,\"ticks\":\"\"},\"type\":\"choropleth\"}],\"contour\":[{\"colorbar\":{\"outlinewidth\":0,\"ticks\":\"\"},\"colorscale\":[[0.0,\"#0d0887\"],[0.1111111111111111,\"#46039f\"],[0.2222222222222222,\"#7201a8\"],[0.3333333333333333,\"#9c179e\"],[0.4444444444444444,\"#bd3786\"],[0.5555555555555556,\"#d8576b\"],[0.6666666666666666,\"#ed7953\"],[0.7777777777777778,\"#fb9f3a\"],[0.8888888888888888,\"#fdca26\"],[1.0,\"#f0f921\"]],\"type\":\"contour\"}],\"contourcarpet\":[{\"colorbar\":{\"outlinewidth\":0,\"ticks\":\"\"},\"type\":\"contourcarpet\"}],\"heatmap\":[{\"colorbar\":{\"outlinewidth\":0,\"ticks\":\"\"},\"colorscale\":[[0.0,\"#0d0887\"],[0.1111111111111111,\"#46039f\"],[0.2222222222222222,\"#7201a8\"],[0.3333333333333333,\"#9c179e\"],[0.4444444444444444,\"#bd3786\"],[0.5555555555555556,\"#d8576b\"],[0.6666666666666666,\"#ed7953\"],[0.7777777777777778,\"#fb9f3a\"],[0.8888888888888888,\"#fdca26\"],[1.0,\"#f0f921\"]],\"type\":\"heatmap\"}],\"heatmapgl\":[{\"colorbar\":{\"outlinewidth\":0,\"ticks\":\"\"},\"colorscale\":[[0.0,\"#0d0887\"],[0.1111111111111111,\"#46039f\"],[0.2222222222222222,\"#7201a8\"],[0.3333333333333333,\"#9c179e\"],[0.4444444444444444,\"#bd3786\"],[0.5555555555555556,\"#d8576b\"],[0.6666666666666666,\"#ed7953\"],[0.7777777777777778,\"#fb9f3a\"],[0.8888888888888888,\"#fdca26\"],[1.0,\"#f0f921\"]],\"type\":\"heatmapgl\"}],\"histogram\":[{\"marker\":{\"pattern\":{\"fillmode\":\"overlay\",\"size\":10,\"solidity\":0.2}},\"type\":\"histogram\"}],\"histogram2d\":[{\"colorbar\":{\"outlinewidth\":0,\"ticks\":\"\"},\"colorscale\":[[0.0,\"#0d0887\"],[0.1111111111111111,\"#46039f\"],[0.2222222222222222,\"#7201a8\"],[0.3333333333333333,\"#9c179e\"],[0.4444444444444444,\"#bd3786\"],[0.5555555555555556,\"#d8576b\"],[0.6666666666666666,\"#ed7953\"],[0.7777777777777778,\"#fb9f3a\"],[0.8888888888888888,\"#fdca26\"],[1.0,\"#f0f921\"]],\"type\":\"histogram2d\"}],\"histogram2dcontour\":[{\"colorbar\":{\"outlinewidth\":0,\"ticks\":\"\"},\"colorscale\":[[0.0,\"#0d0887\"],[0.1111111111111111,\"#46039f\"],[0.2222222222222222,\"#7201a8\"],[0.3333333333333333,\"#9c179e\"],[0.4444444444444444,\"#bd3786\"],[0.5555555555555556,\"#d8576b\"],[0.6666666666666666,\"#ed7953\"],[0.7777777777777778,\"#fb9f3a\"],[0.8888888888888888,\"#fdca26\"],[1.0,\"#f0f921\"]],\"type\":\"histogram2dcontour\"}],\"mesh3d\":[{\"colorbar\":{\"outlinewidth\":0,\"ticks\":\"\"},\"type\":\"mesh3d\"}],\"parcoords\":[{\"line\":{\"colorbar\":{\"outlinewidth\":0,\"ticks\":\"\"}},\"type\":\"parcoords\"}],\"pie\":[{\"automargin\":true,\"type\":\"pie\"}],\"scatter\":[{\"marker\":{\"colorbar\":{\"outlinewidth\":0,\"ticks\":\"\"}},\"type\":\"scatter\"}],\"scatter3d\":[{\"line\":{\"colorbar\":{\"outlinewidth\":0,\"ticks\":\"\"}},\"marker\":{\"colorbar\":{\"outlinewidth\":0,\"ticks\":\"\"}},\"type\":\"scatter3d\"}],\"scattercarpet\":[{\"marker\":{\"colorbar\":{\"outlinewidth\":0,\"ticks\":\"\"}},\"type\":\"scattercarpet\"}],\"scattergeo\":[{\"marker\":{\"colorbar\":{\"outlinewidth\":0,\"ticks\":\"\"}},\"type\":\"scattergeo\"}],\"scattergl\":[{\"marker\":{\"colorbar\":{\"outlinewidth\":0,\"ticks\":\"\"}},\"type\":\"scattergl\"}],\"scattermapbox\":[{\"marker\":{\"colorbar\":{\"outlinewidth\":0,\"ticks\":\"\"}},\"type\":\"scattermapbox\"}],\"scatterpolar\":[{\"marker\":{\"colorbar\":{\"outlinewidth\":0,\"ticks\":\"\"}},\"type\":\"scatterpolar\"}],\"scatterpolargl\":[{\"marker\":{\"colorbar\":{\"outlinewidth\":0,\"ticks\":\"\"}},\"type\":\"scatterpolargl\"}],\"scatterternary\":[{\"marker\":{\"colorbar\":{\"outlinewidth\":0,\"ticks\":\"\"}},\"type\":\"scatterternary\"}],\"surface\":[{\"colorbar\":{\"outlinewidth\":0,\"ticks\":\"\"},\"colorscale\":[[0.0,\"#0d0887\"],[0.1111111111111111,\"#46039f\"],[0.2222222222222222,\"#7201a8\"],[0.3333333333333333,\"#9c179e\"],[0.4444444444444444,\"#bd3786\"],[0.5555555555555556,\"#d8576b\"],[0.6666666666666666,\"#ed7953\"],[0.7777777777777778,\"#fb9f3a\"],[0.8888888888888888,\"#fdca26\"],[1.0,\"#f0f921\"]],\"type\":\"surface\"}],\"table\":[{\"cells\":{\"fill\":{\"color\":\"#EBF0F8\"},\"line\":{\"color\":\"white\"}},\"header\":{\"fill\":{\"color\":\"#C8D4E3\"},\"line\":{\"color\":\"white\"}},\"type\":\"table\"}]},\"layout\":{\"annotationdefaults\":{\"arrowcolor\":\"#2a3f5f\",\"arrowhead\":0,\"arrowwidth\":1},\"autotypenumbers\":\"strict\",\"coloraxis\":{\"colorbar\":{\"outlinewidth\":0,\"ticks\":\"\"}},\"colorscale\":{\"diverging\":[[0,\"#8e0152\"],[0.1,\"#c51b7d\"],[0.2,\"#de77ae\"],[0.3,\"#f1b6da\"],[0.4,\"#fde0ef\"],[0.5,\"#f7f7f7\"],[0.6,\"#e6f5d0\"],[0.7,\"#b8e186\"],[0.8,\"#7fbc41\"],[0.9,\"#4d9221\"],[1,\"#276419\"]],\"sequential\":[[0.0,\"#0d0887\"],[0.1111111111111111,\"#46039f\"],[0.2222222222222222,\"#7201a8\"],[0.3333333333333333,\"#9c179e\"],[0.4444444444444444,\"#bd3786\"],[0.5555555555555556,\"#d8576b\"],[0.6666666666666666,\"#ed7953\"],[0.7777777777777778,\"#fb9f3a\"],[0.8888888888888888,\"#fdca26\"],[1.0,\"#f0f921\"]],\"sequentialminus\":[[0.0,\"#0d0887\"],[0.1111111111111111,\"#46039f\"],[0.2222222222222222,\"#7201a8\"],[0.3333333333333333,\"#9c179e\"],[0.4444444444444444,\"#bd3786\"],[0.5555555555555556,\"#d8576b\"],[0.6666666666666666,\"#ed7953\"],[0.7777777777777778,\"#fb9f3a\"],[0.8888888888888888,\"#fdca26\"],[1.0,\"#f0f921\"]]},\"colorway\":[\"#636efa\",\"#EF553B\",\"#00cc96\",\"#ab63fa\",\"#FFA15A\",\"#19d3f3\",\"#FF6692\",\"#B6E880\",\"#FF97FF\",\"#FECB52\"],\"font\":{\"color\":\"#2a3f5f\"},\"geo\":{\"bgcolor\":\"white\",\"lakecolor\":\"white\",\"landcolor\":\"#E5ECF6\",\"showlakes\":true,\"showland\":true,\"subunitcolor\":\"white\"},\"hoverlabel\":{\"align\":\"left\"},\"hovermode\":\"closest\",\"mapbox\":{\"style\":\"light\"},\"paper_bgcolor\":\"white\",\"plot_bgcolor\":\"#E5ECF6\",\"polar\":{\"angularaxis\":{\"gridcolor\":\"white\",\"linecolor\":\"white\",\"ticks\":\"\"},\"bgcolor\":\"#E5ECF6\",\"radialaxis\":{\"gridcolor\":\"white\",\"linecolor\":\"white\",\"ticks\":\"\"}},\"scene\":{\"xaxis\":{\"backgroundcolor\":\"#E5ECF6\",\"gridcolor\":\"white\",\"gridwidth\":2,\"linecolor\":\"white\",\"showbackground\":true,\"ticks\":\"\",\"zerolinecolor\":\"white\"},\"yaxis\":{\"backgroundcolor\":\"#E5ECF6\",\"gridcolor\":\"white\",\"gridwidth\":2,\"linecolor\":\"white\",\"showbackground\":true,\"ticks\":\"\",\"zerolinecolor\":\"white\"},\"zaxis\":{\"backgroundcolor\":\"#E5ECF6\",\"gridcolor\":\"white\",\"gridwidth\":2,\"linecolor\":\"white\",\"showbackground\":true,\"ticks\":\"\",\"zerolinecolor\":\"white\"}},\"shapedefaults\":{\"line\":{\"color\":\"#2a3f5f\"}},\"ternary\":{\"aaxis\":{\"gridcolor\":\"white\",\"linecolor\":\"white\",\"ticks\":\"\"},\"baxis\":{\"gridcolor\":\"white\",\"linecolor\":\"white\",\"ticks\":\"\"},\"bgcolor\":\"#E5ECF6\",\"caxis\":{\"gridcolor\":\"white\",\"linecolor\":\"white\",\"ticks\":\"\"}},\"title\":{\"x\":0.05},\"xaxis\":{\"automargin\":true,\"gridcolor\":\"white\",\"linecolor\":\"white\",\"ticks\":\"\",\"title\":{\"standoff\":15},\"zerolinecolor\":\"white\",\"zerolinewidth\":2},\"yaxis\":{\"automargin\":true,\"gridcolor\":\"white\",\"linecolor\":\"white\",\"ticks\":\"\",\"title\":{\"standoff\":15},\"zerolinecolor\":\"white\",\"zerolinewidth\":2}}},\"xaxis\":{\"anchor\":\"y\",\"domain\":[0.0,1.0],\"title\":{\"text\":\"Year\"}},\"yaxis\":{\"anchor\":\"x\",\"domain\":[0.0,1.0],\"title\":{\"text\":\"AQI\"},\"visible\":false,\"showticklabels\":false},\"legend\":{\"title\":{\"text\":\"color, Country/Region\"},\"tracegroupgap\":0},\"title\":{\"text\":\"Top 11-17 Yearly Air Quality Index (Indonesia)\"},\"plot_bgcolor\":\"light grey\",\"showlegend\":false},                        {\"responsive\": true}                    ).then(function(){\n",
              "                            \n",
              "var gd = document.getElementById('15fbbb63-3e29-4d52-9f39-1702aa795ab1');\n",
              "var x = new MutationObserver(function (mutations, observer) {{\n",
              "        var display = window.getComputedStyle(gd).display;\n",
              "        if (!display || display === 'none') {{\n",
              "            console.log([gd, 'removed!']);\n",
              "            Plotly.purge(gd);\n",
              "            observer.disconnect();\n",
              "        }}\n",
              "}});\n",
              "\n",
              "// Listen for the removal of the full notebook cells\n",
              "var notebookContainer = gd.closest('#notebook-container');\n",
              "if (notebookContainer) {{\n",
              "    x.observe(notebookContainer, {childList: true});\n",
              "}}\n",
              "\n",
              "// Listen for the clearing of the current output cell\n",
              "var outputEl = gd.closest('.output');\n",
              "if (outputEl) {{\n",
              "    x.observe(outputEl, {childList: true});\n",
              "}}\n",
              "\n",
              "                        })                };                            </script>        </div>\n",
              "</body>\n",
              "</html>"
            ]
          },
          "metadata": {},
          "output_type": "display_data"
        }
      ],
      "source": [
        "top_10_country = df_aqitpcr.head(17).copy().iloc[11:18,:]\n",
        "top_10_country['Rank'] = 18-top_10_country['Rank']\n",
        "\n",
        "# Deleting unnecesary Columns\n",
        "top_10_country.drop(['Population'], axis=1, inplace=True)\n",
        "\n",
        "# Converting wide to long format\n",
        "top_10_country = top_10_country.melt(id_vars=['Rank', 'Country/Region'],\n",
        "                               var_name=\"Year\", \n",
        "                               value_name=\"AQI\")\n",
        "                               \n",
        "top_10_country.sort_values(['Rank','Year'], ascending=[False, True], inplace=True)\n",
        "top_10_country['AQI'] = top_10_country['AQI'].astype(float)\n",
        "\n",
        "\n",
        "# For Plotting purose filling missing values with the backfill process\n",
        "top_10_country.fillna(method=\"bfill\", inplace=True)\n",
        "\n",
        "colors = top_10_country['Country/Region'].apply(lambda x: 'crimson' if x == \"Indonesia\" else 'lightslategray')\n",
        "\n",
        "fig2= px.line(top_10_country, y='AQI', \n",
        "              x='Year',\n",
        "              color=list(colors.values),\n",
        "             title=\"Top 11-17 Yearly Air Quality Index (Indonesia)\", \n",
        "              text=\"AQI\",\n",
        "              symbol='Country/Region')\n",
        "fig2.layout.plot_bgcolor = \"light grey\"\n",
        "\n",
        "fig2.update_traces(textposition=\"top right\")\n",
        "fig2.update(layout_showlegend=False)\n",
        "# fig2.update_layout(margin=dict(t=40, b=10))\n",
        "fig2.update_yaxes(visible=False, showticklabels=False, )\n",
        "fig2.show()"
      ]
    },
    {
      "cell_type": "code",
      "execution_count": 81,
      "metadata": {
        "colab": {
          "base_uri": "https://localhost:8080/",
          "height": 424
        },
        "id": "SmAhzEmPpLpa",
        "outputId": "452e15c6-3341-4fa0-9bbe-eb4fd9e07737"
      },
      "outputs": [
        {
          "data": {
            "text/html": [
              "\n",
              "  <div id=\"df-f0bac6ce-3a95-44d0-9c1b-b5cfb185966a\">\n",
              "    <div class=\"colab-df-container\">\n",
              "      <div>\n",
              "<style scoped>\n",
              "    .dataframe tbody tr th:only-of-type {\n",
              "        vertical-align: middle;\n",
              "    }\n",
              "\n",
              "    .dataframe tbody tr th {\n",
              "        vertical-align: top;\n",
              "    }\n",
              "\n",
              "    .dataframe thead th {\n",
              "        text-align: right;\n",
              "    }\n",
              "</style>\n",
              "<table border=\"1\" class=\"dataframe\">\n",
              "  <thead>\n",
              "    <tr style=\"text-align: right;\">\n",
              "      <th></th>\n",
              "      <th>Rank</th>\n",
              "      <th>Country/Region</th>\n",
              "      <th>2021</th>\n",
              "      <th>2020</th>\n",
              "      <th>2019</th>\n",
              "      <th>2018</th>\n",
              "      <th>Population</th>\n",
              "    </tr>\n",
              "  </thead>\n",
              "  <tbody>\n",
              "    <tr>\n",
              "      <th>0</th>\n",
              "      <td>1</td>\n",
              "      <td>Bangladesh</td>\n",
              "      <td>76.9</td>\n",
              "      <td>77.10</td>\n",
              "      <td>83.30</td>\n",
              "      <td>97.10</td>\n",
              "      <td>164689383</td>\n",
              "    </tr>\n",
              "    <tr>\n",
              "      <th>1</th>\n",
              "      <td>2</td>\n",
              "      <td>Chad</td>\n",
              "      <td>75.9</td>\n",
              "      <td>68.05</td>\n",
              "      <td>74.55</td>\n",
              "      <td>85.70</td>\n",
              "      <td>16425859</td>\n",
              "    </tr>\n",
              "    <tr>\n",
              "      <th>2</th>\n",
              "      <td>3</td>\n",
              "      <td>Pakistan</td>\n",
              "      <td>66.8</td>\n",
              "      <td>59.00</td>\n",
              "      <td>65.80</td>\n",
              "      <td>74.30</td>\n",
              "      <td>220892331</td>\n",
              "    </tr>\n",
              "    <tr>\n",
              "      <th>3</th>\n",
              "      <td>4</td>\n",
              "      <td>Tajikistan</td>\n",
              "      <td>59.4</td>\n",
              "      <td>30.90</td>\n",
              "      <td>40.00</td>\n",
              "      <td>56.95</td>\n",
              "      <td>9537642</td>\n",
              "    </tr>\n",
              "    <tr>\n",
              "      <th>4</th>\n",
              "      <td>5</td>\n",
              "      <td>India</td>\n",
              "      <td>58.1</td>\n",
              "      <td>51.90</td>\n",
              "      <td>58.10</td>\n",
              "      <td>72.50</td>\n",
              "      <td>1380004385</td>\n",
              "    </tr>\n",
              "    <tr>\n",
              "      <th>...</th>\n",
              "      <td>...</td>\n",
              "      <td>...</td>\n",
              "      <td>...</td>\n",
              "      <td>...</td>\n",
              "      <td>...</td>\n",
              "      <td>...</td>\n",
              "      <td>...</td>\n",
              "    </tr>\n",
              "    <tr>\n",
              "      <th>113</th>\n",
              "      <td>114</td>\n",
              "      <td>Bonaire, Saint Eustatius and Saba</td>\n",
              "      <td>5.1</td>\n",
              "      <td>4.35</td>\n",
              "      <td>7.90</td>\n",
              "      <td>10.15</td>\n",
              "      <td>26221</td>\n",
              "    </tr>\n",
              "    <tr>\n",
              "      <th>114</th>\n",
              "      <td>115</td>\n",
              "      <td>Cape Verde</td>\n",
              "      <td>5.1</td>\n",
              "      <td>4.35</td>\n",
              "      <td>7.90</td>\n",
              "      <td>10.15</td>\n",
              "      <td>555988</td>\n",
              "    </tr>\n",
              "    <tr>\n",
              "      <th>115</th>\n",
              "      <td>116</td>\n",
              "      <td>Puerto Rico</td>\n",
              "      <td>4.8</td>\n",
              "      <td>3.70</td>\n",
              "      <td>10.20</td>\n",
              "      <td>13.70</td>\n",
              "      <td>2860840</td>\n",
              "    </tr>\n",
              "    <tr>\n",
              "      <th>116</th>\n",
              "      <td>117</td>\n",
              "      <td>U.S. Virgin Islands</td>\n",
              "      <td>4.5</td>\n",
              "      <td>3.70</td>\n",
              "      <td>3.50</td>\n",
              "      <td>6.90</td>\n",
              "      <td>104423</td>\n",
              "    </tr>\n",
              "    <tr>\n",
              "      <th>117</th>\n",
              "      <td>118</td>\n",
              "      <td>New Caledonia</td>\n",
              "      <td>3.8</td>\n",
              "      <td>3.70</td>\n",
              "      <td>6.85</td>\n",
              "      <td>10.15</td>\n",
              "      <td>285491</td>\n",
              "    </tr>\n",
              "  </tbody>\n",
              "</table>\n",
              "<p>118 rows × 7 columns</p>\n",
              "</div>\n",
              "      <button class=\"colab-df-convert\" onclick=\"convertToInteractive('df-f0bac6ce-3a95-44d0-9c1b-b5cfb185966a')\"\n",
              "              title=\"Convert this dataframe to an interactive table.\"\n",
              "              style=\"display:none;\">\n",
              "        \n",
              "  <svg xmlns=\"http://www.w3.org/2000/svg\" height=\"24px\"viewBox=\"0 0 24 24\"\n",
              "       width=\"24px\">\n",
              "    <path d=\"M0 0h24v24H0V0z\" fill=\"none\"/>\n",
              "    <path d=\"M18.56 5.44l.94 2.06.94-2.06 2.06-.94-2.06-.94-.94-2.06-.94 2.06-2.06.94zm-11 1L8.5 8.5l.94-2.06 2.06-.94-2.06-.94L8.5 2.5l-.94 2.06-2.06.94zm10 10l.94 2.06.94-2.06 2.06-.94-2.06-.94-.94-2.06-.94 2.06-2.06.94z\"/><path d=\"M17.41 7.96l-1.37-1.37c-.4-.4-.92-.59-1.43-.59-.52 0-1.04.2-1.43.59L10.3 9.45l-7.72 7.72c-.78.78-.78 2.05 0 2.83L4 21.41c.39.39.9.59 1.41.59.51 0 1.02-.2 1.41-.59l7.78-7.78 2.81-2.81c.8-.78.8-2.07 0-2.86zM5.41 20L4 18.59l7.72-7.72 1.47 1.35L5.41 20z\"/>\n",
              "  </svg>\n",
              "      </button>\n",
              "      \n",
              "  <style>\n",
              "    .colab-df-container {\n",
              "      display:flex;\n",
              "      flex-wrap:wrap;\n",
              "      gap: 12px;\n",
              "    }\n",
              "\n",
              "    .colab-df-convert {\n",
              "      background-color: #E8F0FE;\n",
              "      border: none;\n",
              "      border-radius: 50%;\n",
              "      cursor: pointer;\n",
              "      display: none;\n",
              "      fill: #1967D2;\n",
              "      height: 32px;\n",
              "      padding: 0 0 0 0;\n",
              "      width: 32px;\n",
              "    }\n",
              "\n",
              "    .colab-df-convert:hover {\n",
              "      background-color: #E2EBFA;\n",
              "      box-shadow: 0px 1px 2px rgba(60, 64, 67, 0.3), 0px 1px 3px 1px rgba(60, 64, 67, 0.15);\n",
              "      fill: #174EA6;\n",
              "    }\n",
              "\n",
              "    [theme=dark] .colab-df-convert {\n",
              "      background-color: #3B4455;\n",
              "      fill: #D2E3FC;\n",
              "    }\n",
              "\n",
              "    [theme=dark] .colab-df-convert:hover {\n",
              "      background-color: #434B5C;\n",
              "      box-shadow: 0px 1px 3px 1px rgba(0, 0, 0, 0.15);\n",
              "      filter: drop-shadow(0px 1px 2px rgba(0, 0, 0, 0.3));\n",
              "      fill: #FFFFFF;\n",
              "    }\n",
              "  </style>\n",
              "\n",
              "      <script>\n",
              "        const buttonEl =\n",
              "          document.querySelector('#df-f0bac6ce-3a95-44d0-9c1b-b5cfb185966a button.colab-df-convert');\n",
              "        buttonEl.style.display =\n",
              "          google.colab.kernel.accessAllowed ? 'block' : 'none';\n",
              "\n",
              "        async function convertToInteractive(key) {\n",
              "          const element = document.querySelector('#df-f0bac6ce-3a95-44d0-9c1b-b5cfb185966a');\n",
              "          const dataTable =\n",
              "            await google.colab.kernel.invokeFunction('convertToInteractive',\n",
              "                                                     [key], {});\n",
              "          if (!dataTable) return;\n",
              "\n",
              "          const docLinkHtml = 'Like what you see? Visit the ' +\n",
              "            '<a target=\"_blank\" href=https://colab.research.google.com/notebooks/data_table.ipynb>data table notebook</a>'\n",
              "            + ' to learn more about interactive tables.';\n",
              "          element.innerHTML = '';\n",
              "          dataTable['output_type'] = 'display_data';\n",
              "          await google.colab.output.renderOutput(dataTable, element);\n",
              "          const docLink = document.createElement('div');\n",
              "          docLink.innerHTML = docLinkHtml;\n",
              "          element.appendChild(docLink);\n",
              "        }\n",
              "      </script>\n",
              "    </div>\n",
              "  </div>\n",
              "  "
            ],
            "text/plain": [
              "     Rank                     Country/Region  2021   2020   2019   2018  \\\n",
              "0       1                         Bangladesh  76.9  77.10  83.30  97.10   \n",
              "1       2                               Chad  75.9  68.05  74.55  85.70   \n",
              "2       3                           Pakistan  66.8  59.00  65.80  74.30   \n",
              "3       4                         Tajikistan  59.4  30.90  40.00  56.95   \n",
              "4       5                              India  58.1  51.90  58.10  72.50   \n",
              "..    ...                                ...   ...    ...    ...    ...   \n",
              "113   114  Bonaire, Saint Eustatius and Saba   5.1   4.35   7.90  10.15   \n",
              "114   115                         Cape Verde   5.1   4.35   7.90  10.15   \n",
              "115   116                        Puerto Rico   4.8   3.70  10.20  13.70   \n",
              "116   117                U.S. Virgin Islands   4.5   3.70   3.50   6.90   \n",
              "117   118                      New Caledonia   3.8   3.70   6.85  10.15   \n",
              "\n",
              "     Population  \n",
              "0     164689383  \n",
              "1      16425859  \n",
              "2     220892331  \n",
              "3       9537642  \n",
              "4    1380004385  \n",
              "..          ...  \n",
              "113       26221  \n",
              "114      555988  \n",
              "115     2860840  \n",
              "116      104423  \n",
              "117      285491  \n",
              "\n",
              "[118 rows x 7 columns]"
            ]
          },
          "execution_count": 81,
          "metadata": {},
          "output_type": "execute_result"
        }
      ],
      "source": [
        "df_aqitpcr"
      ]
    },
    {
      "cell_type": "code",
      "execution_count": 82,
      "metadata": {
        "id": "UeJw9Qf92Cy0"
      },
      "outputs": [],
      "source": [
        "def human_format(num):\n",
        "    magnitude = 0\n",
        "    while abs(num) >= 1000:\n",
        "        magnitude += 1\n",
        "        num /= 1000.0\n",
        "    # add more suffixes if you need them\n",
        "    return '%.1f%s' % (num, ['', 'K', 'M', 'B', 'T', 'P'][magnitude])"
      ]
    },
    {
      "cell_type": "code",
      "execution_count": 83,
      "metadata": {
        "colab": {
          "base_uri": "https://localhost:8080/",
          "height": 542
        },
        "id": "-240N3Nro2Vf",
        "outputId": "e75dbb8f-e1ff-4042-d759-29ce3febef0e"
      },
      "outputs": [
        {
          "data": {
            "text/html": [
              "<html>\n",
              "<head><meta charset=\"utf-8\" /></head>\n",
              "<body>\n",
              "    <div>            <script src=\"https://cdnjs.cloudflare.com/ajax/libs/mathjax/2.7.5/MathJax.js?config=TeX-AMS-MML_SVG\"></script><script type=\"text/javascript\">if (window.MathJax) {MathJax.Hub.Config({SVG: {font: \"STIX-Web\"}});}</script>                <script type=\"text/javascript\">window.PlotlyConfig = {MathJaxConfig: 'local'};</script>\n",
              "        <script src=\"https://cdn.plot.ly/plotly-2.8.3.min.js\"></script>                <div id=\"f40e3db1-88e7-4b6c-a044-ff64b8dec2ab\" class=\"plotly-graph-div\" style=\"height:525px; width:100%;\"></div>            <script type=\"text/javascript\">                                    window.PLOTLYENV=window.PLOTLYENV || {};                                    if (document.getElementById(\"f40e3db1-88e7-4b6c-a044-ff64b8dec2ab\")) {                    Plotly.newPlot(                        \"f40e3db1-88e7-4b6c-a044-ff64b8dec2ab\",                        [{\"alignmentgroup\":\"True\",\"hovertemplate\":\"Country/Region=%{x}<br>Population=%{y}<br>text=%{text}<extra></extra>\",\"legendgroup\":\"China\",\"marker\":{\"color\":\"#636efa\",\"pattern\":{\"shape\":\"\"}},\"name\":\"China\",\"offsetgroup\":\"China\",\"orientation\":\"v\",\"showlegend\":true,\"text\":[\"1.4B\"],\"textposition\":\"auto\",\"x\":[\"China\"],\"xaxis\":\"x\",\"y\":[1439323774],\"yaxis\":\"y\",\"type\":\"bar\"},{\"alignmentgroup\":\"True\",\"hovertemplate\":\"Country/Region=%{x}<br>Population=%{y}<br>text=%{text}<extra></extra>\",\"legendgroup\":\"India\",\"marker\":{\"color\":\"#EF553B\",\"pattern\":{\"shape\":\"\"}},\"name\":\"India\",\"offsetgroup\":\"India\",\"orientation\":\"v\",\"showlegend\":true,\"text\":[\"1.4B\"],\"textposition\":\"auto\",\"x\":[\"India\"],\"xaxis\":\"x\",\"y\":[1380004385],\"yaxis\":\"y\",\"type\":\"bar\"},{\"alignmentgroup\":\"True\",\"hovertemplate\":\"Country/Region=%{x}<br>Population=%{y}<br>text=%{text}<extra></extra>\",\"legendgroup\":\"USA\",\"marker\":{\"color\":\"#00cc96\",\"pattern\":{\"shape\":\"\"}},\"name\":\"USA\",\"offsetgroup\":\"USA\",\"orientation\":\"v\",\"showlegend\":true,\"text\":[\"331.0M\"],\"textposition\":\"auto\",\"x\":[\"USA\"],\"xaxis\":\"x\",\"y\":[331002647],\"yaxis\":\"y\",\"type\":\"bar\"},{\"alignmentgroup\":\"True\",\"hovertemplate\":\"Country/Region=%{x}<br>Population=%{y}<br>text=%{text}<extra></extra>\",\"legendgroup\":\"Indonesia\",\"marker\":{\"color\":\"#ab63fa\",\"pattern\":{\"shape\":\"\"}},\"name\":\"Indonesia\",\"offsetgroup\":\"Indonesia\",\"orientation\":\"v\",\"showlegend\":true,\"text\":[\"273.5M\"],\"textposition\":\"auto\",\"x\":[\"Indonesia\"],\"xaxis\":\"x\",\"y\":[273523621],\"yaxis\":\"y\",\"type\":\"bar\"},{\"alignmentgroup\":\"True\",\"hovertemplate\":\"Country/Region=%{x}<br>Population=%{y}<br>text=%{text}<extra></extra>\",\"legendgroup\":\"Pakistan\",\"marker\":{\"color\":\"#FFA15A\",\"pattern\":{\"shape\":\"\"}},\"name\":\"Pakistan\",\"offsetgroup\":\"Pakistan\",\"orientation\":\"v\",\"showlegend\":true,\"text\":[\"220.9M\"],\"textposition\":\"auto\",\"x\":[\"Pakistan\"],\"xaxis\":\"x\",\"y\":[220892331],\"yaxis\":\"y\",\"type\":\"bar\"},{\"alignmentgroup\":\"True\",\"hovertemplate\":\"Country/Region=%{x}<br>Population=%{y}<br>text=%{text}<extra></extra>\",\"legendgroup\":\"Brazil\",\"marker\":{\"color\":\"#19d3f3\",\"pattern\":{\"shape\":\"\"}},\"name\":\"Brazil\",\"offsetgroup\":\"Brazil\",\"orientation\":\"v\",\"showlegend\":true,\"text\":[\"212.6M\"],\"textposition\":\"auto\",\"x\":[\"Brazil\"],\"xaxis\":\"x\",\"y\":[212559409],\"yaxis\":\"y\",\"type\":\"bar\"},{\"alignmentgroup\":\"True\",\"hovertemplate\":\"Country/Region=%{x}<br>Population=%{y}<br>text=%{text}<extra></extra>\",\"legendgroup\":\"Nigeria\",\"marker\":{\"color\":\"#FF6692\",\"pattern\":{\"shape\":\"\"}},\"name\":\"Nigeria\",\"offsetgroup\":\"Nigeria\",\"orientation\":\"v\",\"showlegend\":true,\"text\":[\"206.1M\"],\"textposition\":\"auto\",\"x\":[\"Nigeria\"],\"xaxis\":\"x\",\"y\":[206139587],\"yaxis\":\"y\",\"type\":\"bar\"},{\"alignmentgroup\":\"True\",\"hovertemplate\":\"Country/Region=%{x}<br>Population=%{y}<br>text=%{text}<extra></extra>\",\"legendgroup\":\"Bangladesh\",\"marker\":{\"color\":\"#B6E880\",\"pattern\":{\"shape\":\"\"}},\"name\":\"Bangladesh\",\"offsetgroup\":\"Bangladesh\",\"orientation\":\"v\",\"showlegend\":true,\"text\":[\"164.7M\"],\"textposition\":\"auto\",\"x\":[\"Bangladesh\"],\"xaxis\":\"x\",\"y\":[164689383],\"yaxis\":\"y\",\"type\":\"bar\"},{\"alignmentgroup\":\"True\",\"hovertemplate\":\"Country/Region=%{x}<br>Population=%{y}<br>text=%{text}<extra></extra>\",\"legendgroup\":\"Russia\",\"marker\":{\"color\":\"#FF97FF\",\"pattern\":{\"shape\":\"\"}},\"name\":\"Russia\",\"offsetgroup\":\"Russia\",\"orientation\":\"v\",\"showlegend\":true,\"text\":[\"145.9M\"],\"textposition\":\"auto\",\"x\":[\"Russia\"],\"xaxis\":\"x\",\"y\":[145934460],\"yaxis\":\"y\",\"type\":\"bar\"},{\"alignmentgroup\":\"True\",\"hovertemplate\":\"Country/Region=%{x}<br>Population=%{y}<br>text=%{text}<extra></extra>\",\"legendgroup\":\"Mexico\",\"marker\":{\"color\":\"#FECB52\",\"pattern\":{\"shape\":\"\"}},\"name\":\"Mexico\",\"offsetgroup\":\"Mexico\",\"orientation\":\"v\",\"showlegend\":true,\"text\":[\"128.9M\"],\"textposition\":\"auto\",\"x\":[\"Mexico\"],\"xaxis\":\"x\",\"y\":[128932753],\"yaxis\":\"y\",\"type\":\"bar\"}],                        {\"template\":{\"data\":{\"bar\":[{\"error_x\":{\"color\":\"#2a3f5f\"},\"error_y\":{\"color\":\"#2a3f5f\"},\"marker\":{\"line\":{\"color\":\"#E5ECF6\",\"width\":0.5},\"pattern\":{\"fillmode\":\"overlay\",\"size\":10,\"solidity\":0.2}},\"type\":\"bar\"}],\"barpolar\":[{\"marker\":{\"line\":{\"color\":\"#E5ECF6\",\"width\":0.5},\"pattern\":{\"fillmode\":\"overlay\",\"size\":10,\"solidity\":0.2}},\"type\":\"barpolar\"}],\"carpet\":[{\"aaxis\":{\"endlinecolor\":\"#2a3f5f\",\"gridcolor\":\"white\",\"linecolor\":\"white\",\"minorgridcolor\":\"white\",\"startlinecolor\":\"#2a3f5f\"},\"baxis\":{\"endlinecolor\":\"#2a3f5f\",\"gridcolor\":\"white\",\"linecolor\":\"white\",\"minorgridcolor\":\"white\",\"startlinecolor\":\"#2a3f5f\"},\"type\":\"carpet\"}],\"choropleth\":[{\"colorbar\":{\"outlinewidth\":0,\"ticks\":\"\"},\"type\":\"choropleth\"}],\"contour\":[{\"colorbar\":{\"outlinewidth\":0,\"ticks\":\"\"},\"colorscale\":[[0.0,\"#0d0887\"],[0.1111111111111111,\"#46039f\"],[0.2222222222222222,\"#7201a8\"],[0.3333333333333333,\"#9c179e\"],[0.4444444444444444,\"#bd3786\"],[0.5555555555555556,\"#d8576b\"],[0.6666666666666666,\"#ed7953\"],[0.7777777777777778,\"#fb9f3a\"],[0.8888888888888888,\"#fdca26\"],[1.0,\"#f0f921\"]],\"type\":\"contour\"}],\"contourcarpet\":[{\"colorbar\":{\"outlinewidth\":0,\"ticks\":\"\"},\"type\":\"contourcarpet\"}],\"heatmap\":[{\"colorbar\":{\"outlinewidth\":0,\"ticks\":\"\"},\"colorscale\":[[0.0,\"#0d0887\"],[0.1111111111111111,\"#46039f\"],[0.2222222222222222,\"#7201a8\"],[0.3333333333333333,\"#9c179e\"],[0.4444444444444444,\"#bd3786\"],[0.5555555555555556,\"#d8576b\"],[0.6666666666666666,\"#ed7953\"],[0.7777777777777778,\"#fb9f3a\"],[0.8888888888888888,\"#fdca26\"],[1.0,\"#f0f921\"]],\"type\":\"heatmap\"}],\"heatmapgl\":[{\"colorbar\":{\"outlinewidth\":0,\"ticks\":\"\"},\"colorscale\":[[0.0,\"#0d0887\"],[0.1111111111111111,\"#46039f\"],[0.2222222222222222,\"#7201a8\"],[0.3333333333333333,\"#9c179e\"],[0.4444444444444444,\"#bd3786\"],[0.5555555555555556,\"#d8576b\"],[0.6666666666666666,\"#ed7953\"],[0.7777777777777778,\"#fb9f3a\"],[0.8888888888888888,\"#fdca26\"],[1.0,\"#f0f921\"]],\"type\":\"heatmapgl\"}],\"histogram\":[{\"marker\":{\"pattern\":{\"fillmode\":\"overlay\",\"size\":10,\"solidity\":0.2}},\"type\":\"histogram\"}],\"histogram2d\":[{\"colorbar\":{\"outlinewidth\":0,\"ticks\":\"\"},\"colorscale\":[[0.0,\"#0d0887\"],[0.1111111111111111,\"#46039f\"],[0.2222222222222222,\"#7201a8\"],[0.3333333333333333,\"#9c179e\"],[0.4444444444444444,\"#bd3786\"],[0.5555555555555556,\"#d8576b\"],[0.6666666666666666,\"#ed7953\"],[0.7777777777777778,\"#fb9f3a\"],[0.8888888888888888,\"#fdca26\"],[1.0,\"#f0f921\"]],\"type\":\"histogram2d\"}],\"histogram2dcontour\":[{\"colorbar\":{\"outlinewidth\":0,\"ticks\":\"\"},\"colorscale\":[[0.0,\"#0d0887\"],[0.1111111111111111,\"#46039f\"],[0.2222222222222222,\"#7201a8\"],[0.3333333333333333,\"#9c179e\"],[0.4444444444444444,\"#bd3786\"],[0.5555555555555556,\"#d8576b\"],[0.6666666666666666,\"#ed7953\"],[0.7777777777777778,\"#fb9f3a\"],[0.8888888888888888,\"#fdca26\"],[1.0,\"#f0f921\"]],\"type\":\"histogram2dcontour\"}],\"mesh3d\":[{\"colorbar\":{\"outlinewidth\":0,\"ticks\":\"\"},\"type\":\"mesh3d\"}],\"parcoords\":[{\"line\":{\"colorbar\":{\"outlinewidth\":0,\"ticks\":\"\"}},\"type\":\"parcoords\"}],\"pie\":[{\"automargin\":true,\"type\":\"pie\"}],\"scatter\":[{\"marker\":{\"colorbar\":{\"outlinewidth\":0,\"ticks\":\"\"}},\"type\":\"scatter\"}],\"scatter3d\":[{\"line\":{\"colorbar\":{\"outlinewidth\":0,\"ticks\":\"\"}},\"marker\":{\"colorbar\":{\"outlinewidth\":0,\"ticks\":\"\"}},\"type\":\"scatter3d\"}],\"scattercarpet\":[{\"marker\":{\"colorbar\":{\"outlinewidth\":0,\"ticks\":\"\"}},\"type\":\"scattercarpet\"}],\"scattergeo\":[{\"marker\":{\"colorbar\":{\"outlinewidth\":0,\"ticks\":\"\"}},\"type\":\"scattergeo\"}],\"scattergl\":[{\"marker\":{\"colorbar\":{\"outlinewidth\":0,\"ticks\":\"\"}},\"type\":\"scattergl\"}],\"scattermapbox\":[{\"marker\":{\"colorbar\":{\"outlinewidth\":0,\"ticks\":\"\"}},\"type\":\"scattermapbox\"}],\"scatterpolar\":[{\"marker\":{\"colorbar\":{\"outlinewidth\":0,\"ticks\":\"\"}},\"type\":\"scatterpolar\"}],\"scatterpolargl\":[{\"marker\":{\"colorbar\":{\"outlinewidth\":0,\"ticks\":\"\"}},\"type\":\"scatterpolargl\"}],\"scatterternary\":[{\"marker\":{\"colorbar\":{\"outlinewidth\":0,\"ticks\":\"\"}},\"type\":\"scatterternary\"}],\"surface\":[{\"colorbar\":{\"outlinewidth\":0,\"ticks\":\"\"},\"colorscale\":[[0.0,\"#0d0887\"],[0.1111111111111111,\"#46039f\"],[0.2222222222222222,\"#7201a8\"],[0.3333333333333333,\"#9c179e\"],[0.4444444444444444,\"#bd3786\"],[0.5555555555555556,\"#d8576b\"],[0.6666666666666666,\"#ed7953\"],[0.7777777777777778,\"#fb9f3a\"],[0.8888888888888888,\"#fdca26\"],[1.0,\"#f0f921\"]],\"type\":\"surface\"}],\"table\":[{\"cells\":{\"fill\":{\"color\":\"#EBF0F8\"},\"line\":{\"color\":\"white\"}},\"header\":{\"fill\":{\"color\":\"#C8D4E3\"},\"line\":{\"color\":\"white\"}},\"type\":\"table\"}]},\"layout\":{\"annotationdefaults\":{\"arrowcolor\":\"#2a3f5f\",\"arrowhead\":0,\"arrowwidth\":1},\"autotypenumbers\":\"strict\",\"coloraxis\":{\"colorbar\":{\"outlinewidth\":0,\"ticks\":\"\"}},\"colorscale\":{\"diverging\":[[0,\"#8e0152\"],[0.1,\"#c51b7d\"],[0.2,\"#de77ae\"],[0.3,\"#f1b6da\"],[0.4,\"#fde0ef\"],[0.5,\"#f7f7f7\"],[0.6,\"#e6f5d0\"],[0.7,\"#b8e186\"],[0.8,\"#7fbc41\"],[0.9,\"#4d9221\"],[1,\"#276419\"]],\"sequential\":[[0.0,\"#0d0887\"],[0.1111111111111111,\"#46039f\"],[0.2222222222222222,\"#7201a8\"],[0.3333333333333333,\"#9c179e\"],[0.4444444444444444,\"#bd3786\"],[0.5555555555555556,\"#d8576b\"],[0.6666666666666666,\"#ed7953\"],[0.7777777777777778,\"#fb9f3a\"],[0.8888888888888888,\"#fdca26\"],[1.0,\"#f0f921\"]],\"sequentialminus\":[[0.0,\"#0d0887\"],[0.1111111111111111,\"#46039f\"],[0.2222222222222222,\"#7201a8\"],[0.3333333333333333,\"#9c179e\"],[0.4444444444444444,\"#bd3786\"],[0.5555555555555556,\"#d8576b\"],[0.6666666666666666,\"#ed7953\"],[0.7777777777777778,\"#fb9f3a\"],[0.8888888888888888,\"#fdca26\"],[1.0,\"#f0f921\"]]},\"colorway\":[\"#636efa\",\"#EF553B\",\"#00cc96\",\"#ab63fa\",\"#FFA15A\",\"#19d3f3\",\"#FF6692\",\"#B6E880\",\"#FF97FF\",\"#FECB52\"],\"font\":{\"color\":\"#2a3f5f\"},\"geo\":{\"bgcolor\":\"white\",\"lakecolor\":\"white\",\"landcolor\":\"#E5ECF6\",\"showlakes\":true,\"showland\":true,\"subunitcolor\":\"white\"},\"hoverlabel\":{\"align\":\"left\"},\"hovermode\":\"closest\",\"mapbox\":{\"style\":\"light\"},\"paper_bgcolor\":\"white\",\"plot_bgcolor\":\"#E5ECF6\",\"polar\":{\"angularaxis\":{\"gridcolor\":\"white\",\"linecolor\":\"white\",\"ticks\":\"\"},\"bgcolor\":\"#E5ECF6\",\"radialaxis\":{\"gridcolor\":\"white\",\"linecolor\":\"white\",\"ticks\":\"\"}},\"scene\":{\"xaxis\":{\"backgroundcolor\":\"#E5ECF6\",\"gridcolor\":\"white\",\"gridwidth\":2,\"linecolor\":\"white\",\"showbackground\":true,\"ticks\":\"\",\"zerolinecolor\":\"white\"},\"yaxis\":{\"backgroundcolor\":\"#E5ECF6\",\"gridcolor\":\"white\",\"gridwidth\":2,\"linecolor\":\"white\",\"showbackground\":true,\"ticks\":\"\",\"zerolinecolor\":\"white\"},\"zaxis\":{\"backgroundcolor\":\"#E5ECF6\",\"gridcolor\":\"white\",\"gridwidth\":2,\"linecolor\":\"white\",\"showbackground\":true,\"ticks\":\"\",\"zerolinecolor\":\"white\"}},\"shapedefaults\":{\"line\":{\"color\":\"#2a3f5f\"}},\"ternary\":{\"aaxis\":{\"gridcolor\":\"white\",\"linecolor\":\"white\",\"ticks\":\"\"},\"baxis\":{\"gridcolor\":\"white\",\"linecolor\":\"white\",\"ticks\":\"\"},\"bgcolor\":\"#E5ECF6\",\"caxis\":{\"gridcolor\":\"white\",\"linecolor\":\"white\",\"ticks\":\"\"}},\"title\":{\"x\":0.05},\"xaxis\":{\"automargin\":true,\"gridcolor\":\"white\",\"linecolor\":\"white\",\"ticks\":\"\",\"title\":{\"standoff\":15},\"zerolinecolor\":\"white\",\"zerolinewidth\":2},\"yaxis\":{\"automargin\":true,\"gridcolor\":\"white\",\"linecolor\":\"white\",\"ticks\":\"\",\"title\":{\"standoff\":15},\"zerolinecolor\":\"white\",\"zerolinewidth\":2}}},\"xaxis\":{\"anchor\":\"y\",\"domain\":[0.0,1.0],\"title\":{\"text\":\"Country/Region\"},\"categoryorder\":\"array\",\"categoryarray\":[\"China\",\"India\",\"USA\",\"Indonesia\",\"Pakistan\",\"Brazil\",\"Nigeria\",\"Bangladesh\",\"Russia\",\"Mexico\"]},\"yaxis\":{\"anchor\":\"x\",\"domain\":[0.0,1.0],\"title\":{\"text\":\"Population\"}},\"legend\":{\"title\":{\"text\":\"Country/Region\"},\"tracegroupgap\":0},\"title\":{\"text\":\"Top 10 Population Country In World\"},\"barmode\":\"relative\",\"plot_bgcolor\":\"white\"},                        {\"responsive\": true}                    ).then(function(){\n",
              "                            \n",
              "var gd = document.getElementById('f40e3db1-88e7-4b6c-a044-ff64b8dec2ab');\n",
              "var x = new MutationObserver(function (mutations, observer) {{\n",
              "        var display = window.getComputedStyle(gd).display;\n",
              "        if (!display || display === 'none') {{\n",
              "            console.log([gd, 'removed!']);\n",
              "            Plotly.purge(gd);\n",
              "            observer.disconnect();\n",
              "        }}\n",
              "}});\n",
              "\n",
              "// Listen for the removal of the full notebook cells\n",
              "var notebookContainer = gd.closest('#notebook-container');\n",
              "if (notebookContainer) {{\n",
              "    x.observe(notebookContainer, {childList: true});\n",
              "}}\n",
              "\n",
              "// Listen for the clearing of the current output cell\n",
              "var outputEl = gd.closest('.output');\n",
              "if (outputEl) {{\n",
              "    x.observe(outputEl, {childList: true});\n",
              "}}\n",
              "\n",
              "                        })                };                            </script>        </div>\n",
              "</body>\n",
              "</html>"
            ]
          },
          "metadata": {},
          "output_type": "display_data"
        }
      ],
      "source": [
        "top_10_country = df_aqitpcr.sort_values(['Population'], ascending=False).head(10).copy()\n",
        "top_10_country[\"text\"] = top_10_country[\"Population\"].apply(lambda x: human_format(x))\n",
        "fig1= px.bar(top_10_country, \n",
        "             x=\"Country/Region\",\n",
        "             y=\"Population\", \n",
        "             color='Country/Region',\n",
        "             text=\"text\",\n",
        "             title=\"Top 10 Population Country In World\")\n",
        "fig1.layout.plot_bgcolor = \"white\"\n",
        "fig1.show()"
      ]
    },
    {
      "cell_type": "markdown",
      "metadata": {
        "id": "5Pt2GkIPJyof"
      },
      "source": [
        "The total population in Indonesia ranks 4th:\n",
        "* China = 1.4B\n",
        "* India = 1.4B\n",
        "* USA = 331M\n",
        "* **Indonesia 273.5M**\n",
        "\n",
        "The population of Indonesia has increased from time to time. The increase in population has a negative impact on the environment. the availability of green land as a source of clean air in urban areas is also reduced due to the many existing green lands being converted as settlements. Thus it can be said that an increase in population can lead to reduced availability of clean air. The reduced availability of clean air can also be caused by air pollution due to motor vehicle fumes."
      ]
    },
    {
      "cell_type": "markdown",
      "metadata": {
        "id": "BMVw5-JdTR11"
      },
      "source": [
        "# **Get Indonesia Data**"
      ]
    },
    {
      "cell_type": "code",
      "execution_count": 84,
      "metadata": {
        "colab": {
          "base_uri": "https://localhost:8080/",
          "height": 211
        },
        "id": "9QFyT86ZVWjn",
        "outputId": "222134a0-c4e0-4966-830c-66b7e3d7f956"
      },
      "outputs": [
        {
          "data": {
            "text/html": [
              "\n",
              "  <div id=\"df-8a48589d-1814-46e2-802f-cf7b4fff6bcf\">\n",
              "    <div class=\"colab-df-container\">\n",
              "      <div>\n",
              "<style scoped>\n",
              "    .dataframe tbody tr th:only-of-type {\n",
              "        vertical-align: middle;\n",
              "    }\n",
              "\n",
              "    .dataframe tbody tr th {\n",
              "        vertical-align: top;\n",
              "    }\n",
              "\n",
              "    .dataframe thead th {\n",
              "        text-align: right;\n",
              "    }\n",
              "</style>\n",
              "<table border=\"1\" class=\"dataframe\">\n",
              "  <thead>\n",
              "    <tr style=\"text-align: right;\">\n",
              "      <th></th>\n",
              "      <th>Rank</th>\n",
              "      <th>City</th>\n",
              "      <th>2021</th>\n",
              "      <th>JAN(2021)</th>\n",
              "      <th>FEB(2021)</th>\n",
              "      <th>MAR(2021)</th>\n",
              "      <th>APR(2021)</th>\n",
              "      <th>MAY(2021)</th>\n",
              "      <th>JUN(2021)</th>\n",
              "      <th>JUL(2021)</th>\n",
              "      <th>AUG(2021)</th>\n",
              "      <th>SEP(2021)</th>\n",
              "      <th>OCT(2021)</th>\n",
              "      <th>NOV(2021)</th>\n",
              "      <th>DEC(2021)</th>\n",
              "      <th>2020</th>\n",
              "      <th>2019</th>\n",
              "      <th>2018</th>\n",
              "      <th>2017</th>\n",
              "      <th>country</th>\n",
              "      <th>city_only</th>\n",
              "    </tr>\n",
              "  </thead>\n",
              "  <tbody>\n",
              "    <tr>\n",
              "      <th>0</th>\n",
              "      <td>1</td>\n",
              "      <td>Bhiwadi, India</td>\n",
              "      <td>106.2</td>\n",
              "      <td>145.8</td>\n",
              "      <td>129.8</td>\n",
              "      <td>120.2</td>\n",
              "      <td>125.7</td>\n",
              "      <td>86.5</td>\n",
              "      <td>95.9</td>\n",
              "      <td>55.6</td>\n",
              "      <td>55.4</td>\n",
              "      <td>37.1</td>\n",
              "      <td>91.1</td>\n",
              "      <td>188.6</td>\n",
              "      <td>136.6</td>\n",
              "      <td>95.5</td>\n",
              "      <td>83.4</td>\n",
              "      <td>125.4</td>\n",
              "      <td>134.3</td>\n",
              "      <td>India</td>\n",
              "      <td>Bhiwadi</td>\n",
              "    </tr>\n",
              "    <tr>\n",
              "      <th>1</th>\n",
              "      <td>2</td>\n",
              "      <td>Ghaziabad, India</td>\n",
              "      <td>102.0</td>\n",
              "      <td>199.9</td>\n",
              "      <td>172.2</td>\n",
              "      <td>97.8</td>\n",
              "      <td>86.3</td>\n",
              "      <td>52.9</td>\n",
              "      <td>47.2</td>\n",
              "      <td>35.3</td>\n",
              "      <td>37.6</td>\n",
              "      <td>30.8</td>\n",
              "      <td>89.7</td>\n",
              "      <td>218.3</td>\n",
              "      <td>163.0</td>\n",
              "      <td>106.6</td>\n",
              "      <td>110.2</td>\n",
              "      <td>135.2</td>\n",
              "      <td>144.6</td>\n",
              "      <td>India</td>\n",
              "      <td>Ghaziabad</td>\n",
              "    </tr>\n",
              "  </tbody>\n",
              "</table>\n",
              "</div>\n",
              "      <button class=\"colab-df-convert\" onclick=\"convertToInteractive('df-8a48589d-1814-46e2-802f-cf7b4fff6bcf')\"\n",
              "              title=\"Convert this dataframe to an interactive table.\"\n",
              "              style=\"display:none;\">\n",
              "        \n",
              "  <svg xmlns=\"http://www.w3.org/2000/svg\" height=\"24px\"viewBox=\"0 0 24 24\"\n",
              "       width=\"24px\">\n",
              "    <path d=\"M0 0h24v24H0V0z\" fill=\"none\"/>\n",
              "    <path d=\"M18.56 5.44l.94 2.06.94-2.06 2.06-.94-2.06-.94-.94-2.06-.94 2.06-2.06.94zm-11 1L8.5 8.5l.94-2.06 2.06-.94-2.06-.94L8.5 2.5l-.94 2.06-2.06.94zm10 10l.94 2.06.94-2.06 2.06-.94-2.06-.94-.94-2.06-.94 2.06-2.06.94z\"/><path d=\"M17.41 7.96l-1.37-1.37c-.4-.4-.92-.59-1.43-.59-.52 0-1.04.2-1.43.59L10.3 9.45l-7.72 7.72c-.78.78-.78 2.05 0 2.83L4 21.41c.39.39.9.59 1.41.59.51 0 1.02-.2 1.41-.59l7.78-7.78 2.81-2.81c.8-.78.8-2.07 0-2.86zM5.41 20L4 18.59l7.72-7.72 1.47 1.35L5.41 20z\"/>\n",
              "  </svg>\n",
              "      </button>\n",
              "      \n",
              "  <style>\n",
              "    .colab-df-container {\n",
              "      display:flex;\n",
              "      flex-wrap:wrap;\n",
              "      gap: 12px;\n",
              "    }\n",
              "\n",
              "    .colab-df-convert {\n",
              "      background-color: #E8F0FE;\n",
              "      border: none;\n",
              "      border-radius: 50%;\n",
              "      cursor: pointer;\n",
              "      display: none;\n",
              "      fill: #1967D2;\n",
              "      height: 32px;\n",
              "      padding: 0 0 0 0;\n",
              "      width: 32px;\n",
              "    }\n",
              "\n",
              "    .colab-df-convert:hover {\n",
              "      background-color: #E2EBFA;\n",
              "      box-shadow: 0px 1px 2px rgba(60, 64, 67, 0.3), 0px 1px 3px 1px rgba(60, 64, 67, 0.15);\n",
              "      fill: #174EA6;\n",
              "    }\n",
              "\n",
              "    [theme=dark] .colab-df-convert {\n",
              "      background-color: #3B4455;\n",
              "      fill: #D2E3FC;\n",
              "    }\n",
              "\n",
              "    [theme=dark] .colab-df-convert:hover {\n",
              "      background-color: #434B5C;\n",
              "      box-shadow: 0px 1px 3px 1px rgba(0, 0, 0, 0.15);\n",
              "      filter: drop-shadow(0px 1px 2px rgba(0, 0, 0, 0.3));\n",
              "      fill: #FFFFFF;\n",
              "    }\n",
              "  </style>\n",
              "\n",
              "      <script>\n",
              "        const buttonEl =\n",
              "          document.querySelector('#df-8a48589d-1814-46e2-802f-cf7b4fff6bcf button.colab-df-convert');\n",
              "        buttonEl.style.display =\n",
              "          google.colab.kernel.accessAllowed ? 'block' : 'none';\n",
              "\n",
              "        async function convertToInteractive(key) {\n",
              "          const element = document.querySelector('#df-8a48589d-1814-46e2-802f-cf7b4fff6bcf');\n",
              "          const dataTable =\n",
              "            await google.colab.kernel.invokeFunction('convertToInteractive',\n",
              "                                                     [key], {});\n",
              "          if (!dataTable) return;\n",
              "\n",
              "          const docLinkHtml = 'Like what you see? Visit the ' +\n",
              "            '<a target=\"_blank\" href=https://colab.research.google.com/notebooks/data_table.ipynb>data table notebook</a>'\n",
              "            + ' to learn more about interactive tables.';\n",
              "          element.innerHTML = '';\n",
              "          dataTable['output_type'] = 'display_data';\n",
              "          await google.colab.output.renderOutput(dataTable, element);\n",
              "          const docLink = document.createElement('div');\n",
              "          docLink.innerHTML = docLinkHtml;\n",
              "          element.appendChild(docLink);\n",
              "        }\n",
              "      </script>\n",
              "    </div>\n",
              "  </div>\n",
              "  "
            ],
            "text/plain": [
              "   Rank              City   2021  JAN(2021)  FEB(2021)  MAR(2021)  APR(2021)  \\\n",
              "0     1    Bhiwadi, India  106.2      145.8      129.8      120.2      125.7   \n",
              "1     2  Ghaziabad, India  102.0      199.9      172.2       97.8       86.3   \n",
              "\n",
              "   MAY(2021)  JUN(2021)  JUL(2021)  AUG(2021)  SEP(2021)  OCT(2021)  \\\n",
              "0       86.5       95.9       55.6       55.4       37.1       91.1   \n",
              "1       52.9       47.2       35.3       37.6       30.8       89.7   \n",
              "\n",
              "   NOV(2021)  DEC(2021)   2020   2019   2018   2017 country  city_only  \n",
              "0      188.6      136.6   95.5   83.4  125.4  134.3   India    Bhiwadi  \n",
              "1      218.3      163.0  106.6  110.2  135.2  144.6   India  Ghaziabad  "
            ]
          },
          "execution_count": 84,
          "metadata": {},
          "output_type": "execute_result"
        }
      ],
      "source": [
        "df_aqicty.head(2)"
      ]
    },
    {
      "cell_type": "code",
      "execution_count": 85,
      "metadata": {
        "colab": {
          "base_uri": "https://localhost:8080/",
          "height": 357
        },
        "id": "zRGKpaJHTPNu",
        "outputId": "099d1226-3915-4023-daf5-720224c18591"
      },
      "outputs": [
        {
          "data": {
            "text/html": [
              "\n",
              "  <div id=\"df-43e4a1c7-f41e-40ce-95f3-800a9e6d1bcd\">\n",
              "    <div class=\"colab-df-container\">\n",
              "      <div>\n",
              "<style scoped>\n",
              "    .dataframe tbody tr th:only-of-type {\n",
              "        vertical-align: middle;\n",
              "    }\n",
              "\n",
              "    .dataframe tbody tr th {\n",
              "        vertical-align: top;\n",
              "    }\n",
              "\n",
              "    .dataframe thead th {\n",
              "        text-align: right;\n",
              "    }\n",
              "</style>\n",
              "<table border=\"1\" class=\"dataframe\">\n",
              "  <thead>\n",
              "    <tr style=\"text-align: right;\">\n",
              "      <th></th>\n",
              "      <th>Rank</th>\n",
              "      <th>City</th>\n",
              "      <th>2021</th>\n",
              "      <th>JAN(2021)</th>\n",
              "      <th>FEB(2021)</th>\n",
              "      <th>MAR(2021)</th>\n",
              "      <th>APR(2021)</th>\n",
              "      <th>MAY(2021)</th>\n",
              "      <th>JUN(2021)</th>\n",
              "      <th>JUL(2021)</th>\n",
              "      <th>AUG(2021)</th>\n",
              "      <th>SEP(2021)</th>\n",
              "      <th>OCT(2021)</th>\n",
              "      <th>NOV(2021)</th>\n",
              "      <th>DEC(2021)</th>\n",
              "      <th>2020</th>\n",
              "      <th>2019</th>\n",
              "      <th>2018</th>\n",
              "      <th>2017</th>\n",
              "      <th>country</th>\n",
              "      <th>city_only</th>\n",
              "    </tr>\n",
              "  </thead>\n",
              "  <tbody>\n",
              "    <tr>\n",
              "      <th>0</th>\n",
              "      <td>239</td>\n",
              "      <td>Jakarta, Indonesia</td>\n",
              "      <td>39.2</td>\n",
              "      <td>27.9</td>\n",
              "      <td>24.3</td>\n",
              "      <td>36.2</td>\n",
              "      <td>41.0</td>\n",
              "      <td>45.3</td>\n",
              "      <td>54.5</td>\n",
              "      <td>57.2</td>\n",
              "      <td>46.4</td>\n",
              "      <td>39.8</td>\n",
              "      <td>43.5</td>\n",
              "      <td>23.8</td>\n",
              "      <td>29.7</td>\n",
              "      <td>39.6</td>\n",
              "      <td>49.40</td>\n",
              "      <td>45.30</td>\n",
              "      <td>29.70</td>\n",
              "      <td>Indonesia</td>\n",
              "      <td>Jakarta</td>\n",
              "    </tr>\n",
              "    <tr>\n",
              "      <th>1</th>\n",
              "      <td>328</td>\n",
              "      <td>Surabaya, Indonesia</td>\n",
              "      <td>34.8</td>\n",
              "      <td>24.5</td>\n",
              "      <td>25.2</td>\n",
              "      <td>41.9</td>\n",
              "      <td>38.9</td>\n",
              "      <td>32.4</td>\n",
              "      <td>37.2</td>\n",
              "      <td>38.6</td>\n",
              "      <td>32.9</td>\n",
              "      <td>27.7</td>\n",
              "      <td>42.9</td>\n",
              "      <td>41.6</td>\n",
              "      <td>24.1</td>\n",
              "      <td>33.4</td>\n",
              "      <td>40.60</td>\n",
              "      <td>47.25</td>\n",
              "      <td>37.25</td>\n",
              "      <td>Indonesia</td>\n",
              "      <td>Surabaya</td>\n",
              "    </tr>\n",
              "    <tr>\n",
              "      <th>2</th>\n",
              "      <td>372</td>\n",
              "      <td>Bandung, Indonesia</td>\n",
              "      <td>33.4</td>\n",
              "      <td>19.6</td>\n",
              "      <td>21.1</td>\n",
              "      <td>32.6</td>\n",
              "      <td>35.0</td>\n",
              "      <td>39.3</td>\n",
              "      <td>42.0</td>\n",
              "      <td>39.0</td>\n",
              "      <td>33.5</td>\n",
              "      <td>29.6</td>\n",
              "      <td>41.7</td>\n",
              "      <td>29.1</td>\n",
              "      <td>34.7</td>\n",
              "      <td>33.2</td>\n",
              "      <td>30.35</td>\n",
              "      <td>47.25</td>\n",
              "      <td>38.25</td>\n",
              "      <td>Indonesia</td>\n",
              "      <td>Bandung</td>\n",
              "    </tr>\n",
              "    <tr>\n",
              "      <th>3</th>\n",
              "      <td>522</td>\n",
              "      <td>Semarang, Indonesia</td>\n",
              "      <td>28.6</td>\n",
              "      <td>23.2</td>\n",
              "      <td>16.2</td>\n",
              "      <td>31.7</td>\n",
              "      <td>26.5</td>\n",
              "      <td>25.9</td>\n",
              "      <td>22.3</td>\n",
              "      <td>39.3</td>\n",
              "      <td>27.7</td>\n",
              "      <td>26.2</td>\n",
              "      <td>35.6</td>\n",
              "      <td>31.8</td>\n",
              "      <td>32.8</td>\n",
              "      <td>28.5</td>\n",
              "      <td>16.75</td>\n",
              "      <td>23.20</td>\n",
              "      <td>33.25</td>\n",
              "      <td>Indonesia</td>\n",
              "      <td>Semarang</td>\n",
              "    </tr>\n",
              "    <tr>\n",
              "      <th>4</th>\n",
              "      <td>632</td>\n",
              "      <td>Palembang, Indonesia</td>\n",
              "      <td>26.0</td>\n",
              "      <td>25.6</td>\n",
              "      <td>29.3</td>\n",
              "      <td>27.6</td>\n",
              "      <td>30.5</td>\n",
              "      <td>23.6</td>\n",
              "      <td>25.6</td>\n",
              "      <td>24.5</td>\n",
              "      <td>23.4</td>\n",
              "      <td>23.1</td>\n",
              "      <td>34.4</td>\n",
              "      <td>24.1</td>\n",
              "      <td>22.0</td>\n",
              "      <td>23.4</td>\n",
              "      <td>20.15</td>\n",
              "      <td>22.75</td>\n",
              "      <td>19.75</td>\n",
              "      <td>Indonesia</td>\n",
              "      <td>Palembang</td>\n",
              "    </tr>\n",
              "  </tbody>\n",
              "</table>\n",
              "</div>\n",
              "      <button class=\"colab-df-convert\" onclick=\"convertToInteractive('df-43e4a1c7-f41e-40ce-95f3-800a9e6d1bcd')\"\n",
              "              title=\"Convert this dataframe to an interactive table.\"\n",
              "              style=\"display:none;\">\n",
              "        \n",
              "  <svg xmlns=\"http://www.w3.org/2000/svg\" height=\"24px\"viewBox=\"0 0 24 24\"\n",
              "       width=\"24px\">\n",
              "    <path d=\"M0 0h24v24H0V0z\" fill=\"none\"/>\n",
              "    <path d=\"M18.56 5.44l.94 2.06.94-2.06 2.06-.94-2.06-.94-.94-2.06-.94 2.06-2.06.94zm-11 1L8.5 8.5l.94-2.06 2.06-.94-2.06-.94L8.5 2.5l-.94 2.06-2.06.94zm10 10l.94 2.06.94-2.06 2.06-.94-2.06-.94-.94-2.06-.94 2.06-2.06.94z\"/><path d=\"M17.41 7.96l-1.37-1.37c-.4-.4-.92-.59-1.43-.59-.52 0-1.04.2-1.43.59L10.3 9.45l-7.72 7.72c-.78.78-.78 2.05 0 2.83L4 21.41c.39.39.9.59 1.41.59.51 0 1.02-.2 1.41-.59l7.78-7.78 2.81-2.81c.8-.78.8-2.07 0-2.86zM5.41 20L4 18.59l7.72-7.72 1.47 1.35L5.41 20z\"/>\n",
              "  </svg>\n",
              "      </button>\n",
              "      \n",
              "  <style>\n",
              "    .colab-df-container {\n",
              "      display:flex;\n",
              "      flex-wrap:wrap;\n",
              "      gap: 12px;\n",
              "    }\n",
              "\n",
              "    .colab-df-convert {\n",
              "      background-color: #E8F0FE;\n",
              "      border: none;\n",
              "      border-radius: 50%;\n",
              "      cursor: pointer;\n",
              "      display: none;\n",
              "      fill: #1967D2;\n",
              "      height: 32px;\n",
              "      padding: 0 0 0 0;\n",
              "      width: 32px;\n",
              "    }\n",
              "\n",
              "    .colab-df-convert:hover {\n",
              "      background-color: #E2EBFA;\n",
              "      box-shadow: 0px 1px 2px rgba(60, 64, 67, 0.3), 0px 1px 3px 1px rgba(60, 64, 67, 0.15);\n",
              "      fill: #174EA6;\n",
              "    }\n",
              "\n",
              "    [theme=dark] .colab-df-convert {\n",
              "      background-color: #3B4455;\n",
              "      fill: #D2E3FC;\n",
              "    }\n",
              "\n",
              "    [theme=dark] .colab-df-convert:hover {\n",
              "      background-color: #434B5C;\n",
              "      box-shadow: 0px 1px 3px 1px rgba(0, 0, 0, 0.15);\n",
              "      filter: drop-shadow(0px 1px 2px rgba(0, 0, 0, 0.3));\n",
              "      fill: #FFFFFF;\n",
              "    }\n",
              "  </style>\n",
              "\n",
              "      <script>\n",
              "        const buttonEl =\n",
              "          document.querySelector('#df-43e4a1c7-f41e-40ce-95f3-800a9e6d1bcd button.colab-df-convert');\n",
              "        buttonEl.style.display =\n",
              "          google.colab.kernel.accessAllowed ? 'block' : 'none';\n",
              "\n",
              "        async function convertToInteractive(key) {\n",
              "          const element = document.querySelector('#df-43e4a1c7-f41e-40ce-95f3-800a9e6d1bcd');\n",
              "          const dataTable =\n",
              "            await google.colab.kernel.invokeFunction('convertToInteractive',\n",
              "                                                     [key], {});\n",
              "          if (!dataTable) return;\n",
              "\n",
              "          const docLinkHtml = 'Like what you see? Visit the ' +\n",
              "            '<a target=\"_blank\" href=https://colab.research.google.com/notebooks/data_table.ipynb>data table notebook</a>'\n",
              "            + ' to learn more about interactive tables.';\n",
              "          element.innerHTML = '';\n",
              "          dataTable['output_type'] = 'display_data';\n",
              "          await google.colab.output.renderOutput(dataTable, element);\n",
              "          const docLink = document.createElement('div');\n",
              "          docLink.innerHTML = docLinkHtml;\n",
              "          element.appendChild(docLink);\n",
              "        }\n",
              "      </script>\n",
              "    </div>\n",
              "  </div>\n",
              "  "
            ],
            "text/plain": [
              "   Rank                  City  2021  JAN(2021)  FEB(2021)  MAR(2021)  \\\n",
              "0   239    Jakarta, Indonesia  39.2       27.9       24.3       36.2   \n",
              "1   328   Surabaya, Indonesia  34.8       24.5       25.2       41.9   \n",
              "2   372    Bandung, Indonesia  33.4       19.6       21.1       32.6   \n",
              "3   522   Semarang, Indonesia  28.6       23.2       16.2       31.7   \n",
              "4   632  Palembang, Indonesia  26.0       25.6       29.3       27.6   \n",
              "\n",
              "   APR(2021)  MAY(2021)  JUN(2021)  JUL(2021)  AUG(2021)  SEP(2021)  \\\n",
              "0       41.0       45.3       54.5       57.2       46.4       39.8   \n",
              "1       38.9       32.4       37.2       38.6       32.9       27.7   \n",
              "2       35.0       39.3       42.0       39.0       33.5       29.6   \n",
              "3       26.5       25.9       22.3       39.3       27.7       26.2   \n",
              "4       30.5       23.6       25.6       24.5       23.4       23.1   \n",
              "\n",
              "   OCT(2021)  NOV(2021)  DEC(2021)  2020   2019   2018   2017    country  \\\n",
              "0       43.5       23.8       29.7  39.6  49.40  45.30  29.70  Indonesia   \n",
              "1       42.9       41.6       24.1  33.4  40.60  47.25  37.25  Indonesia   \n",
              "2       41.7       29.1       34.7  33.2  30.35  47.25  38.25  Indonesia   \n",
              "3       35.6       31.8       32.8  28.5  16.75  23.20  33.25  Indonesia   \n",
              "4       34.4       24.1       22.0  23.4  20.15  22.75  19.75  Indonesia   \n",
              "\n",
              "   city_only  \n",
              "0    Jakarta  \n",
              "1   Surabaya  \n",
              "2    Bandung  \n",
              "3   Semarang  \n",
              "4  Palembang  "
            ]
          },
          "execution_count": 85,
          "metadata": {},
          "output_type": "execute_result"
        }
      ],
      "source": [
        "# select city in Indonesia\n",
        "df_aqicty_indo = df_aqicty.loc[df_aqicty['country'] == 'Indonesia'].reset_index(drop=True)\n",
        "df_aqicty_indo.head()"
      ]
    },
    {
      "cell_type": "code",
      "execution_count": 86,
      "metadata": {
        "colab": {
          "base_uri": "https://localhost:8080/",
          "height": 112
        },
        "id": "3EP8_pQUVVks",
        "outputId": "106dde30-90b9-4429-a6fb-af4729c8522e"
      },
      "outputs": [
        {
          "data": {
            "text/html": [
              "\n",
              "  <div id=\"df-b3496075-1ec5-4dc2-aea5-936b0089ecae\">\n",
              "    <div class=\"colab-df-container\">\n",
              "      <div>\n",
              "<style scoped>\n",
              "    .dataframe tbody tr th:only-of-type {\n",
              "        vertical-align: middle;\n",
              "    }\n",
              "\n",
              "    .dataframe tbody tr th {\n",
              "        vertical-align: top;\n",
              "    }\n",
              "\n",
              "    .dataframe thead th {\n",
              "        text-align: right;\n",
              "    }\n",
              "</style>\n",
              "<table border=\"1\" class=\"dataframe\">\n",
              "  <thead>\n",
              "    <tr style=\"text-align: right;\">\n",
              "      <th></th>\n",
              "      <th>Rank</th>\n",
              "      <th>Country/Region</th>\n",
              "      <th>2021</th>\n",
              "      <th>2020</th>\n",
              "      <th>2019</th>\n",
              "      <th>2018</th>\n",
              "      <th>Population</th>\n",
              "    </tr>\n",
              "  </thead>\n",
              "  <tbody>\n",
              "    <tr>\n",
              "      <th>0</th>\n",
              "      <td>1</td>\n",
              "      <td>Bangladesh</td>\n",
              "      <td>76.9</td>\n",
              "      <td>77.10</td>\n",
              "      <td>83.30</td>\n",
              "      <td>97.1</td>\n",
              "      <td>164689383</td>\n",
              "    </tr>\n",
              "    <tr>\n",
              "      <th>1</th>\n",
              "      <td>2</td>\n",
              "      <td>Chad</td>\n",
              "      <td>75.9</td>\n",
              "      <td>68.05</td>\n",
              "      <td>74.55</td>\n",
              "      <td>85.7</td>\n",
              "      <td>16425859</td>\n",
              "    </tr>\n",
              "  </tbody>\n",
              "</table>\n",
              "</div>\n",
              "      <button class=\"colab-df-convert\" onclick=\"convertToInteractive('df-b3496075-1ec5-4dc2-aea5-936b0089ecae')\"\n",
              "              title=\"Convert this dataframe to an interactive table.\"\n",
              "              style=\"display:none;\">\n",
              "        \n",
              "  <svg xmlns=\"http://www.w3.org/2000/svg\" height=\"24px\"viewBox=\"0 0 24 24\"\n",
              "       width=\"24px\">\n",
              "    <path d=\"M0 0h24v24H0V0z\" fill=\"none\"/>\n",
              "    <path d=\"M18.56 5.44l.94 2.06.94-2.06 2.06-.94-2.06-.94-.94-2.06-.94 2.06-2.06.94zm-11 1L8.5 8.5l.94-2.06 2.06-.94-2.06-.94L8.5 2.5l-.94 2.06-2.06.94zm10 10l.94 2.06.94-2.06 2.06-.94-2.06-.94-.94-2.06-.94 2.06-2.06.94z\"/><path d=\"M17.41 7.96l-1.37-1.37c-.4-.4-.92-.59-1.43-.59-.52 0-1.04.2-1.43.59L10.3 9.45l-7.72 7.72c-.78.78-.78 2.05 0 2.83L4 21.41c.39.39.9.59 1.41.59.51 0 1.02-.2 1.41-.59l7.78-7.78 2.81-2.81c.8-.78.8-2.07 0-2.86zM5.41 20L4 18.59l7.72-7.72 1.47 1.35L5.41 20z\"/>\n",
              "  </svg>\n",
              "      </button>\n",
              "      \n",
              "  <style>\n",
              "    .colab-df-container {\n",
              "      display:flex;\n",
              "      flex-wrap:wrap;\n",
              "      gap: 12px;\n",
              "    }\n",
              "\n",
              "    .colab-df-convert {\n",
              "      background-color: #E8F0FE;\n",
              "      border: none;\n",
              "      border-radius: 50%;\n",
              "      cursor: pointer;\n",
              "      display: none;\n",
              "      fill: #1967D2;\n",
              "      height: 32px;\n",
              "      padding: 0 0 0 0;\n",
              "      width: 32px;\n",
              "    }\n",
              "\n",
              "    .colab-df-convert:hover {\n",
              "      background-color: #E2EBFA;\n",
              "      box-shadow: 0px 1px 2px rgba(60, 64, 67, 0.3), 0px 1px 3px 1px rgba(60, 64, 67, 0.15);\n",
              "      fill: #174EA6;\n",
              "    }\n",
              "\n",
              "    [theme=dark] .colab-df-convert {\n",
              "      background-color: #3B4455;\n",
              "      fill: #D2E3FC;\n",
              "    }\n",
              "\n",
              "    [theme=dark] .colab-df-convert:hover {\n",
              "      background-color: #434B5C;\n",
              "      box-shadow: 0px 1px 3px 1px rgba(0, 0, 0, 0.15);\n",
              "      filter: drop-shadow(0px 1px 2px rgba(0, 0, 0, 0.3));\n",
              "      fill: #FFFFFF;\n",
              "    }\n",
              "  </style>\n",
              "\n",
              "      <script>\n",
              "        const buttonEl =\n",
              "          document.querySelector('#df-b3496075-1ec5-4dc2-aea5-936b0089ecae button.colab-df-convert');\n",
              "        buttonEl.style.display =\n",
              "          google.colab.kernel.accessAllowed ? 'block' : 'none';\n",
              "\n",
              "        async function convertToInteractive(key) {\n",
              "          const element = document.querySelector('#df-b3496075-1ec5-4dc2-aea5-936b0089ecae');\n",
              "          const dataTable =\n",
              "            await google.colab.kernel.invokeFunction('convertToInteractive',\n",
              "                                                     [key], {});\n",
              "          if (!dataTable) return;\n",
              "\n",
              "          const docLinkHtml = 'Like what you see? Visit the ' +\n",
              "            '<a target=\"_blank\" href=https://colab.research.google.com/notebooks/data_table.ipynb>data table notebook</a>'\n",
              "            + ' to learn more about interactive tables.';\n",
              "          element.innerHTML = '';\n",
              "          dataTable['output_type'] = 'display_data';\n",
              "          await google.colab.output.renderOutput(dataTable, element);\n",
              "          const docLink = document.createElement('div');\n",
              "          docLink.innerHTML = docLinkHtml;\n",
              "          element.appendChild(docLink);\n",
              "        }\n",
              "      </script>\n",
              "    </div>\n",
              "  </div>\n",
              "  "
            ],
            "text/plain": [
              "   Rank Country/Region  2021   2020   2019  2018  Population\n",
              "0     1     Bangladesh  76.9  77.10  83.30  97.1   164689383\n",
              "1     2           Chad  75.9  68.05  74.55  85.7    16425859"
            ]
          },
          "execution_count": 86,
          "metadata": {},
          "output_type": "execute_result"
        }
      ],
      "source": [
        "df_aqitpcr.head(2)"
      ]
    },
    {
      "cell_type": "code",
      "execution_count": 87,
      "metadata": {
        "colab": {
          "base_uri": "https://localhost:8080/",
          "height": 81
        },
        "id": "JcR-c4pjTH12",
        "outputId": "66f49209-dca5-4cca-bc60-e2334167d8f4"
      },
      "outputs": [
        {
          "data": {
            "text/html": [
              "\n",
              "  <div id=\"df-e8b01fd3-a8cc-47d3-bd51-1e4e3f7ab18b\">\n",
              "    <div class=\"colab-df-container\">\n",
              "      <div>\n",
              "<style scoped>\n",
              "    .dataframe tbody tr th:only-of-type {\n",
              "        vertical-align: middle;\n",
              "    }\n",
              "\n",
              "    .dataframe tbody tr th {\n",
              "        vertical-align: top;\n",
              "    }\n",
              "\n",
              "    .dataframe thead th {\n",
              "        text-align: right;\n",
              "    }\n",
              "</style>\n",
              "<table border=\"1\" class=\"dataframe\">\n",
              "  <thead>\n",
              "    <tr style=\"text-align: right;\">\n",
              "      <th></th>\n",
              "      <th>Rank</th>\n",
              "      <th>Country/Region</th>\n",
              "      <th>2021</th>\n",
              "      <th>2020</th>\n",
              "      <th>2019</th>\n",
              "      <th>2018</th>\n",
              "      <th>Population</th>\n",
              "    </tr>\n",
              "  </thead>\n",
              "  <tbody>\n",
              "    <tr>\n",
              "      <th>0</th>\n",
              "      <td>17</td>\n",
              "      <td>Indonesia</td>\n",
              "      <td>34.3</td>\n",
              "      <td>40.7</td>\n",
              "      <td>51.7</td>\n",
              "      <td>42.0</td>\n",
              "      <td>273523621</td>\n",
              "    </tr>\n",
              "  </tbody>\n",
              "</table>\n",
              "</div>\n",
              "      <button class=\"colab-df-convert\" onclick=\"convertToInteractive('df-e8b01fd3-a8cc-47d3-bd51-1e4e3f7ab18b')\"\n",
              "              title=\"Convert this dataframe to an interactive table.\"\n",
              "              style=\"display:none;\">\n",
              "        \n",
              "  <svg xmlns=\"http://www.w3.org/2000/svg\" height=\"24px\"viewBox=\"0 0 24 24\"\n",
              "       width=\"24px\">\n",
              "    <path d=\"M0 0h24v24H0V0z\" fill=\"none\"/>\n",
              "    <path d=\"M18.56 5.44l.94 2.06.94-2.06 2.06-.94-2.06-.94-.94-2.06-.94 2.06-2.06.94zm-11 1L8.5 8.5l.94-2.06 2.06-.94-2.06-.94L8.5 2.5l-.94 2.06-2.06.94zm10 10l.94 2.06.94-2.06 2.06-.94-2.06-.94-.94-2.06-.94 2.06-2.06.94z\"/><path d=\"M17.41 7.96l-1.37-1.37c-.4-.4-.92-.59-1.43-.59-.52 0-1.04.2-1.43.59L10.3 9.45l-7.72 7.72c-.78.78-.78 2.05 0 2.83L4 21.41c.39.39.9.59 1.41.59.51 0 1.02-.2 1.41-.59l7.78-7.78 2.81-2.81c.8-.78.8-2.07 0-2.86zM5.41 20L4 18.59l7.72-7.72 1.47 1.35L5.41 20z\"/>\n",
              "  </svg>\n",
              "      </button>\n",
              "      \n",
              "  <style>\n",
              "    .colab-df-container {\n",
              "      display:flex;\n",
              "      flex-wrap:wrap;\n",
              "      gap: 12px;\n",
              "    }\n",
              "\n",
              "    .colab-df-convert {\n",
              "      background-color: #E8F0FE;\n",
              "      border: none;\n",
              "      border-radius: 50%;\n",
              "      cursor: pointer;\n",
              "      display: none;\n",
              "      fill: #1967D2;\n",
              "      height: 32px;\n",
              "      padding: 0 0 0 0;\n",
              "      width: 32px;\n",
              "    }\n",
              "\n",
              "    .colab-df-convert:hover {\n",
              "      background-color: #E2EBFA;\n",
              "      box-shadow: 0px 1px 2px rgba(60, 64, 67, 0.3), 0px 1px 3px 1px rgba(60, 64, 67, 0.15);\n",
              "      fill: #174EA6;\n",
              "    }\n",
              "\n",
              "    [theme=dark] .colab-df-convert {\n",
              "      background-color: #3B4455;\n",
              "      fill: #D2E3FC;\n",
              "    }\n",
              "\n",
              "    [theme=dark] .colab-df-convert:hover {\n",
              "      background-color: #434B5C;\n",
              "      box-shadow: 0px 1px 3px 1px rgba(0, 0, 0, 0.15);\n",
              "      filter: drop-shadow(0px 1px 2px rgba(0, 0, 0, 0.3));\n",
              "      fill: #FFFFFF;\n",
              "    }\n",
              "  </style>\n",
              "\n",
              "      <script>\n",
              "        const buttonEl =\n",
              "          document.querySelector('#df-e8b01fd3-a8cc-47d3-bd51-1e4e3f7ab18b button.colab-df-convert');\n",
              "        buttonEl.style.display =\n",
              "          google.colab.kernel.accessAllowed ? 'block' : 'none';\n",
              "\n",
              "        async function convertToInteractive(key) {\n",
              "          const element = document.querySelector('#df-e8b01fd3-a8cc-47d3-bd51-1e4e3f7ab18b');\n",
              "          const dataTable =\n",
              "            await google.colab.kernel.invokeFunction('convertToInteractive',\n",
              "                                                     [key], {});\n",
              "          if (!dataTable) return;\n",
              "\n",
              "          const docLinkHtml = 'Like what you see? Visit the ' +\n",
              "            '<a target=\"_blank\" href=https://colab.research.google.com/notebooks/data_table.ipynb>data table notebook</a>'\n",
              "            + ' to learn more about interactive tables.';\n",
              "          element.innerHTML = '';\n",
              "          dataTable['output_type'] = 'display_data';\n",
              "          await google.colab.output.renderOutput(dataTable, element);\n",
              "          const docLink = document.createElement('div');\n",
              "          docLink.innerHTML = docLinkHtml;\n",
              "          element.appendChild(docLink);\n",
              "        }\n",
              "      </script>\n",
              "    </div>\n",
              "  </div>\n",
              "  "
            ],
            "text/plain": [
              "   Rank Country/Region  2021  2020  2019  2018  Population\n",
              "0    17      Indonesia  34.3  40.7  51.7  42.0   273523621"
            ]
          },
          "execution_count": 87,
          "metadata": {},
          "output_type": "execute_result"
        }
      ],
      "source": [
        "# select country = Indonesia\n",
        "df_aqitpcr_indo = df_aqitpcr.loc[df_aqitpcr['Country/Region'] == \"Indonesia\"].reset_index(drop=True)\n",
        "df_aqitpcr_indo"
      ]
    },
    {
      "cell_type": "markdown",
      "metadata": {
        "id": "1v2i5b5IVsLY"
      },
      "source": [
        "# **Exploratory Data Analysis (Indo)**"
      ]
    },
    {
      "cell_type": "code",
      "execution_count": 88,
      "metadata": {
        "colab": {
          "base_uri": "https://localhost:8080/"
        },
        "id": "Yv1ShfkMVor9",
        "outputId": "52f23d77-d244-4f58-ec67-28b47c216e23"
      },
      "outputs": [
        {
          "data": {
            "text/plain": [
              "array(['Jakarta', 'Surabaya', 'Bandung', 'Semarang', 'Palembang', 'Duri',\n",
              "       'Bangkinang', 'Balaipungut', 'Pontianak', 'Dumai', 'Jambi',\n",
              "       'Pekanbaru', 'Sedinginan', 'Ubud', 'Semarapura', 'Serang',\n",
              "       'Denpasar', 'Bogor', 'Jimbaran', 'Makassar', 'Cirebon', 'Kuta',\n",
              "       'Palangkaraya', 'Banda Aceh', 'Kayu Agung', 'Samarinda',\n",
              "       'Indralaya'], dtype=object)"
            ]
          },
          "execution_count": 88,
          "metadata": {},
          "output_type": "execute_result"
        }
      ],
      "source": [
        "# find unique list in row city_only\n",
        "df_aqicty_indo['city_only'].unique()"
      ]
    },
    {
      "cell_type": "code",
      "execution_count": 89,
      "metadata": {
        "colab": {
          "base_uri": "https://localhost:8080/",
          "height": 542
        },
        "id": "YoNjxL4JWuGH",
        "outputId": "4e9b62d4-d8f4-431a-e78c-aeddfe9fd79f"
      },
      "outputs": [
        {
          "data": {
            "text/html": [
              "<html>\n",
              "<head><meta charset=\"utf-8\" /></head>\n",
              "<body>\n",
              "    <div>            <script src=\"https://cdnjs.cloudflare.com/ajax/libs/mathjax/2.7.5/MathJax.js?config=TeX-AMS-MML_SVG\"></script><script type=\"text/javascript\">if (window.MathJax) {MathJax.Hub.Config({SVG: {font: \"STIX-Web\"}});}</script>                <script type=\"text/javascript\">window.PlotlyConfig = {MathJaxConfig: 'local'};</script>\n",
              "        <script src=\"https://cdn.plot.ly/plotly-2.8.3.min.js\"></script>                <div id=\"dba5e319-df8d-4563-a708-0ea728ea4445\" class=\"plotly-graph-div\" style=\"height:525px; width:100%;\"></div>            <script type=\"text/javascript\">                                    window.PLOTLYENV=window.PLOTLYENV || {};                                    if (document.getElementById(\"dba5e319-df8d-4563-a708-0ea728ea4445\")) {                    Plotly.newPlot(                        \"dba5e319-df8d-4563-a708-0ea728ea4445\",                        [{\"alignmentgroup\":\"True\",\"hovertemplate\":\"City=%{x}<br>2021=%{marker.color}<extra></extra>\",\"legendgroup\":\"\",\"marker\":{\"color\":[39.2,34.8,33.4,28.6,26.0,24.4,24.3,23.0,22.9,22.1,21.8,20.1,19.9,19.8,19.2,18.0,16.3,16.1,14.1,13.5,10.6,9.8,7.9,7.3,6.9,6.2,4.2],\"coloraxis\":\"coloraxis\",\"pattern\":{\"shape\":\"\"}},\"name\":\"\",\"offsetgroup\":\"\",\"orientation\":\"v\",\"showlegend\":false,\"text\":[39.2,34.8,33.4,28.6,26.0,24.4,24.3,23.0,22.9,22.1,21.8,20.1,19.9,19.8,19.2,18.0,16.3,16.1,14.1,13.5,10.6,9.8,7.9,7.3,6.9,6.2,4.2],\"textposition\":\"auto\",\"x\":[\"Jakarta\",\"Surabaya\",\"Bandung\",\"Semarang\",\"Palembang\",\"Duri\",\"Bangkinang\",\"Balaipungut\",\"Pontianak\",\"Dumai\",\"Jambi\",\"Pekanbaru\",\"Sedinginan\",\"Ubud\",\"Semarapura\",\"Serang\",\"Denpasar\",\"Bogor\",\"Jimbaran\",\"Makassar\",\"Cirebon\",\"Kuta\",\"Palangkaraya\",\"Banda Aceh\",\"Kayu Agung\",\"Samarinda\",\"Indralaya\"],\"xaxis\":\"x\",\"y\":[39.2,34.8,33.4,28.6,26.0,24.4,24.3,23.0,22.9,22.1,21.8,20.1,19.9,19.8,19.2,18.0,16.3,16.1,14.1,13.5,10.6,9.8,7.9,7.3,6.9,6.2,4.2],\"yaxis\":\"y\",\"type\":\"bar\"}],                        {\"template\":{\"data\":{\"bar\":[{\"error_x\":{\"color\":\"#2a3f5f\"},\"error_y\":{\"color\":\"#2a3f5f\"},\"marker\":{\"line\":{\"color\":\"#E5ECF6\",\"width\":0.5},\"pattern\":{\"fillmode\":\"overlay\",\"size\":10,\"solidity\":0.2}},\"type\":\"bar\"}],\"barpolar\":[{\"marker\":{\"line\":{\"color\":\"#E5ECF6\",\"width\":0.5},\"pattern\":{\"fillmode\":\"overlay\",\"size\":10,\"solidity\":0.2}},\"type\":\"barpolar\"}],\"carpet\":[{\"aaxis\":{\"endlinecolor\":\"#2a3f5f\",\"gridcolor\":\"white\",\"linecolor\":\"white\",\"minorgridcolor\":\"white\",\"startlinecolor\":\"#2a3f5f\"},\"baxis\":{\"endlinecolor\":\"#2a3f5f\",\"gridcolor\":\"white\",\"linecolor\":\"white\",\"minorgridcolor\":\"white\",\"startlinecolor\":\"#2a3f5f\"},\"type\":\"carpet\"}],\"choropleth\":[{\"colorbar\":{\"outlinewidth\":0,\"ticks\":\"\"},\"type\":\"choropleth\"}],\"contour\":[{\"colorbar\":{\"outlinewidth\":0,\"ticks\":\"\"},\"colorscale\":[[0.0,\"#0d0887\"],[0.1111111111111111,\"#46039f\"],[0.2222222222222222,\"#7201a8\"],[0.3333333333333333,\"#9c179e\"],[0.4444444444444444,\"#bd3786\"],[0.5555555555555556,\"#d8576b\"],[0.6666666666666666,\"#ed7953\"],[0.7777777777777778,\"#fb9f3a\"],[0.8888888888888888,\"#fdca26\"],[1.0,\"#f0f921\"]],\"type\":\"contour\"}],\"contourcarpet\":[{\"colorbar\":{\"outlinewidth\":0,\"ticks\":\"\"},\"type\":\"contourcarpet\"}],\"heatmap\":[{\"colorbar\":{\"outlinewidth\":0,\"ticks\":\"\"},\"colorscale\":[[0.0,\"#0d0887\"],[0.1111111111111111,\"#46039f\"],[0.2222222222222222,\"#7201a8\"],[0.3333333333333333,\"#9c179e\"],[0.4444444444444444,\"#bd3786\"],[0.5555555555555556,\"#d8576b\"],[0.6666666666666666,\"#ed7953\"],[0.7777777777777778,\"#fb9f3a\"],[0.8888888888888888,\"#fdca26\"],[1.0,\"#f0f921\"]],\"type\":\"heatmap\"}],\"heatmapgl\":[{\"colorbar\":{\"outlinewidth\":0,\"ticks\":\"\"},\"colorscale\":[[0.0,\"#0d0887\"],[0.1111111111111111,\"#46039f\"],[0.2222222222222222,\"#7201a8\"],[0.3333333333333333,\"#9c179e\"],[0.4444444444444444,\"#bd3786\"],[0.5555555555555556,\"#d8576b\"],[0.6666666666666666,\"#ed7953\"],[0.7777777777777778,\"#fb9f3a\"],[0.8888888888888888,\"#fdca26\"],[1.0,\"#f0f921\"]],\"type\":\"heatmapgl\"}],\"histogram\":[{\"marker\":{\"pattern\":{\"fillmode\":\"overlay\",\"size\":10,\"solidity\":0.2}},\"type\":\"histogram\"}],\"histogram2d\":[{\"colorbar\":{\"outlinewidth\":0,\"ticks\":\"\"},\"colorscale\":[[0.0,\"#0d0887\"],[0.1111111111111111,\"#46039f\"],[0.2222222222222222,\"#7201a8\"],[0.3333333333333333,\"#9c179e\"],[0.4444444444444444,\"#bd3786\"],[0.5555555555555556,\"#d8576b\"],[0.6666666666666666,\"#ed7953\"],[0.7777777777777778,\"#fb9f3a\"],[0.8888888888888888,\"#fdca26\"],[1.0,\"#f0f921\"]],\"type\":\"histogram2d\"}],\"histogram2dcontour\":[{\"colorbar\":{\"outlinewidth\":0,\"ticks\":\"\"},\"colorscale\":[[0.0,\"#0d0887\"],[0.1111111111111111,\"#46039f\"],[0.2222222222222222,\"#7201a8\"],[0.3333333333333333,\"#9c179e\"],[0.4444444444444444,\"#bd3786\"],[0.5555555555555556,\"#d8576b\"],[0.6666666666666666,\"#ed7953\"],[0.7777777777777778,\"#fb9f3a\"],[0.8888888888888888,\"#fdca26\"],[1.0,\"#f0f921\"]],\"type\":\"histogram2dcontour\"}],\"mesh3d\":[{\"colorbar\":{\"outlinewidth\":0,\"ticks\":\"\"},\"type\":\"mesh3d\"}],\"parcoords\":[{\"line\":{\"colorbar\":{\"outlinewidth\":0,\"ticks\":\"\"}},\"type\":\"parcoords\"}],\"pie\":[{\"automargin\":true,\"type\":\"pie\"}],\"scatter\":[{\"marker\":{\"colorbar\":{\"outlinewidth\":0,\"ticks\":\"\"}},\"type\":\"scatter\"}],\"scatter3d\":[{\"line\":{\"colorbar\":{\"outlinewidth\":0,\"ticks\":\"\"}},\"marker\":{\"colorbar\":{\"outlinewidth\":0,\"ticks\":\"\"}},\"type\":\"scatter3d\"}],\"scattercarpet\":[{\"marker\":{\"colorbar\":{\"outlinewidth\":0,\"ticks\":\"\"}},\"type\":\"scattercarpet\"}],\"scattergeo\":[{\"marker\":{\"colorbar\":{\"outlinewidth\":0,\"ticks\":\"\"}},\"type\":\"scattergeo\"}],\"scattergl\":[{\"marker\":{\"colorbar\":{\"outlinewidth\":0,\"ticks\":\"\"}},\"type\":\"scattergl\"}],\"scattermapbox\":[{\"marker\":{\"colorbar\":{\"outlinewidth\":0,\"ticks\":\"\"}},\"type\":\"scattermapbox\"}],\"scatterpolar\":[{\"marker\":{\"colorbar\":{\"outlinewidth\":0,\"ticks\":\"\"}},\"type\":\"scatterpolar\"}],\"scatterpolargl\":[{\"marker\":{\"colorbar\":{\"outlinewidth\":0,\"ticks\":\"\"}},\"type\":\"scatterpolargl\"}],\"scatterternary\":[{\"marker\":{\"colorbar\":{\"outlinewidth\":0,\"ticks\":\"\"}},\"type\":\"scatterternary\"}],\"surface\":[{\"colorbar\":{\"outlinewidth\":0,\"ticks\":\"\"},\"colorscale\":[[0.0,\"#0d0887\"],[0.1111111111111111,\"#46039f\"],[0.2222222222222222,\"#7201a8\"],[0.3333333333333333,\"#9c179e\"],[0.4444444444444444,\"#bd3786\"],[0.5555555555555556,\"#d8576b\"],[0.6666666666666666,\"#ed7953\"],[0.7777777777777778,\"#fb9f3a\"],[0.8888888888888888,\"#fdca26\"],[1.0,\"#f0f921\"]],\"type\":\"surface\"}],\"table\":[{\"cells\":{\"fill\":{\"color\":\"#EBF0F8\"},\"line\":{\"color\":\"white\"}},\"header\":{\"fill\":{\"color\":\"#C8D4E3\"},\"line\":{\"color\":\"white\"}},\"type\":\"table\"}]},\"layout\":{\"annotationdefaults\":{\"arrowcolor\":\"#2a3f5f\",\"arrowhead\":0,\"arrowwidth\":1},\"autotypenumbers\":\"strict\",\"coloraxis\":{\"colorbar\":{\"outlinewidth\":0,\"ticks\":\"\"}},\"colorscale\":{\"diverging\":[[0,\"#8e0152\"],[0.1,\"#c51b7d\"],[0.2,\"#de77ae\"],[0.3,\"#f1b6da\"],[0.4,\"#fde0ef\"],[0.5,\"#f7f7f7\"],[0.6,\"#e6f5d0\"],[0.7,\"#b8e186\"],[0.8,\"#7fbc41\"],[0.9,\"#4d9221\"],[1,\"#276419\"]],\"sequential\":[[0.0,\"#0d0887\"],[0.1111111111111111,\"#46039f\"],[0.2222222222222222,\"#7201a8\"],[0.3333333333333333,\"#9c179e\"],[0.4444444444444444,\"#bd3786\"],[0.5555555555555556,\"#d8576b\"],[0.6666666666666666,\"#ed7953\"],[0.7777777777777778,\"#fb9f3a\"],[0.8888888888888888,\"#fdca26\"],[1.0,\"#f0f921\"]],\"sequentialminus\":[[0.0,\"#0d0887\"],[0.1111111111111111,\"#46039f\"],[0.2222222222222222,\"#7201a8\"],[0.3333333333333333,\"#9c179e\"],[0.4444444444444444,\"#bd3786\"],[0.5555555555555556,\"#d8576b\"],[0.6666666666666666,\"#ed7953\"],[0.7777777777777778,\"#fb9f3a\"],[0.8888888888888888,\"#fdca26\"],[1.0,\"#f0f921\"]]},\"colorway\":[\"#636efa\",\"#EF553B\",\"#00cc96\",\"#ab63fa\",\"#FFA15A\",\"#19d3f3\",\"#FF6692\",\"#B6E880\",\"#FF97FF\",\"#FECB52\"],\"font\":{\"color\":\"#2a3f5f\"},\"geo\":{\"bgcolor\":\"white\",\"lakecolor\":\"white\",\"landcolor\":\"#E5ECF6\",\"showlakes\":true,\"showland\":true,\"subunitcolor\":\"white\"},\"hoverlabel\":{\"align\":\"left\"},\"hovermode\":\"closest\",\"mapbox\":{\"style\":\"light\"},\"paper_bgcolor\":\"white\",\"plot_bgcolor\":\"#E5ECF6\",\"polar\":{\"angularaxis\":{\"gridcolor\":\"white\",\"linecolor\":\"white\",\"ticks\":\"\"},\"bgcolor\":\"#E5ECF6\",\"radialaxis\":{\"gridcolor\":\"white\",\"linecolor\":\"white\",\"ticks\":\"\"}},\"scene\":{\"xaxis\":{\"backgroundcolor\":\"#E5ECF6\",\"gridcolor\":\"white\",\"gridwidth\":2,\"linecolor\":\"white\",\"showbackground\":true,\"ticks\":\"\",\"zerolinecolor\":\"white\"},\"yaxis\":{\"backgroundcolor\":\"#E5ECF6\",\"gridcolor\":\"white\",\"gridwidth\":2,\"linecolor\":\"white\",\"showbackground\":true,\"ticks\":\"\",\"zerolinecolor\":\"white\"},\"zaxis\":{\"backgroundcolor\":\"#E5ECF6\",\"gridcolor\":\"white\",\"gridwidth\":2,\"linecolor\":\"white\",\"showbackground\":true,\"ticks\":\"\",\"zerolinecolor\":\"white\"}},\"shapedefaults\":{\"line\":{\"color\":\"#2a3f5f\"}},\"ternary\":{\"aaxis\":{\"gridcolor\":\"white\",\"linecolor\":\"white\",\"ticks\":\"\"},\"baxis\":{\"gridcolor\":\"white\",\"linecolor\":\"white\",\"ticks\":\"\"},\"bgcolor\":\"#E5ECF6\",\"caxis\":{\"gridcolor\":\"white\",\"linecolor\":\"white\",\"ticks\":\"\"}},\"title\":{\"x\":0.05},\"xaxis\":{\"automargin\":true,\"gridcolor\":\"white\",\"linecolor\":\"white\",\"ticks\":\"\",\"title\":{\"standoff\":15},\"zerolinecolor\":\"white\",\"zerolinewidth\":2},\"yaxis\":{\"automargin\":true,\"gridcolor\":\"white\",\"linecolor\":\"white\",\"ticks\":\"\",\"title\":{\"standoff\":15},\"zerolinecolor\":\"white\",\"zerolinewidth\":2}}},\"xaxis\":{\"anchor\":\"y\",\"domain\":[0.0,1.0],\"title\":{\"text\":\"City\"}},\"yaxis\":{\"anchor\":\"x\",\"domain\":[0.0,1.0],\"title\":{\"text\":\"2021\"}},\"coloraxis\":{\"colorbar\":{\"title\":{\"text\":\"2021\"}},\"colorscale\":[[0.0,\"#0d0887\"],[0.1111111111111111,\"#46039f\"],[0.2222222222222222,\"#7201a8\"],[0.3333333333333333,\"#9c179e\"],[0.4444444444444444,\"#bd3786\"],[0.5555555555555556,\"#d8576b\"],[0.6666666666666666,\"#ed7953\"],[0.7777777777777778,\"#fb9f3a\"],[0.8888888888888888,\"#fdca26\"],[1.0,\"#f0f921\"]]},\"legend\":{\"tracegroupgap\":0},\"title\":{\"text\":\"Indonesia Average Air Quality Index by City\"},\"barmode\":\"relative\",\"plot_bgcolor\":\"white\"},                        {\"responsive\": true}                    ).then(function(){\n",
              "                            \n",
              "var gd = document.getElementById('dba5e319-df8d-4563-a708-0ea728ea4445');\n",
              "var x = new MutationObserver(function (mutations, observer) {{\n",
              "        var display = window.getComputedStyle(gd).display;\n",
              "        if (!display || display === 'none') {{\n",
              "            console.log([gd, 'removed!']);\n",
              "            Plotly.purge(gd);\n",
              "            observer.disconnect();\n",
              "        }}\n",
              "}});\n",
              "\n",
              "// Listen for the removal of the full notebook cells\n",
              "var notebookContainer = gd.closest('#notebook-container');\n",
              "if (notebookContainer) {{\n",
              "    x.observe(notebookContainer, {childList: true});\n",
              "}}\n",
              "\n",
              "// Listen for the clearing of the current output cell\n",
              "var outputEl = gd.closest('.output');\n",
              "if (outputEl) {{\n",
              "    x.observe(outputEl, {childList: true});\n",
              "}}\n",
              "\n",
              "                        })                };                            </script>        </div>\n",
              "</body>\n",
              "</html>"
            ]
          },
          "metadata": {},
          "output_type": "display_data"
        }
      ],
      "source": [
        "# bar plot using plotly express\n",
        "df_aqicty_indo_bar = df_aqicty_indo.copy()\n",
        "fig = px.bar(df_aqicty_indo_bar, \n",
        "             x = 'city_only',\n",
        "             y = '2021', \n",
        "             labels = {'city_only': 'City'}, \n",
        "             color = '2021', \n",
        "             text = '2021',\n",
        "             title = \"Indonesia Average Air Quality Index by City\",\n",
        ")\n",
        "\n",
        "# plot background white\n",
        "fig.layout.plot_bgcolor = \"white\"\n",
        "fig.show()"
      ]
    },
    {
      "cell_type": "code",
      "execution_count": 90,
      "metadata": {
        "colab": {
          "base_uri": "https://localhost:8080/",
          "height": 542
        },
        "id": "41jMWzdwc6DH",
        "outputId": "1747b51e-1c44-418d-a8e7-1a5604b9e6dc"
      },
      "outputs": [
        {
          "data": {
            "text/html": [
              "<html>\n",
              "<head><meta charset=\"utf-8\" /></head>\n",
              "<body>\n",
              "    <div>            <script src=\"https://cdnjs.cloudflare.com/ajax/libs/mathjax/2.7.5/MathJax.js?config=TeX-AMS-MML_SVG\"></script><script type=\"text/javascript\">if (window.MathJax) {MathJax.Hub.Config({SVG: {font: \"STIX-Web\"}});}</script>                <script type=\"text/javascript\">window.PlotlyConfig = {MathJaxConfig: 'local'};</script>\n",
              "        <script src=\"https://cdn.plot.ly/plotly-2.8.3.min.js\"></script>                <div id=\"cf923ef4-877c-4fe6-b6cc-13bb0d111227\" class=\"plotly-graph-div\" style=\"height:525px; width:100%;\"></div>            <script type=\"text/javascript\">                                    window.PLOTLYENV=window.PLOTLYENV || {};                                    if (document.getElementById(\"cf923ef4-877c-4fe6-b6cc-13bb0d111227\")) {                    Plotly.newPlot(                        \"cf923ef4-877c-4fe6-b6cc-13bb0d111227\",                        [{\"name\":\"2021\",\"text\":[39.2,34.8,33.4,28.6,26.0,24.4,24.3,23.0,22.9,22.1,21.8,20.1,19.9,19.8,19.2,18.0,16.3,16.1,14.1,13.5,10.6,9.8,7.9,7.3,6.9,6.2,4.2],\"x\":[\"Jakarta\",\"Surabaya\",\"Bandung\",\"Semarang\",\"Palembang\",\"Duri\",\"Bangkinang\",\"Balaipungut\",\"Pontianak\",\"Dumai\",\"Jambi\",\"Pekanbaru\",\"Sedinginan\",\"Ubud\",\"Semarapura\",\"Serang\",\"Denpasar\",\"Bogor\",\"Jimbaran\",\"Makassar\",\"Cirebon\",\"Kuta\",\"Palangkaraya\",\"Banda Aceh\",\"Kayu Agung\",\"Samarinda\",\"Indralaya\"],\"y\":[39.2,34.8,33.4,28.6,26.0,24.4,24.3,23.0,22.9,22.1,21.8,20.1,19.9,19.8,19.2,18.0,16.3,16.1,14.1,13.5,10.6,9.8,7.9,7.3,6.9,6.2,4.2],\"type\":\"bar\"},{\"name\":\"2020\",\"text\":[39.6,33.4,33.2,28.5,23.4,22.15,21.3,19.0,18.8,20.95,14.3,24.2,20.35,22.2,19.35,13.8,18.4,29.6,14.6,14.6,7.85,13.0,5.9,8.15,6.9,9.7,4.75],\"x\":[\"Jakarta\",\"Surabaya\",\"Bandung\",\"Semarang\",\"Palembang\",\"Duri\",\"Bangkinang\",\"Balaipungut\",\"Pontianak\",\"Dumai\",\"Jambi\",\"Pekanbaru\",\"Sedinginan\",\"Ubud\",\"Semarapura\",\"Serang\",\"Denpasar\",\"Bogor\",\"Jimbaran\",\"Makassar\",\"Cirebon\",\"Kuta\",\"Palangkaraya\",\"Banda Aceh\",\"Kayu Agung\",\"Samarinda\",\"Indralaya\"],\"y\":[39.6,33.4,33.2,28.5,23.4,22.15,21.3,19.0,18.8,20.95,14.3,24.2,20.35,22.2,19.35,13.8,18.4,29.6,14.6,14.6,7.85,13.0,5.9,8.15,6.9,9.7,4.75],\"type\":\"bar\"},{\"name\":\"2019\",\"text\":[49.4,40.6,30.35,16.75,20.15,18.25,17.65,16.3,49.7,34.85,14.9,52.8,37.2,27.9,24.75,10.05,22.0,14.15,14.65,14.9,10.95,10.85,9.85,10.45,8.05,6.4,4.65],\"x\":[\"Jakarta\",\"Surabaya\",\"Bandung\",\"Semarang\",\"Palembang\",\"Duri\",\"Bangkinang\",\"Balaipungut\",\"Pontianak\",\"Dumai\",\"Jambi\",\"Pekanbaru\",\"Sedinginan\",\"Ubud\",\"Semarapura\",\"Serang\",\"Denpasar\",\"Bogor\",\"Jimbaran\",\"Makassar\",\"Cirebon\",\"Kuta\",\"Palangkaraya\",\"Banda Aceh\",\"Kayu Agung\",\"Samarinda\",\"Indralaya\"],\"y\":[49.4,40.6,30.35,16.75,20.15,18.25,17.65,16.3,49.7,34.85,14.9,52.8,37.2,27.9,24.75,10.05,22.0,14.15,14.65,14.9,10.95,10.85,9.85,10.45,8.05,6.4,4.65],\"type\":\"bar\"}],                        {\"template\":{\"data\":{\"bar\":[{\"error_x\":{\"color\":\"#2a3f5f\"},\"error_y\":{\"color\":\"#2a3f5f\"},\"marker\":{\"line\":{\"color\":\"#E5ECF6\",\"width\":0.5},\"pattern\":{\"fillmode\":\"overlay\",\"size\":10,\"solidity\":0.2}},\"type\":\"bar\"}],\"barpolar\":[{\"marker\":{\"line\":{\"color\":\"#E5ECF6\",\"width\":0.5},\"pattern\":{\"fillmode\":\"overlay\",\"size\":10,\"solidity\":0.2}},\"type\":\"barpolar\"}],\"carpet\":[{\"aaxis\":{\"endlinecolor\":\"#2a3f5f\",\"gridcolor\":\"white\",\"linecolor\":\"white\",\"minorgridcolor\":\"white\",\"startlinecolor\":\"#2a3f5f\"},\"baxis\":{\"endlinecolor\":\"#2a3f5f\",\"gridcolor\":\"white\",\"linecolor\":\"white\",\"minorgridcolor\":\"white\",\"startlinecolor\":\"#2a3f5f\"},\"type\":\"carpet\"}],\"choropleth\":[{\"colorbar\":{\"outlinewidth\":0,\"ticks\":\"\"},\"type\":\"choropleth\"}],\"contour\":[{\"colorbar\":{\"outlinewidth\":0,\"ticks\":\"\"},\"colorscale\":[[0.0,\"#0d0887\"],[0.1111111111111111,\"#46039f\"],[0.2222222222222222,\"#7201a8\"],[0.3333333333333333,\"#9c179e\"],[0.4444444444444444,\"#bd3786\"],[0.5555555555555556,\"#d8576b\"],[0.6666666666666666,\"#ed7953\"],[0.7777777777777778,\"#fb9f3a\"],[0.8888888888888888,\"#fdca26\"],[1.0,\"#f0f921\"]],\"type\":\"contour\"}],\"contourcarpet\":[{\"colorbar\":{\"outlinewidth\":0,\"ticks\":\"\"},\"type\":\"contourcarpet\"}],\"heatmap\":[{\"colorbar\":{\"outlinewidth\":0,\"ticks\":\"\"},\"colorscale\":[[0.0,\"#0d0887\"],[0.1111111111111111,\"#46039f\"],[0.2222222222222222,\"#7201a8\"],[0.3333333333333333,\"#9c179e\"],[0.4444444444444444,\"#bd3786\"],[0.5555555555555556,\"#d8576b\"],[0.6666666666666666,\"#ed7953\"],[0.7777777777777778,\"#fb9f3a\"],[0.8888888888888888,\"#fdca26\"],[1.0,\"#f0f921\"]],\"type\":\"heatmap\"}],\"heatmapgl\":[{\"colorbar\":{\"outlinewidth\":0,\"ticks\":\"\"},\"colorscale\":[[0.0,\"#0d0887\"],[0.1111111111111111,\"#46039f\"],[0.2222222222222222,\"#7201a8\"],[0.3333333333333333,\"#9c179e\"],[0.4444444444444444,\"#bd3786\"],[0.5555555555555556,\"#d8576b\"],[0.6666666666666666,\"#ed7953\"],[0.7777777777777778,\"#fb9f3a\"],[0.8888888888888888,\"#fdca26\"],[1.0,\"#f0f921\"]],\"type\":\"heatmapgl\"}],\"histogram\":[{\"marker\":{\"pattern\":{\"fillmode\":\"overlay\",\"size\":10,\"solidity\":0.2}},\"type\":\"histogram\"}],\"histogram2d\":[{\"colorbar\":{\"outlinewidth\":0,\"ticks\":\"\"},\"colorscale\":[[0.0,\"#0d0887\"],[0.1111111111111111,\"#46039f\"],[0.2222222222222222,\"#7201a8\"],[0.3333333333333333,\"#9c179e\"],[0.4444444444444444,\"#bd3786\"],[0.5555555555555556,\"#d8576b\"],[0.6666666666666666,\"#ed7953\"],[0.7777777777777778,\"#fb9f3a\"],[0.8888888888888888,\"#fdca26\"],[1.0,\"#f0f921\"]],\"type\":\"histogram2d\"}],\"histogram2dcontour\":[{\"colorbar\":{\"outlinewidth\":0,\"ticks\":\"\"},\"colorscale\":[[0.0,\"#0d0887\"],[0.1111111111111111,\"#46039f\"],[0.2222222222222222,\"#7201a8\"],[0.3333333333333333,\"#9c179e\"],[0.4444444444444444,\"#bd3786\"],[0.5555555555555556,\"#d8576b\"],[0.6666666666666666,\"#ed7953\"],[0.7777777777777778,\"#fb9f3a\"],[0.8888888888888888,\"#fdca26\"],[1.0,\"#f0f921\"]],\"type\":\"histogram2dcontour\"}],\"mesh3d\":[{\"colorbar\":{\"outlinewidth\":0,\"ticks\":\"\"},\"type\":\"mesh3d\"}],\"parcoords\":[{\"line\":{\"colorbar\":{\"outlinewidth\":0,\"ticks\":\"\"}},\"type\":\"parcoords\"}],\"pie\":[{\"automargin\":true,\"type\":\"pie\"}],\"scatter\":[{\"marker\":{\"colorbar\":{\"outlinewidth\":0,\"ticks\":\"\"}},\"type\":\"scatter\"}],\"scatter3d\":[{\"line\":{\"colorbar\":{\"outlinewidth\":0,\"ticks\":\"\"}},\"marker\":{\"colorbar\":{\"outlinewidth\":0,\"ticks\":\"\"}},\"type\":\"scatter3d\"}],\"scattercarpet\":[{\"marker\":{\"colorbar\":{\"outlinewidth\":0,\"ticks\":\"\"}},\"type\":\"scattercarpet\"}],\"scattergeo\":[{\"marker\":{\"colorbar\":{\"outlinewidth\":0,\"ticks\":\"\"}},\"type\":\"scattergeo\"}],\"scattergl\":[{\"marker\":{\"colorbar\":{\"outlinewidth\":0,\"ticks\":\"\"}},\"type\":\"scattergl\"}],\"scattermapbox\":[{\"marker\":{\"colorbar\":{\"outlinewidth\":0,\"ticks\":\"\"}},\"type\":\"scattermapbox\"}],\"scatterpolar\":[{\"marker\":{\"colorbar\":{\"outlinewidth\":0,\"ticks\":\"\"}},\"type\":\"scatterpolar\"}],\"scatterpolargl\":[{\"marker\":{\"colorbar\":{\"outlinewidth\":0,\"ticks\":\"\"}},\"type\":\"scatterpolargl\"}],\"scatterternary\":[{\"marker\":{\"colorbar\":{\"outlinewidth\":0,\"ticks\":\"\"}},\"type\":\"scatterternary\"}],\"surface\":[{\"colorbar\":{\"outlinewidth\":0,\"ticks\":\"\"},\"colorscale\":[[0.0,\"#0d0887\"],[0.1111111111111111,\"#46039f\"],[0.2222222222222222,\"#7201a8\"],[0.3333333333333333,\"#9c179e\"],[0.4444444444444444,\"#bd3786\"],[0.5555555555555556,\"#d8576b\"],[0.6666666666666666,\"#ed7953\"],[0.7777777777777778,\"#fb9f3a\"],[0.8888888888888888,\"#fdca26\"],[1.0,\"#f0f921\"]],\"type\":\"surface\"}],\"table\":[{\"cells\":{\"fill\":{\"color\":\"#EBF0F8\"},\"line\":{\"color\":\"white\"}},\"header\":{\"fill\":{\"color\":\"#C8D4E3\"},\"line\":{\"color\":\"white\"}},\"type\":\"table\"}]},\"layout\":{\"annotationdefaults\":{\"arrowcolor\":\"#2a3f5f\",\"arrowhead\":0,\"arrowwidth\":1},\"autotypenumbers\":\"strict\",\"coloraxis\":{\"colorbar\":{\"outlinewidth\":0,\"ticks\":\"\"}},\"colorscale\":{\"diverging\":[[0,\"#8e0152\"],[0.1,\"#c51b7d\"],[0.2,\"#de77ae\"],[0.3,\"#f1b6da\"],[0.4,\"#fde0ef\"],[0.5,\"#f7f7f7\"],[0.6,\"#e6f5d0\"],[0.7,\"#b8e186\"],[0.8,\"#7fbc41\"],[0.9,\"#4d9221\"],[1,\"#276419\"]],\"sequential\":[[0.0,\"#0d0887\"],[0.1111111111111111,\"#46039f\"],[0.2222222222222222,\"#7201a8\"],[0.3333333333333333,\"#9c179e\"],[0.4444444444444444,\"#bd3786\"],[0.5555555555555556,\"#d8576b\"],[0.6666666666666666,\"#ed7953\"],[0.7777777777777778,\"#fb9f3a\"],[0.8888888888888888,\"#fdca26\"],[1.0,\"#f0f921\"]],\"sequentialminus\":[[0.0,\"#0d0887\"],[0.1111111111111111,\"#46039f\"],[0.2222222222222222,\"#7201a8\"],[0.3333333333333333,\"#9c179e\"],[0.4444444444444444,\"#bd3786\"],[0.5555555555555556,\"#d8576b\"],[0.6666666666666666,\"#ed7953\"],[0.7777777777777778,\"#fb9f3a\"],[0.8888888888888888,\"#fdca26\"],[1.0,\"#f0f921\"]]},\"colorway\":[\"#636efa\",\"#EF553B\",\"#00cc96\",\"#ab63fa\",\"#FFA15A\",\"#19d3f3\",\"#FF6692\",\"#B6E880\",\"#FF97FF\",\"#FECB52\"],\"font\":{\"color\":\"#2a3f5f\"},\"geo\":{\"bgcolor\":\"white\",\"lakecolor\":\"white\",\"landcolor\":\"#E5ECF6\",\"showlakes\":true,\"showland\":true,\"subunitcolor\":\"white\"},\"hoverlabel\":{\"align\":\"left\"},\"hovermode\":\"closest\",\"mapbox\":{\"style\":\"light\"},\"paper_bgcolor\":\"white\",\"plot_bgcolor\":\"#E5ECF6\",\"polar\":{\"angularaxis\":{\"gridcolor\":\"white\",\"linecolor\":\"white\",\"ticks\":\"\"},\"bgcolor\":\"#E5ECF6\",\"radialaxis\":{\"gridcolor\":\"white\",\"linecolor\":\"white\",\"ticks\":\"\"}},\"scene\":{\"xaxis\":{\"backgroundcolor\":\"#E5ECF6\",\"gridcolor\":\"white\",\"gridwidth\":2,\"linecolor\":\"white\",\"showbackground\":true,\"ticks\":\"\",\"zerolinecolor\":\"white\"},\"yaxis\":{\"backgroundcolor\":\"#E5ECF6\",\"gridcolor\":\"white\",\"gridwidth\":2,\"linecolor\":\"white\",\"showbackground\":true,\"ticks\":\"\",\"zerolinecolor\":\"white\"},\"zaxis\":{\"backgroundcolor\":\"#E5ECF6\",\"gridcolor\":\"white\",\"gridwidth\":2,\"linecolor\":\"white\",\"showbackground\":true,\"ticks\":\"\",\"zerolinecolor\":\"white\"}},\"shapedefaults\":{\"line\":{\"color\":\"#2a3f5f\"}},\"ternary\":{\"aaxis\":{\"gridcolor\":\"white\",\"linecolor\":\"white\",\"ticks\":\"\"},\"baxis\":{\"gridcolor\":\"white\",\"linecolor\":\"white\",\"ticks\":\"\"},\"bgcolor\":\"#E5ECF6\",\"caxis\":{\"gridcolor\":\"white\",\"linecolor\":\"white\",\"ticks\":\"\"}},\"title\":{\"x\":0.05},\"xaxis\":{\"automargin\":true,\"gridcolor\":\"white\",\"linecolor\":\"white\",\"ticks\":\"\",\"title\":{\"standoff\":15},\"zerolinecolor\":\"white\",\"zerolinewidth\":2},\"yaxis\":{\"automargin\":true,\"gridcolor\":\"white\",\"linecolor\":\"white\",\"ticks\":\"\",\"title\":{\"standoff\":15},\"zerolinecolor\":\"white\",\"zerolinewidth\":2}}},\"title\":{\"text\":\"Indonesia Average Air Quality Index by City (3 Years)\"},\"barmode\":\"stack\"},                        {\"responsive\": true}                    ).then(function(){\n",
              "                            \n",
              "var gd = document.getElementById('cf923ef4-877c-4fe6-b6cc-13bb0d111227');\n",
              "var x = new MutationObserver(function (mutations, observer) {{\n",
              "        var display = window.getComputedStyle(gd).display;\n",
              "        if (!display || display === 'none') {{\n",
              "            console.log([gd, 'removed!']);\n",
              "            Plotly.purge(gd);\n",
              "            observer.disconnect();\n",
              "        }}\n",
              "}});\n",
              "\n",
              "// Listen for the removal of the full notebook cells\n",
              "var notebookContainer = gd.closest('#notebook-container');\n",
              "if (notebookContainer) {{\n",
              "    x.observe(notebookContainer, {childList: true});\n",
              "}}\n",
              "\n",
              "// Listen for the clearing of the current output cell\n",
              "var outputEl = gd.closest('.output');\n",
              "if (outputEl) {{\n",
              "    x.observe(outputEl, {childList: true});\n",
              "}}\n",
              "\n",
              "                        })                };                            </script>        </div>\n",
              "</body>\n",
              "</html>"
            ]
          },
          "metadata": {},
          "output_type": "display_data"
        }
      ],
      "source": [
        "import plotly.graph_objects as go\n",
        "labels = df_aqicty_indo_bar['city_only']\n",
        "fig = go.Figure(data=[\n",
        "    go.Bar(name=\"2021\", x=labels, y=df_aqicty_indo_bar['2021'], text=df_aqicty_indo_bar['2021']),\n",
        "    go.Bar(name=\"2020\", x=labels, y=df_aqicty_indo_bar['2020'], text=df_aqicty_indo_bar['2020']),\n",
        "    go.Bar(name=\"2019\", x=labels, y=df_aqicty_indo_bar['2019'], text=df_aqicty_indo_bar['2019'])\n",
        "])\n",
        "\n",
        "# Change the bar mode\n",
        "fig.update_layout(title_text='Indonesia Average Air Quality Index by City (3 Years)')\n",
        "# fig.update_layout(barmode='stack', xaxis={'categoryorder':'total descending'})\n",
        "fig.update_layout(barmode='stack')\n",
        "fig.show()"
      ]
    },
    {
      "cell_type": "markdown",
      "metadata": {
        "id": "-4YmV80VXA3Q"
      },
      "source": [
        "Keypoints\n",
        "\n",
        "* Overall, air pollution has gone down in the last 4 years being year 2021 to be the lowest \n",
        "\n",
        "* Jakarta has highest average AQI score with 39.2 \n",
        "\n",
        "* Indralaya in South Sumatra has lowest score with 4.2 \n",
        "\n",
        "* 4 out of 5 highest polluted cities is in Java \n",
        "\n",
        "* Lowest 5 polluted cities located in Sumatra and Kalimantan Many cities have around 15-25 AQI score"
      ]
    },
    {
      "cell_type": "code",
      "execution_count": 91,
      "metadata": {
        "colab": {
          "base_uri": "https://localhost:8080/",
          "height": 542
        },
        "id": "qjBQ02rMXR07",
        "outputId": "66238804-3173-45b4-eafd-afbdaa01d872"
      },
      "outputs": [
        {
          "data": {
            "text/html": [
              "<html>\n",
              "<head><meta charset=\"utf-8\" /></head>\n",
              "<body>\n",
              "    <div>            <script src=\"https://cdnjs.cloudflare.com/ajax/libs/mathjax/2.7.5/MathJax.js?config=TeX-AMS-MML_SVG\"></script><script type=\"text/javascript\">if (window.MathJax) {MathJax.Hub.Config({SVG: {font: \"STIX-Web\"}});}</script>                <script type=\"text/javascript\">window.PlotlyConfig = {MathJaxConfig: 'local'};</script>\n",
              "        <script src=\"https://cdn.plot.ly/plotly-2.8.3.min.js\"></script>                <div id=\"a6d8d3d8-de66-4a0a-b47f-def86417d961\" class=\"plotly-graph-div\" style=\"height:525px; width:100%;\"></div>            <script type=\"text/javascript\">                                    window.PLOTLYENV=window.PLOTLYENV || {};                                    if (document.getElementById(\"a6d8d3d8-de66-4a0a-b47f-def86417d961\")) {                    Plotly.newPlot(                        \"a6d8d3d8-de66-4a0a-b47f-def86417d961\",                        [{\"hovertemplate\":\"City=Jakarta, Indonesia<br>Month=%{x}<br>AQI=%{y}<extra></extra>\",\"legendgroup\":\"Jakarta, Indonesia\",\"line\":{\"color\":\"#636efa\",\"dash\":\"solid\"},\"marker\":{\"symbol\":\"circle\"},\"mode\":\"lines\",\"name\":\"Jakarta, Indonesia\",\"orientation\":\"v\",\"showlegend\":true,\"x\":[\"JAN(2021)\",\"FEB(2021)\",\"MAR(2021)\",\"APR(2021)\",\"MAY(2021)\",\"JUN(2021)\",\"JUL(2021)\",\"AUG(2021)\",\"SEP(2021)\",\"OCT(2021)\",\"NOV(2021)\",\"DEC(2021)\"],\"xaxis\":\"x\",\"y\":[27.9,24.3,36.2,41.0,45.3,54.5,57.2,46.4,39.8,43.5,23.8,29.7],\"yaxis\":\"y\",\"type\":\"scatter\"},{\"hovertemplate\":\"City=Surabaya, Indonesia<br>Month=%{x}<br>AQI=%{y}<extra></extra>\",\"legendgroup\":\"Surabaya, Indonesia\",\"line\":{\"color\":\"#EF553B\",\"dash\":\"solid\"},\"marker\":{\"symbol\":\"circle\"},\"mode\":\"lines\",\"name\":\"Surabaya, Indonesia\",\"orientation\":\"v\",\"showlegend\":true,\"x\":[\"JAN(2021)\",\"FEB(2021)\",\"MAR(2021)\",\"APR(2021)\",\"MAY(2021)\",\"JUN(2021)\",\"JUL(2021)\",\"AUG(2021)\",\"SEP(2021)\",\"OCT(2021)\",\"NOV(2021)\",\"DEC(2021)\"],\"xaxis\":\"x\",\"y\":[24.5,25.2,41.9,38.9,32.4,37.2,38.6,32.9,27.7,42.9,41.6,24.1],\"yaxis\":\"y\",\"type\":\"scatter\"},{\"hovertemplate\":\"City=Bandung, Indonesia<br>Month=%{x}<br>AQI=%{y}<extra></extra>\",\"legendgroup\":\"Bandung, Indonesia\",\"line\":{\"color\":\"#00cc96\",\"dash\":\"solid\"},\"marker\":{\"symbol\":\"circle\"},\"mode\":\"lines\",\"name\":\"Bandung, Indonesia\",\"orientation\":\"v\",\"showlegend\":true,\"x\":[\"JAN(2021)\",\"FEB(2021)\",\"MAR(2021)\",\"APR(2021)\",\"MAY(2021)\",\"JUN(2021)\",\"JUL(2021)\",\"AUG(2021)\",\"SEP(2021)\",\"OCT(2021)\",\"NOV(2021)\",\"DEC(2021)\"],\"xaxis\":\"x\",\"y\":[19.6,21.1,32.6,35.0,39.3,42.0,39.0,33.5,29.6,41.7,29.1,34.7],\"yaxis\":\"y\",\"type\":\"scatter\"},{\"hovertemplate\":\"City=Semarang, Indonesia<br>Month=%{x}<br>AQI=%{y}<extra></extra>\",\"legendgroup\":\"Semarang, Indonesia\",\"line\":{\"color\":\"#ab63fa\",\"dash\":\"solid\"},\"marker\":{\"symbol\":\"circle\"},\"mode\":\"lines\",\"name\":\"Semarang, Indonesia\",\"orientation\":\"v\",\"showlegend\":true,\"x\":[\"JAN(2021)\",\"FEB(2021)\",\"MAR(2021)\",\"APR(2021)\",\"MAY(2021)\",\"JUN(2021)\",\"JUL(2021)\",\"AUG(2021)\",\"SEP(2021)\",\"OCT(2021)\",\"NOV(2021)\",\"DEC(2021)\"],\"xaxis\":\"x\",\"y\":[23.2,16.2,31.7,26.5,25.9,22.3,39.3,27.7,26.2,35.6,31.8,32.8],\"yaxis\":\"y\",\"type\":\"scatter\"},{\"hovertemplate\":\"City=Palembang, Indonesia<br>Month=%{x}<br>AQI=%{y}<extra></extra>\",\"legendgroup\":\"Palembang, Indonesia\",\"line\":{\"color\":\"#FFA15A\",\"dash\":\"solid\"},\"marker\":{\"symbol\":\"circle\"},\"mode\":\"lines\",\"name\":\"Palembang, Indonesia\",\"orientation\":\"v\",\"showlegend\":true,\"x\":[\"JAN(2021)\",\"FEB(2021)\",\"MAR(2021)\",\"APR(2021)\",\"MAY(2021)\",\"JUN(2021)\",\"JUL(2021)\",\"AUG(2021)\",\"SEP(2021)\",\"OCT(2021)\",\"NOV(2021)\",\"DEC(2021)\"],\"xaxis\":\"x\",\"y\":[25.6,29.3,27.6,30.5,23.6,25.6,24.5,23.4,23.1,34.4,24.1,22.0],\"yaxis\":\"y\",\"type\":\"scatter\"},{\"hovertemplate\":\"City=Duri, Indonesia<br>Month=%{x}<br>AQI=%{y}<extra></extra>\",\"legendgroup\":\"Duri, Indonesia\",\"line\":{\"color\":\"#19d3f3\",\"dash\":\"solid\"},\"marker\":{\"symbol\":\"circle\"},\"mode\":\"lines\",\"name\":\"Duri, Indonesia\",\"orientation\":\"v\",\"showlegend\":true,\"x\":[\"JAN(2021)\",\"FEB(2021)\",\"MAR(2021)\",\"APR(2021)\",\"MAY(2021)\",\"JUN(2021)\",\"JUL(2021)\",\"AUG(2021)\",\"SEP(2021)\",\"OCT(2021)\",\"NOV(2021)\",\"DEC(2021)\"],\"xaxis\":\"x\",\"y\":[19.3,27.0,25.6,23.7,25.7,26.4,33.8,26.8,25.9,23.4,16.1,18.7],\"yaxis\":\"y\",\"type\":\"scatter\"},{\"hovertemplate\":\"City=Bangkinang, Indonesia<br>Month=%{x}<br>AQI=%{y}<extra></extra>\",\"legendgroup\":\"Bangkinang, Indonesia\",\"line\":{\"color\":\"#FF6692\",\"dash\":\"solid\"},\"marker\":{\"symbol\":\"circle\"},\"mode\":\"lines\",\"name\":\"Bangkinang, Indonesia\",\"orientation\":\"v\",\"showlegend\":true,\"x\":[\"JAN(2021)\",\"FEB(2021)\",\"MAR(2021)\",\"APR(2021)\",\"MAY(2021)\",\"JUN(2021)\",\"JUL(2021)\",\"AUG(2021)\",\"SEP(2021)\",\"OCT(2021)\",\"NOV(2021)\",\"DEC(2021)\"],\"xaxis\":\"x\",\"y\":[21.8,27.8,26.9,22.4,24.3,25.0,31.9,27.2,24.0,22.2,18.2,17.8],\"yaxis\":\"y\",\"type\":\"scatter\"},{\"hovertemplate\":\"City=Balaipungut, Indonesia<br>Month=%{x}<br>AQI=%{y}<extra></extra>\",\"legendgroup\":\"Balaipungut, Indonesia\",\"line\":{\"color\":\"#B6E880\",\"dash\":\"solid\"},\"marker\":{\"symbol\":\"circle\"},\"mode\":\"lines\",\"name\":\"Balaipungut, Indonesia\",\"orientation\":\"v\",\"showlegend\":true,\"x\":[\"JAN(2021)\",\"FEB(2021)\",\"MAR(2021)\",\"APR(2021)\",\"MAY(2021)\",\"JUN(2021)\",\"JUL(2021)\",\"AUG(2021)\",\"SEP(2021)\",\"OCT(2021)\",\"NOV(2021)\",\"DEC(2021)\"],\"xaxis\":\"x\",\"y\":[19.1,27.6,23.6,21.0,23.0,22.9,27.9,25.6,25.7,22.7,18.1,18.7],\"yaxis\":\"y\",\"type\":\"scatter\"},{\"hovertemplate\":\"City=Pontianak, Indonesia<br>Month=%{x}<br>AQI=%{y}<extra></extra>\",\"legendgroup\":\"Pontianak, Indonesia\",\"line\":{\"color\":\"#FF97FF\",\"dash\":\"solid\"},\"marker\":{\"symbol\":\"circle\"},\"mode\":\"lines\",\"name\":\"Pontianak, Indonesia\",\"orientation\":\"v\",\"showlegend\":true,\"x\":[\"JAN(2021)\",\"FEB(2021)\",\"MAR(2021)\",\"APR(2021)\",\"MAY(2021)\",\"JUN(2021)\",\"JUL(2021)\",\"AUG(2021)\",\"SEP(2021)\",\"OCT(2021)\",\"NOV(2021)\",\"DEC(2021)\"],\"xaxis\":\"x\",\"y\":[15.9,31.0,29.1,27.7,17.3,17.4,22.8,16.3,16.6,23.5,86.2,63.25],\"yaxis\":\"y\",\"type\":\"scatter\"},{\"hovertemplate\":\"City=Dumai, Indonesia<br>Month=%{x}<br>AQI=%{y}<extra></extra>\",\"legendgroup\":\"Dumai, Indonesia\",\"line\":{\"color\":\"#FECB52\",\"dash\":\"solid\"},\"marker\":{\"symbol\":\"circle\"},\"mode\":\"lines\",\"name\":\"Dumai, Indonesia\",\"orientation\":\"v\",\"showlegend\":true,\"x\":[\"JAN(2021)\",\"FEB(2021)\",\"MAR(2021)\",\"APR(2021)\",\"MAY(2021)\",\"JUN(2021)\",\"JUL(2021)\",\"AUG(2021)\",\"SEP(2021)\",\"OCT(2021)\",\"NOV(2021)\",\"DEC(2021)\"],\"xaxis\":\"x\",\"y\":[18.9,29.3,25.3,22.9,22.3,24.4,28.5,24.5,21.1,20.9,14.8,18.9],\"yaxis\":\"y\",\"type\":\"scatter\"},{\"hovertemplate\":\"City=Jambi, Indonesia<br>Month=%{x}<br>AQI=%{y}<extra></extra>\",\"legendgroup\":\"Jambi, Indonesia\",\"line\":{\"color\":\"#636efa\",\"dash\":\"solid\"},\"marker\":{\"symbol\":\"circle\"},\"mode\":\"lines\",\"name\":\"Jambi, Indonesia\",\"orientation\":\"v\",\"showlegend\":true,\"x\":[\"JAN(2021)\",\"FEB(2021)\",\"MAR(2021)\",\"APR(2021)\",\"MAY(2021)\",\"JUN(2021)\",\"JUL(2021)\",\"AUG(2021)\",\"SEP(2021)\",\"OCT(2021)\",\"NOV(2021)\",\"DEC(2021)\"],\"xaxis\":\"x\",\"y\":[19.2,24.7,18.9,22.1,21.8,22.9,27.1,20.4,20.2,22.7,6.2,5.9],\"yaxis\":\"y\",\"type\":\"scatter\"},{\"hovertemplate\":\"City=Pekanbaru, Indonesia<br>Month=%{x}<br>AQI=%{y}<extra></extra>\",\"legendgroup\":\"Pekanbaru, Indonesia\",\"line\":{\"color\":\"#EF553B\",\"dash\":\"solid\"},\"marker\":{\"symbol\":\"circle\"},\"mode\":\"lines\",\"name\":\"Pekanbaru, Indonesia\",\"orientation\":\"v\",\"showlegend\":true,\"x\":[\"JAN(2021)\",\"FEB(2021)\",\"MAR(2021)\",\"APR(2021)\",\"MAY(2021)\",\"JUN(2021)\",\"JUL(2021)\",\"AUG(2021)\",\"SEP(2021)\",\"OCT(2021)\",\"NOV(2021)\",\"DEC(2021)\"],\"xaxis\":\"x\",\"y\":[19.4,24.8,23.0,19.0,19.7,23.7,27.7,18.8,18.4,17.4,13.6,15.4],\"yaxis\":\"y\",\"type\":\"scatter\"},{\"hovertemplate\":\"City=Sedinginan, Indonesia<br>Month=%{x}<br>AQI=%{y}<extra></extra>\",\"legendgroup\":\"Sedinginan, Indonesia\",\"line\":{\"color\":\"#00cc96\",\"dash\":\"solid\"},\"marker\":{\"symbol\":\"circle\"},\"mode\":\"lines\",\"name\":\"Sedinginan, Indonesia\",\"orientation\":\"v\",\"showlegend\":true,\"x\":[\"JAN(2021)\",\"FEB(2021)\",\"MAR(2021)\",\"APR(2021)\",\"MAY(2021)\",\"JUN(2021)\",\"JUL(2021)\",\"AUG(2021)\",\"SEP(2021)\",\"OCT(2021)\",\"NOV(2021)\",\"DEC(2021)\"],\"xaxis\":\"x\",\"y\":[18.2,23.3,22.0,18.3,19.7,20.4,25.4,20.8,20.2,19.7,14.1,18.5],\"yaxis\":\"y\",\"type\":\"scatter\"},{\"hovertemplate\":\"City=Ubud, Indonesia<br>Month=%{x}<br>AQI=%{y}<extra></extra>\",\"legendgroup\":\"Ubud, Indonesia\",\"line\":{\"color\":\"#ab63fa\",\"dash\":\"solid\"},\"marker\":{\"symbol\":\"circle\"},\"mode\":\"lines\",\"name\":\"Ubud, Indonesia\",\"orientation\":\"v\",\"showlegend\":true,\"x\":[\"JAN(2021)\",\"FEB(2021)\",\"MAR(2021)\",\"APR(2021)\",\"MAY(2021)\",\"JUN(2021)\",\"JUL(2021)\",\"AUG(2021)\",\"SEP(2021)\",\"OCT(2021)\",\"NOV(2021)\",\"DEC(2021)\"],\"xaxis\":\"x\",\"y\":[14.0,17.9,19.3,24.1,27.5,23.0,22.4,20.7,17.2,20.1,17.2,13.7],\"yaxis\":\"y\",\"type\":\"scatter\"},{\"hovertemplate\":\"City=Semarapura, Indonesia<br>Month=%{x}<br>AQI=%{y}<extra></extra>\",\"legendgroup\":\"Semarapura, Indonesia\",\"line\":{\"color\":\"#FFA15A\",\"dash\":\"solid\"},\"marker\":{\"symbol\":\"circle\"},\"mode\":\"lines\",\"name\":\"Semarapura, Indonesia\",\"orientation\":\"v\",\"showlegend\":true,\"x\":[\"JAN(2021)\",\"FEB(2021)\",\"MAR(2021)\",\"APR(2021)\",\"MAY(2021)\",\"JUN(2021)\",\"JUL(2021)\",\"AUG(2021)\",\"SEP(2021)\",\"OCT(2021)\",\"NOV(2021)\",\"DEC(2021)\"],\"xaxis\":\"x\",\"y\":[14.5,16.7,18.8,22.1,25.3,22.2,22.6,20.4,16.3,18.0,18.9,15.3],\"yaxis\":\"y\",\"type\":\"scatter\"},{\"hovertemplate\":\"City=Serang, Indonesia<br>Month=%{x}<br>AQI=%{y}<extra></extra>\",\"legendgroup\":\"Serang, Indonesia\",\"line\":{\"color\":\"#19d3f3\",\"dash\":\"solid\"},\"marker\":{\"symbol\":\"circle\"},\"mode\":\"lines\",\"name\":\"Serang, Indonesia\",\"orientation\":\"v\",\"showlegend\":true,\"x\":[\"JAN(2021)\",\"FEB(2021)\",\"MAR(2021)\",\"APR(2021)\",\"MAY(2021)\",\"JUN(2021)\",\"JUL(2021)\",\"AUG(2021)\",\"SEP(2021)\",\"OCT(2021)\",\"NOV(2021)\",\"DEC(2021)\"],\"xaxis\":\"x\",\"y\":[9.4,12.25,9.75,7.2,11.5,5.2,19.3,25.0,25.2,36.1,13.6,13.7],\"yaxis\":\"y\",\"type\":\"scatter\"},{\"hovertemplate\":\"City=Denpasar, Indonesia<br>Month=%{x}<br>AQI=%{y}<extra></extra>\",\"legendgroup\":\"Denpasar, Indonesia\",\"line\":{\"color\":\"#FF6692\",\"dash\":\"solid\"},\"marker\":{\"symbol\":\"circle\"},\"mode\":\"lines\",\"name\":\"Denpasar, Indonesia\",\"orientation\":\"v\",\"showlegend\":true,\"x\":[\"JAN(2021)\",\"FEB(2021)\",\"MAR(2021)\",\"APR(2021)\",\"MAY(2021)\",\"JUN(2021)\",\"JUL(2021)\",\"AUG(2021)\",\"SEP(2021)\",\"OCT(2021)\",\"NOV(2021)\",\"DEC(2021)\"],\"xaxis\":\"x\",\"y\":[12.7,16.4,19.8,19.2,16.6,17.0,15.1,15.3,11.9,18.0,17.7,16.2],\"yaxis\":\"y\",\"type\":\"scatter\"},{\"hovertemplate\":\"City=Bogor, Indonesia<br>Month=%{x}<br>AQI=%{y}<extra></extra>\",\"legendgroup\":\"Bogor, Indonesia\",\"line\":{\"color\":\"#B6E880\",\"dash\":\"solid\"},\"marker\":{\"symbol\":\"circle\"},\"mode\":\"lines\",\"name\":\"Bogor, Indonesia\",\"orientation\":\"v\",\"showlegend\":true,\"x\":[\"JAN(2021)\",\"FEB(2021)\",\"MAR(2021)\",\"APR(2021)\",\"MAY(2021)\",\"JUN(2021)\",\"JUL(2021)\",\"AUG(2021)\",\"SEP(2021)\",\"OCT(2021)\",\"NOV(2021)\",\"DEC(2021)\"],\"xaxis\":\"x\",\"y\":[8.9,6.7,8.1,13.9,17.4,16.5,19.1,19.8,22.4,24.9,15.5,17.2],\"yaxis\":\"y\",\"type\":\"scatter\"},{\"hovertemplate\":\"City=Jimbaran, Indonesia<br>Month=%{x}<br>AQI=%{y}<extra></extra>\",\"legendgroup\":\"Jimbaran, Indonesia\",\"line\":{\"color\":\"#FF97FF\",\"dash\":\"solid\"},\"marker\":{\"symbol\":\"circle\"},\"mode\":\"lines\",\"name\":\"Jimbaran, Indonesia\",\"orientation\":\"v\",\"showlegend\":true,\"x\":[\"JAN(2021)\",\"FEB(2021)\",\"MAR(2021)\",\"APR(2021)\",\"MAY(2021)\",\"JUN(2021)\",\"JUL(2021)\",\"AUG(2021)\",\"SEP(2021)\",\"OCT(2021)\",\"NOV(2021)\",\"DEC(2021)\"],\"xaxis\":\"x\",\"y\":[8.7,13.9,16.4,18.2,18.8,16.3,14.3,13.9,10.7,13.7,13.4,11.0],\"yaxis\":\"y\",\"type\":\"scatter\"},{\"hovertemplate\":\"City=Makassar, Indonesia<br>Month=%{x}<br>AQI=%{y}<extra></extra>\",\"legendgroup\":\"Makassar, Indonesia\",\"line\":{\"color\":\"#FECB52\",\"dash\":\"solid\"},\"marker\":{\"symbol\":\"circle\"},\"mode\":\"lines\",\"name\":\"Makassar, Indonesia\",\"orientation\":\"v\",\"showlegend\":true,\"x\":[\"JAN(2021)\",\"FEB(2021)\",\"MAR(2021)\",\"APR(2021)\",\"MAY(2021)\",\"JUN(2021)\",\"JUL(2021)\",\"AUG(2021)\",\"SEP(2021)\",\"OCT(2021)\",\"NOV(2021)\",\"DEC(2021)\"],\"xaxis\":\"x\",\"y\":[6.8,6.4,10.4,16.8,14.3,14.2,17.8,16.1,16.1,16.0,9.2,8.6],\"yaxis\":\"y\",\"type\":\"scatter\"},{\"hovertemplate\":\"City=Cirebon, Indonesia<br>Month=%{x}<br>AQI=%{y}<extra></extra>\",\"legendgroup\":\"Cirebon, Indonesia\",\"line\":{\"color\":\"#636efa\",\"dash\":\"solid\"},\"marker\":{\"symbol\":\"circle\"},\"mode\":\"lines\",\"name\":\"Cirebon, Indonesia\",\"orientation\":\"v\",\"showlegend\":true,\"x\":[\"JAN(2021)\",\"FEB(2021)\",\"MAR(2021)\",\"APR(2021)\",\"MAY(2021)\",\"JUN(2021)\",\"JUL(2021)\",\"AUG(2021)\",\"SEP(2021)\",\"OCT(2021)\",\"NOV(2021)\",\"DEC(2021)\"],\"xaxis\":\"x\",\"y\":[7.95,10.6,9.25,8.3,9.7,8.8,13.5,9.6,8.0,14.2,10.4,11.8],\"yaxis\":\"y\",\"type\":\"scatter\"},{\"hovertemplate\":\"City=Kuta, Indonesia<br>Month=%{x}<br>AQI=%{y}<extra></extra>\",\"legendgroup\":\"Kuta, Indonesia\",\"line\":{\"color\":\"#EF553B\",\"dash\":\"solid\"},\"marker\":{\"symbol\":\"circle\"},\"mode\":\"lines\",\"name\":\"Kuta, Indonesia\",\"orientation\":\"v\",\"showlegend\":true,\"x\":[\"JAN(2021)\",\"FEB(2021)\",\"MAR(2021)\",\"APR(2021)\",\"MAY(2021)\",\"JUN(2021)\",\"JUL(2021)\",\"AUG(2021)\",\"SEP(2021)\",\"OCT(2021)\",\"NOV(2021)\",\"DEC(2021)\"],\"xaxis\":\"x\",\"y\":[6.6,9.8,13.9,14.8,13.0,11.3,9.8,9.4,6.4,8.1,3.3,2.1],\"yaxis\":\"y\",\"type\":\"scatter\"},{\"hovertemplate\":\"City=Palangkaraya, Indonesia<br>Month=%{x}<br>AQI=%{y}<extra></extra>\",\"legendgroup\":\"Palangkaraya, Indonesia\",\"line\":{\"color\":\"#00cc96\",\"dash\":\"solid\"},\"marker\":{\"symbol\":\"circle\"},\"mode\":\"lines\",\"name\":\"Palangkaraya, Indonesia\",\"orientation\":\"v\",\"showlegend\":true,\"x\":[\"JAN(2021)\",\"FEB(2021)\",\"MAR(2021)\",\"APR(2021)\",\"MAY(2021)\",\"JUN(2021)\",\"JUL(2021)\",\"AUG(2021)\",\"SEP(2021)\",\"OCT(2021)\",\"NOV(2021)\",\"DEC(2021)\"],\"xaxis\":\"x\",\"y\":[5.5,5.4,5.8,8.0,7.1,9.1,10.1,8.9,7.6,10.1,5.9,8.2],\"yaxis\":\"y\",\"type\":\"scatter\"},{\"hovertemplate\":\"City=Banda Aceh, Indonesia<br>Month=%{x}<br>AQI=%{y}<extra></extra>\",\"legendgroup\":\"Banda Aceh, Indonesia\",\"line\":{\"color\":\"#ab63fa\",\"dash\":\"solid\"},\"marker\":{\"symbol\":\"circle\"},\"mode\":\"lines\",\"name\":\"Banda Aceh, Indonesia\",\"orientation\":\"v\",\"showlegend\":true,\"x\":[\"JAN(2021)\",\"FEB(2021)\",\"MAR(2021)\",\"APR(2021)\",\"MAY(2021)\",\"JUN(2021)\",\"JUL(2021)\",\"AUG(2021)\",\"SEP(2021)\",\"OCT(2021)\",\"NOV(2021)\",\"DEC(2021)\"],\"xaxis\":\"x\",\"y\":[6.3,12.9,11.1,10.2,8.5,8.1,6.8,5.8,8.8,8.3,5.7,4.7],\"yaxis\":\"y\",\"type\":\"scatter\"},{\"hovertemplate\":\"City=Kayu Agung, Indonesia<br>Month=%{x}<br>AQI=%{y}<extra></extra>\",\"legendgroup\":\"Kayu Agung, Indonesia\",\"line\":{\"color\":\"#FFA15A\",\"dash\":\"solid\"},\"marker\":{\"symbol\":\"circle\"},\"mode\":\"lines\",\"name\":\"Kayu Agung, Indonesia\",\"orientation\":\"v\",\"showlegend\":true,\"x\":[\"JAN(2021)\",\"FEB(2021)\",\"MAR(2021)\",\"APR(2021)\",\"MAY(2021)\",\"JUN(2021)\",\"JUL(2021)\",\"AUG(2021)\",\"SEP(2021)\",\"OCT(2021)\",\"NOV(2021)\",\"DEC(2021)\"],\"xaxis\":\"x\",\"y\":[6.65,8.0,9.0,7.5,6.9,8.2,9.1,7.4,6.2,7.4,4.5,5.1],\"yaxis\":\"y\",\"type\":\"scatter\"},{\"hovertemplate\":\"City=Samarinda, Indonesia<br>Month=%{x}<br>AQI=%{y}<extra></extra>\",\"legendgroup\":\"Samarinda, Indonesia\",\"line\":{\"color\":\"#19d3f3\",\"dash\":\"solid\"},\"marker\":{\"symbol\":\"circle\"},\"mode\":\"lines\",\"name\":\"Samarinda, Indonesia\",\"orientation\":\"v\",\"showlegend\":true,\"x\":[\"JAN(2021)\",\"FEB(2021)\",\"MAR(2021)\",\"APR(2021)\",\"MAY(2021)\",\"JUN(2021)\",\"JUL(2021)\",\"AUG(2021)\",\"SEP(2021)\",\"OCT(2021)\",\"NOV(2021)\",\"DEC(2021)\"],\"xaxis\":\"x\",\"y\":[6.8,6.7,7.7,6.5,4.5,5.0,5.8,5.0,4.1,8.8,8.9,9.2],\"yaxis\":\"y\",\"type\":\"scatter\"},{\"hovertemplate\":\"City=Indralaya, Indonesia<br>Month=%{x}<br>AQI=%{y}<extra></extra>\",\"legendgroup\":\"Indralaya, Indonesia\",\"line\":{\"color\":\"#FF6692\",\"dash\":\"solid\"},\"marker\":{\"symbol\":\"circle\"},\"mode\":\"lines\",\"name\":\"Indralaya, Indonesia\",\"orientation\":\"v\",\"showlegend\":true,\"x\":[\"JAN(2021)\",\"FEB(2021)\",\"MAR(2021)\",\"APR(2021)\",\"MAY(2021)\",\"JUN(2021)\",\"JUL(2021)\",\"AUG(2021)\",\"SEP(2021)\",\"OCT(2021)\",\"NOV(2021)\",\"DEC(2021)\"],\"xaxis\":\"x\",\"y\":[4.65,3.7,5.45,4.3,3.9,4.4,4.6,4.1,4.1,4.3,3.6,4.1],\"yaxis\":\"y\",\"type\":\"scatter\"}],                        {\"template\":{\"data\":{\"bar\":[{\"error_x\":{\"color\":\"#2a3f5f\"},\"error_y\":{\"color\":\"#2a3f5f\"},\"marker\":{\"line\":{\"color\":\"#E5ECF6\",\"width\":0.5},\"pattern\":{\"fillmode\":\"overlay\",\"size\":10,\"solidity\":0.2}},\"type\":\"bar\"}],\"barpolar\":[{\"marker\":{\"line\":{\"color\":\"#E5ECF6\",\"width\":0.5},\"pattern\":{\"fillmode\":\"overlay\",\"size\":10,\"solidity\":0.2}},\"type\":\"barpolar\"}],\"carpet\":[{\"aaxis\":{\"endlinecolor\":\"#2a3f5f\",\"gridcolor\":\"white\",\"linecolor\":\"white\",\"minorgridcolor\":\"white\",\"startlinecolor\":\"#2a3f5f\"},\"baxis\":{\"endlinecolor\":\"#2a3f5f\",\"gridcolor\":\"white\",\"linecolor\":\"white\",\"minorgridcolor\":\"white\",\"startlinecolor\":\"#2a3f5f\"},\"type\":\"carpet\"}],\"choropleth\":[{\"colorbar\":{\"outlinewidth\":0,\"ticks\":\"\"},\"type\":\"choropleth\"}],\"contour\":[{\"colorbar\":{\"outlinewidth\":0,\"ticks\":\"\"},\"colorscale\":[[0.0,\"#0d0887\"],[0.1111111111111111,\"#46039f\"],[0.2222222222222222,\"#7201a8\"],[0.3333333333333333,\"#9c179e\"],[0.4444444444444444,\"#bd3786\"],[0.5555555555555556,\"#d8576b\"],[0.6666666666666666,\"#ed7953\"],[0.7777777777777778,\"#fb9f3a\"],[0.8888888888888888,\"#fdca26\"],[1.0,\"#f0f921\"]],\"type\":\"contour\"}],\"contourcarpet\":[{\"colorbar\":{\"outlinewidth\":0,\"ticks\":\"\"},\"type\":\"contourcarpet\"}],\"heatmap\":[{\"colorbar\":{\"outlinewidth\":0,\"ticks\":\"\"},\"colorscale\":[[0.0,\"#0d0887\"],[0.1111111111111111,\"#46039f\"],[0.2222222222222222,\"#7201a8\"],[0.3333333333333333,\"#9c179e\"],[0.4444444444444444,\"#bd3786\"],[0.5555555555555556,\"#d8576b\"],[0.6666666666666666,\"#ed7953\"],[0.7777777777777778,\"#fb9f3a\"],[0.8888888888888888,\"#fdca26\"],[1.0,\"#f0f921\"]],\"type\":\"heatmap\"}],\"heatmapgl\":[{\"colorbar\":{\"outlinewidth\":0,\"ticks\":\"\"},\"colorscale\":[[0.0,\"#0d0887\"],[0.1111111111111111,\"#46039f\"],[0.2222222222222222,\"#7201a8\"],[0.3333333333333333,\"#9c179e\"],[0.4444444444444444,\"#bd3786\"],[0.5555555555555556,\"#d8576b\"],[0.6666666666666666,\"#ed7953\"],[0.7777777777777778,\"#fb9f3a\"],[0.8888888888888888,\"#fdca26\"],[1.0,\"#f0f921\"]],\"type\":\"heatmapgl\"}],\"histogram\":[{\"marker\":{\"pattern\":{\"fillmode\":\"overlay\",\"size\":10,\"solidity\":0.2}},\"type\":\"histogram\"}],\"histogram2d\":[{\"colorbar\":{\"outlinewidth\":0,\"ticks\":\"\"},\"colorscale\":[[0.0,\"#0d0887\"],[0.1111111111111111,\"#46039f\"],[0.2222222222222222,\"#7201a8\"],[0.3333333333333333,\"#9c179e\"],[0.4444444444444444,\"#bd3786\"],[0.5555555555555556,\"#d8576b\"],[0.6666666666666666,\"#ed7953\"],[0.7777777777777778,\"#fb9f3a\"],[0.8888888888888888,\"#fdca26\"],[1.0,\"#f0f921\"]],\"type\":\"histogram2d\"}],\"histogram2dcontour\":[{\"colorbar\":{\"outlinewidth\":0,\"ticks\":\"\"},\"colorscale\":[[0.0,\"#0d0887\"],[0.1111111111111111,\"#46039f\"],[0.2222222222222222,\"#7201a8\"],[0.3333333333333333,\"#9c179e\"],[0.4444444444444444,\"#bd3786\"],[0.5555555555555556,\"#d8576b\"],[0.6666666666666666,\"#ed7953\"],[0.7777777777777778,\"#fb9f3a\"],[0.8888888888888888,\"#fdca26\"],[1.0,\"#f0f921\"]],\"type\":\"histogram2dcontour\"}],\"mesh3d\":[{\"colorbar\":{\"outlinewidth\":0,\"ticks\":\"\"},\"type\":\"mesh3d\"}],\"parcoords\":[{\"line\":{\"colorbar\":{\"outlinewidth\":0,\"ticks\":\"\"}},\"type\":\"parcoords\"}],\"pie\":[{\"automargin\":true,\"type\":\"pie\"}],\"scatter\":[{\"marker\":{\"colorbar\":{\"outlinewidth\":0,\"ticks\":\"\"}},\"type\":\"scatter\"}],\"scatter3d\":[{\"line\":{\"colorbar\":{\"outlinewidth\":0,\"ticks\":\"\"}},\"marker\":{\"colorbar\":{\"outlinewidth\":0,\"ticks\":\"\"}},\"type\":\"scatter3d\"}],\"scattercarpet\":[{\"marker\":{\"colorbar\":{\"outlinewidth\":0,\"ticks\":\"\"}},\"type\":\"scattercarpet\"}],\"scattergeo\":[{\"marker\":{\"colorbar\":{\"outlinewidth\":0,\"ticks\":\"\"}},\"type\":\"scattergeo\"}],\"scattergl\":[{\"marker\":{\"colorbar\":{\"outlinewidth\":0,\"ticks\":\"\"}},\"type\":\"scattergl\"}],\"scattermapbox\":[{\"marker\":{\"colorbar\":{\"outlinewidth\":0,\"ticks\":\"\"}},\"type\":\"scattermapbox\"}],\"scatterpolar\":[{\"marker\":{\"colorbar\":{\"outlinewidth\":0,\"ticks\":\"\"}},\"type\":\"scatterpolar\"}],\"scatterpolargl\":[{\"marker\":{\"colorbar\":{\"outlinewidth\":0,\"ticks\":\"\"}},\"type\":\"scatterpolargl\"}],\"scatterternary\":[{\"marker\":{\"colorbar\":{\"outlinewidth\":0,\"ticks\":\"\"}},\"type\":\"scatterternary\"}],\"surface\":[{\"colorbar\":{\"outlinewidth\":0,\"ticks\":\"\"},\"colorscale\":[[0.0,\"#0d0887\"],[0.1111111111111111,\"#46039f\"],[0.2222222222222222,\"#7201a8\"],[0.3333333333333333,\"#9c179e\"],[0.4444444444444444,\"#bd3786\"],[0.5555555555555556,\"#d8576b\"],[0.6666666666666666,\"#ed7953\"],[0.7777777777777778,\"#fb9f3a\"],[0.8888888888888888,\"#fdca26\"],[1.0,\"#f0f921\"]],\"type\":\"surface\"}],\"table\":[{\"cells\":{\"fill\":{\"color\":\"#EBF0F8\"},\"line\":{\"color\":\"white\"}},\"header\":{\"fill\":{\"color\":\"#C8D4E3\"},\"line\":{\"color\":\"white\"}},\"type\":\"table\"}]},\"layout\":{\"annotationdefaults\":{\"arrowcolor\":\"#2a3f5f\",\"arrowhead\":0,\"arrowwidth\":1},\"autotypenumbers\":\"strict\",\"coloraxis\":{\"colorbar\":{\"outlinewidth\":0,\"ticks\":\"\"}},\"colorscale\":{\"diverging\":[[0,\"#8e0152\"],[0.1,\"#c51b7d\"],[0.2,\"#de77ae\"],[0.3,\"#f1b6da\"],[0.4,\"#fde0ef\"],[0.5,\"#f7f7f7\"],[0.6,\"#e6f5d0\"],[0.7,\"#b8e186\"],[0.8,\"#7fbc41\"],[0.9,\"#4d9221\"],[1,\"#276419\"]],\"sequential\":[[0.0,\"#0d0887\"],[0.1111111111111111,\"#46039f\"],[0.2222222222222222,\"#7201a8\"],[0.3333333333333333,\"#9c179e\"],[0.4444444444444444,\"#bd3786\"],[0.5555555555555556,\"#d8576b\"],[0.6666666666666666,\"#ed7953\"],[0.7777777777777778,\"#fb9f3a\"],[0.8888888888888888,\"#fdca26\"],[1.0,\"#f0f921\"]],\"sequentialminus\":[[0.0,\"#0d0887\"],[0.1111111111111111,\"#46039f\"],[0.2222222222222222,\"#7201a8\"],[0.3333333333333333,\"#9c179e\"],[0.4444444444444444,\"#bd3786\"],[0.5555555555555556,\"#d8576b\"],[0.6666666666666666,\"#ed7953\"],[0.7777777777777778,\"#fb9f3a\"],[0.8888888888888888,\"#fdca26\"],[1.0,\"#f0f921\"]]},\"colorway\":[\"#636efa\",\"#EF553B\",\"#00cc96\",\"#ab63fa\",\"#FFA15A\",\"#19d3f3\",\"#FF6692\",\"#B6E880\",\"#FF97FF\",\"#FECB52\"],\"font\":{\"color\":\"#2a3f5f\"},\"geo\":{\"bgcolor\":\"white\",\"lakecolor\":\"white\",\"landcolor\":\"#E5ECF6\",\"showlakes\":true,\"showland\":true,\"subunitcolor\":\"white\"},\"hoverlabel\":{\"align\":\"left\"},\"hovermode\":\"closest\",\"mapbox\":{\"style\":\"light\"},\"paper_bgcolor\":\"white\",\"plot_bgcolor\":\"#E5ECF6\",\"polar\":{\"angularaxis\":{\"gridcolor\":\"white\",\"linecolor\":\"white\",\"ticks\":\"\"},\"bgcolor\":\"#E5ECF6\",\"radialaxis\":{\"gridcolor\":\"white\",\"linecolor\":\"white\",\"ticks\":\"\"}},\"scene\":{\"xaxis\":{\"backgroundcolor\":\"#E5ECF6\",\"gridcolor\":\"white\",\"gridwidth\":2,\"linecolor\":\"white\",\"showbackground\":true,\"ticks\":\"\",\"zerolinecolor\":\"white\"},\"yaxis\":{\"backgroundcolor\":\"#E5ECF6\",\"gridcolor\":\"white\",\"gridwidth\":2,\"linecolor\":\"white\",\"showbackground\":true,\"ticks\":\"\",\"zerolinecolor\":\"white\"},\"zaxis\":{\"backgroundcolor\":\"#E5ECF6\",\"gridcolor\":\"white\",\"gridwidth\":2,\"linecolor\":\"white\",\"showbackground\":true,\"ticks\":\"\",\"zerolinecolor\":\"white\"}},\"shapedefaults\":{\"line\":{\"color\":\"#2a3f5f\"}},\"ternary\":{\"aaxis\":{\"gridcolor\":\"white\",\"linecolor\":\"white\",\"ticks\":\"\"},\"baxis\":{\"gridcolor\":\"white\",\"linecolor\":\"white\",\"ticks\":\"\"},\"bgcolor\":\"#E5ECF6\",\"caxis\":{\"gridcolor\":\"white\",\"linecolor\":\"white\",\"ticks\":\"\"}},\"title\":{\"x\":0.05},\"xaxis\":{\"automargin\":true,\"gridcolor\":\"white\",\"linecolor\":\"white\",\"ticks\":\"\",\"title\":{\"standoff\":15},\"zerolinecolor\":\"white\",\"zerolinewidth\":2},\"yaxis\":{\"automargin\":true,\"gridcolor\":\"white\",\"linecolor\":\"white\",\"ticks\":\"\",\"title\":{\"standoff\":15},\"zerolinecolor\":\"white\",\"zerolinewidth\":2}}},\"xaxis\":{\"anchor\":\"y\",\"domain\":[0.0,1.0],\"title\":{\"text\":\"Month\"}},\"yaxis\":{\"anchor\":\"x\",\"domain\":[0.0,1.0],\"title\":{\"text\":\"AQI\"}},\"legend\":{\"title\":{\"text\":\"City\"},\"tracegroupgap\":0},\"title\":{\"text\":\"Monthly Air Quality Index 2021\"},\"plot_bgcolor\":\"light grey\"},                        {\"responsive\": true}                    ).then(function(){\n",
              "                            \n",
              "var gd = document.getElementById('a6d8d3d8-de66-4a0a-b47f-def86417d961');\n",
              "var x = new MutationObserver(function (mutations, observer) {{\n",
              "        var display = window.getComputedStyle(gd).display;\n",
              "        if (!display || display === 'none') {{\n",
              "            console.log([gd, 'removed!']);\n",
              "            Plotly.purge(gd);\n",
              "            observer.disconnect();\n",
              "        }}\n",
              "}});\n",
              "\n",
              "// Listen for the removal of the full notebook cells\n",
              "var notebookContainer = gd.closest('#notebook-container');\n",
              "if (notebookContainer) {{\n",
              "    x.observe(notebookContainer, {childList: true});\n",
              "}}\n",
              "\n",
              "// Listen for the clearing of the current output cell\n",
              "var outputEl = gd.closest('.output');\n",
              "if (outputEl) {{\n",
              "    x.observe(outputEl, {childList: true});\n",
              "}}\n",
              "\n",
              "                        })                };                            </script>        </div>\n",
              "</body>\n",
              "</html>"
            ]
          },
          "metadata": {},
          "output_type": "display_data"
        }
      ],
      "source": [
        "# line plot with plotly express\n",
        "df_aqicty_indo_line = df_aqicty_indo.copy()\n",
        "\n",
        "# dropping unused columns\n",
        "df_aqicty_indo_line.drop(['2021', '2020', '2019', '2018', '2017', 'country', 'city_only'],\n",
        "                 axis=1, inplace=True)\n",
        "\n",
        "# converting wide to long format\n",
        "df_aqicty_indo_line = df_aqicty_indo_line.melt(id_vars = ['Rank', 'City'],\n",
        "                               var_name = \"Month\", \n",
        "                               value_name = \"Air Quality Index\")\n",
        "\n",
        "# filling missing values with the backfill process\n",
        "df_aqicty_indo_line.fillna(method=\"bfill\", inplace=True)\n",
        "\n",
        "fig= px.line(df_aqicty_indo_line, y = 'Air Quality Index', \n",
        "             labels = { 'Air Quality Index': 'AQI'}, \n",
        "              x = 'Month', color = 'City',\n",
        "             title = \"Monthly Air Quality Index 2021\")\n",
        "fig.layout.plot_bgcolor = \"light grey\"\n",
        "fig.show()"
      ]
    },
    {
      "cell_type": "markdown",
      "metadata": {
        "id": "he0ZIg-lXgzY"
      },
      "source": [
        "Keypoints\n",
        "\n",
        "* Jakarta have overall high AQI with highest on July with 57.2\n",
        "\n",
        "* Pontianak has staggering rise of 86.2 AQI on November yet followed by inverse effect in cities like Bandung, Jakarta, Serang, and Jambi\n",
        "\n",
        "* Indralaya experienced healthy fall of AQI after March by almost 40 points"
      ]
    }
  ],
  "metadata": {
    "colab": {
      "collapsed_sections": [],
      "name": "01. Most Polluted Cities and Countries (IQAir Index).ipynb",
      "provenance": [],
      "toc_visible": true
    },
    "kernelspec": {
      "display_name": "Python 3",
      "name": "python3"
    },
    "language_info": {
      "name": "python"
    }
  },
  "nbformat": 4,
  "nbformat_minor": 0
}
